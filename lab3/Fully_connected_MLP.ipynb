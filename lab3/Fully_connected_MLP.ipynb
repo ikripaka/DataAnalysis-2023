{
 "cells": [
  {
   "cell_type": "code",
   "execution_count": 2,
   "id": "initial_id",
   "metadata": {
    "collapsed": true,
    "ExecuteTime": {
     "end_time": "2024-01-17T21:08:15.207008539Z",
     "start_time": "2024-01-17T21:08:15.201999809Z"
    }
   },
   "outputs": [],
   "source": [
    "import pandas as pd\n",
    "from tensorflow import keras\n",
    "from sklearn.preprocessing import MinMaxScaler\n",
    "from sklearn.model_selection import train_test_split"
   ]
  },
  {
   "cell_type": "markdown",
   "source": [
    "## Вичитуємо [Smoke Detection](https://www.kaggle.com/datasets/deepcontractor/smoke-detection-dataset/) датасет\n",
    "\n",
    "[Real-time Smoke Detection with AI-based Sensor Fusion](https://www.hackster.io/stefanblattmann/real-time-smoke-detection-with-ai-based-sensor-fusion-1086e6)\n",
    "\n",
    "1) Load data, display column names and dataset size"
   ],
   "metadata": {
    "collapsed": false
   },
   "id": "df0871fc61b38db1"
  },
  {
   "cell_type": "code",
   "outputs": [
    {
     "data": {
      "text/plain": "(62630, 16)"
     },
     "execution_count": 4,
     "metadata": {},
     "output_type": "execute_result"
    }
   ],
   "source": [
    "smoke_train = pd.read_csv(\"../lab1/smoke_detection_iot.csv\")\n",
    "smoke_train.shape"
   ],
   "metadata": {
    "collapsed": false,
    "ExecuteTime": {
     "end_time": "2024-01-17T21:10:04.591432070Z",
     "start_time": "2024-01-17T21:10:04.472295292Z"
    }
   },
   "id": "be1a4bce18148b1c",
   "execution_count": 4
  },
  {
   "cell_type": "code",
   "outputs": [
    {
     "name": "stdout",
     "output_type": "stream",
     "text": [
      "Index(['Index', 'UTC', 'Temperature[C]', 'Humidity[%]', 'TVOC[ppb]',\n",
      "       'eCO2[ppm]', 'Raw H2', 'Raw Ethanol', 'Pressure[hPa]', 'PM1.0', 'PM2.5',\n",
      "       'NC0.5', 'NC1.0', 'NC2.5', 'CNT', 'Fire Alarm'],\n",
      "      dtype='object')\n"
     ]
    }
   ],
   "source": [
    "# показуємо назви колонок\n",
    "print(smoke_train.keys())"
   ],
   "metadata": {
    "collapsed": false,
    "ExecuteTime": {
     "end_time": "2024-01-17T21:10:05.204106279Z",
     "start_time": "2024-01-17T21:10:05.199040761Z"
    }
   },
   "id": "9c53cdca4dac7667",
   "execution_count": 5
  },
  {
   "cell_type": "code",
   "outputs": [
    {
     "name": "stdout",
     "output_type": "stream",
     "text": [
      "<class 'pandas.core.frame.DataFrame'>\n",
      "RangeIndex: 62630 entries, 0 to 62629\n",
      "Data columns (total 13 columns):\n",
      " #   Column          Non-Null Count  Dtype  \n",
      "---  ------          --------------  -----  \n",
      " 0   Temperature[C]  62630 non-null  float64\n",
      " 1   Humidity[%]     62630 non-null  float64\n",
      " 2   TVOC[ppb]       62630 non-null  float64\n",
      " 3   eCO2[ppm]       62630 non-null  float64\n",
      " 4   Raw H2          62630 non-null  float64\n",
      " 5   Raw Ethanol     62630 non-null  float64\n",
      " 6   Pressure[hPa]   62630 non-null  float64\n",
      " 7   PM1.0           62630 non-null  float64\n",
      " 8   PM2.5           62630 non-null  float64\n",
      " 9   NC0.5           62630 non-null  float64\n",
      " 10  NC1.0           62630 non-null  float64\n",
      " 11  NC2.5           62630 non-null  float64\n",
      " 12  Fire Alarm      62630 non-null  float64\n",
      "dtypes: float64(13)\n",
      "memory usage: 6.2 MB\n"
     ]
    }
   ],
   "source": [
    "# змінюємо тип даних на спільний для всіх колонок\n",
    "smoke_train['TVOC[ppb]'] = smoke_train['TVOC[ppb]'].astype(float)\n",
    "smoke_train['eCO2[ppm]'] = smoke_train['eCO2[ppm]'].astype(float)\n",
    "smoke_train['Raw H2'] = smoke_train['Raw H2'].astype(float)\n",
    "smoke_train['Raw Ethanol'] = smoke_train['Raw Ethanol'].astype(float)\n",
    "smoke_train['CNT'] = smoke_train['CNT'].astype(float)\n",
    "smoke_train['Fire Alarm'] = smoke_train['Fire Alarm'].astype(float)\n",
    "\n",
    "smoke_train = smoke_train.drop(columns=['Index', 'UTC', 'CNT'])\n",
    "smoke_train.info()\n"
   ],
   "metadata": {
    "collapsed": false,
    "ExecuteTime": {
     "end_time": "2024-01-17T21:16:15.146641295Z",
     "start_time": "2024-01-17T21:16:15.102365579Z"
    }
   },
   "id": "1f9dda5771e46824",
   "execution_count": 12
  },
  {
   "cell_type": "markdown",
   "source": [
    "### Повнозв'язна нейронна мережа MLP (Multilayer Perception)"
   ],
   "metadata": {
    "collapsed": false
   },
   "id": "159351ca2d4125bb"
  },
  {
   "cell_type": "code",
   "outputs": [
    {
     "name": "stdout",
     "output_type": "stream",
     "text": [
      "50104 train samples\n",
      "12526 test samples\n"
     ]
    }
   ],
   "source": [
    "num_classes = 10\n",
    "\n",
    "X = smoke_train.drop(['Fire Alarm'], axis = 1)\n",
    "y = smoke_train['Fire Alarm']\n",
    "\n",
    "X_train, X_test, y_train, y_test = train_test_split(X, y, test_size=0.20)\n",
    "\n",
    "print(X_train.shape[0], 'train samples')\n",
    "print(X_test.shape[0], 'test samples')"
   ],
   "metadata": {
    "collapsed": false,
    "ExecuteTime": {
     "end_time": "2024-01-17T21:20:32.930745490Z",
     "start_time": "2024-01-17T21:20:32.887672890Z"
    }
   },
   "id": "ef3873b91938f91f",
   "execution_count": 13
  },
  {
   "cell_type": "code",
   "outputs": [
    {
     "data": {
      "text/plain": "MinMaxScaler()",
      "text/html": "<style>#sk-container-id-1 {color: black;}#sk-container-id-1 pre{padding: 0;}#sk-container-id-1 div.sk-toggleable {background-color: white;}#sk-container-id-1 label.sk-toggleable__label {cursor: pointer;display: block;width: 100%;margin-bottom: 0;padding: 0.3em;box-sizing: border-box;text-align: center;}#sk-container-id-1 label.sk-toggleable__label-arrow:before {content: \"▸\";float: left;margin-right: 0.25em;color: #696969;}#sk-container-id-1 label.sk-toggleable__label-arrow:hover:before {color: black;}#sk-container-id-1 div.sk-estimator:hover label.sk-toggleable__label-arrow:before {color: black;}#sk-container-id-1 div.sk-toggleable__content {max-height: 0;max-width: 0;overflow: hidden;text-align: left;background-color: #f0f8ff;}#sk-container-id-1 div.sk-toggleable__content pre {margin: 0.2em;color: black;border-radius: 0.25em;background-color: #f0f8ff;}#sk-container-id-1 input.sk-toggleable__control:checked~div.sk-toggleable__content {max-height: 200px;max-width: 100%;overflow: auto;}#sk-container-id-1 input.sk-toggleable__control:checked~label.sk-toggleable__label-arrow:before {content: \"▾\";}#sk-container-id-1 div.sk-estimator input.sk-toggleable__control:checked~label.sk-toggleable__label {background-color: #d4ebff;}#sk-container-id-1 div.sk-label input.sk-toggleable__control:checked~label.sk-toggleable__label {background-color: #d4ebff;}#sk-container-id-1 input.sk-hidden--visually {border: 0;clip: rect(1px 1px 1px 1px);clip: rect(1px, 1px, 1px, 1px);height: 1px;margin: -1px;overflow: hidden;padding: 0;position: absolute;width: 1px;}#sk-container-id-1 div.sk-estimator {font-family: monospace;background-color: #f0f8ff;border: 1px dotted black;border-radius: 0.25em;box-sizing: border-box;margin-bottom: 0.5em;}#sk-container-id-1 div.sk-estimator:hover {background-color: #d4ebff;}#sk-container-id-1 div.sk-parallel-item::after {content: \"\";width: 100%;border-bottom: 1px solid gray;flex-grow: 1;}#sk-container-id-1 div.sk-label:hover label.sk-toggleable__label {background-color: #d4ebff;}#sk-container-id-1 div.sk-serial::before {content: \"\";position: absolute;border-left: 1px solid gray;box-sizing: border-box;top: 0;bottom: 0;left: 50%;z-index: 0;}#sk-container-id-1 div.sk-serial {display: flex;flex-direction: column;align-items: center;background-color: white;padding-right: 0.2em;padding-left: 0.2em;position: relative;}#sk-container-id-1 div.sk-item {position: relative;z-index: 1;}#sk-container-id-1 div.sk-parallel {display: flex;align-items: stretch;justify-content: center;background-color: white;position: relative;}#sk-container-id-1 div.sk-item::before, #sk-container-id-1 div.sk-parallel-item::before {content: \"\";position: absolute;border-left: 1px solid gray;box-sizing: border-box;top: 0;bottom: 0;left: 50%;z-index: -1;}#sk-container-id-1 div.sk-parallel-item {display: flex;flex-direction: column;z-index: 1;position: relative;background-color: white;}#sk-container-id-1 div.sk-parallel-item:first-child::after {align-self: flex-end;width: 50%;}#sk-container-id-1 div.sk-parallel-item:last-child::after {align-self: flex-start;width: 50%;}#sk-container-id-1 div.sk-parallel-item:only-child::after {width: 0;}#sk-container-id-1 div.sk-dashed-wrapped {border: 1px dashed gray;margin: 0 0.4em 0.5em 0.4em;box-sizing: border-box;padding-bottom: 0.4em;background-color: white;}#sk-container-id-1 div.sk-label label {font-family: monospace;font-weight: bold;display: inline-block;line-height: 1.2em;}#sk-container-id-1 div.sk-label-container {text-align: center;}#sk-container-id-1 div.sk-container {/* jupyter's `normalize.less` sets `[hidden] { display: none; }` but bootstrap.min.css set `[hidden] { display: none !important; }` so we also need the `!important` here to be able to override the default hidden behavior on the sphinx rendered scikit-learn.org. See: https://github.com/scikit-learn/scikit-learn/issues/21755 */display: inline-block !important;position: relative;}#sk-container-id-1 div.sk-text-repr-fallback {display: none;}</style><div id=\"sk-container-id-1\" class=\"sk-top-container\"><div class=\"sk-text-repr-fallback\"><pre>MinMaxScaler()</pre><b>In a Jupyter environment, please rerun this cell to show the HTML representation or trust the notebook. <br />On GitHub, the HTML representation is unable to render, please try loading this page with nbviewer.org.</b></div><div class=\"sk-container\" hidden><div class=\"sk-item\"><div class=\"sk-estimator sk-toggleable\"><input class=\"sk-toggleable__control sk-hidden--visually\" id=\"sk-estimator-id-1\" type=\"checkbox\" checked><label for=\"sk-estimator-id-1\" class=\"sk-toggleable__label sk-toggleable__label-arrow\">MinMaxScaler</label><div class=\"sk-toggleable__content\"><pre>MinMaxScaler()</pre></div></div></div></div></div>"
     },
     "execution_count": 14,
     "metadata": {},
     "output_type": "execute_result"
    }
   ],
   "source": [
    "scaler = MinMaxScaler()\n",
    "scaler.fit(X_train)"
   ],
   "metadata": {
    "collapsed": false,
    "ExecuteTime": {
     "end_time": "2024-01-17T21:20:39.847098823Z",
     "start_time": "2024-01-17T21:20:39.798592259Z"
    }
   },
   "id": "53ae5b0423d3db4a",
   "execution_count": 14
  },
  {
   "cell_type": "code",
   "outputs": [],
   "source": [
    "scaled_X_train = scaler.transform(X_train) \n",
    "scaled_X_test = scaler.transform(X_test) "
   ],
   "metadata": {
    "collapsed": false,
    "ExecuteTime": {
     "end_time": "2024-01-17T21:21:01.312968970Z",
     "start_time": "2024-01-17T21:21:01.298183502Z"
    }
   },
   "id": "dacff606e4de82a7",
   "execution_count": 16
  },
  {
   "cell_type": "code",
   "outputs": [
    {
     "name": "stderr",
     "output_type": "stream",
     "text": [
      "/home/ikripaka/.local/lib/python3.10/site-packages/keras/src/layers/core/dense.py:73: UserWarning: Do not pass an `input_shape`/`input_dim` argument to a layer. When using Sequential models, prefer using an `Input(shape)` object as the first layer in the model instead.\n",
      "  super().__init__(activity_regularizer=activity_regularizer, **kwargs)\n"
     ]
    },
    {
     "data": {
      "text/plain": "\u001B[1mModel: \"sequential_1\"\u001B[0m\n",
      "text/html": "<pre style=\"white-space:pre;overflow-x:auto;line-height:normal;font-family:Menlo,'DejaVu Sans Mono',consolas,'Courier New',monospace\"><span style=\"font-weight: bold\">Model: \"sequential_1\"</span>\n</pre>\n"
     },
     "metadata": {},
     "output_type": "display_data"
    },
    {
     "data": {
      "text/plain": "┏━━━━━━━━━━━━━━━━━━━━━━━━━━━━━━━━━┳━━━━━━━━━━━━━━━━━━━━━━━━━━━┳━━━━━━━━━━━━┓\n┃\u001B[1m \u001B[0m\u001B[1mLayer (type)                   \u001B[0m\u001B[1m \u001B[0m┃\u001B[1m \u001B[0m\u001B[1mOutput Shape             \u001B[0m\u001B[1m \u001B[0m┃\u001B[1m \u001B[0m\u001B[1m   Param #\u001B[0m\u001B[1m \u001B[0m┃\n┡━━━━━━━━━━━━━━━━━━━━━━━━━━━━━━━━━╇━━━━━━━━━━━━━━━━━━━━━━━━━━━╇━━━━━━━━━━━━┩\n│ dense_3 (\u001B[38;5;33mDense\u001B[0m)                 │ (\u001B[38;5;45mNone\u001B[0m, \u001B[38;5;34m256\u001B[0m)               │      \u001B[38;5;34m3,328\u001B[0m │\n├─────────────────────────────────┼───────────────────────────┼────────────┤\n│ batch_normalization_1           │ (\u001B[38;5;45mNone\u001B[0m, \u001B[38;5;34m256\u001B[0m)               │      \u001B[38;5;34m1,024\u001B[0m │\n│ (\u001B[38;5;33mBatchNormalization\u001B[0m)            │                           │            │\n├─────────────────────────────────┼───────────────────────────┼────────────┤\n│ dense_4 (\u001B[38;5;33mDense\u001B[0m)                 │ (\u001B[38;5;45mNone\u001B[0m, \u001B[38;5;34m128\u001B[0m)               │     \u001B[38;5;34m32,896\u001B[0m │\n├─────────────────────────────────┼───────────────────────────┼────────────┤\n│ dropout_1 (\u001B[38;5;33mDropout\u001B[0m)             │ (\u001B[38;5;45mNone\u001B[0m, \u001B[38;5;34m128\u001B[0m)               │          \u001B[38;5;34m0\u001B[0m │\n├─────────────────────────────────┼───────────────────────────┼────────────┤\n│ dense_5 (\u001B[38;5;33mDense\u001B[0m)                 │ (\u001B[38;5;45mNone\u001B[0m, \u001B[38;5;34m1\u001B[0m)                 │        \u001B[38;5;34m129\u001B[0m │\n└─────────────────────────────────┴───────────────────────────┴────────────┘\n",
      "text/html": "<pre style=\"white-space:pre;overflow-x:auto;line-height:normal;font-family:Menlo,'DejaVu Sans Mono',consolas,'Courier New',monospace\">┏━━━━━━━━━━━━━━━━━━━━━━━━━━━━━━━━━┳━━━━━━━━━━━━━━━━━━━━━━━━━━━┳━━━━━━━━━━━━┓\n┃<span style=\"font-weight: bold\"> Layer (type)                    </span>┃<span style=\"font-weight: bold\"> Output Shape              </span>┃<span style=\"font-weight: bold\">    Param # </span>┃\n┡━━━━━━━━━━━━━━━━━━━━━━━━━━━━━━━━━╇━━━━━━━━━━━━━━━━━━━━━━━━━━━╇━━━━━━━━━━━━┩\n│ dense_3 (<span style=\"color: #0087ff; text-decoration-color: #0087ff\">Dense</span>)                 │ (<span style=\"color: #00d7ff; text-decoration-color: #00d7ff\">None</span>, <span style=\"color: #00af00; text-decoration-color: #00af00\">256</span>)               │      <span style=\"color: #00af00; text-decoration-color: #00af00\">3,328</span> │\n├─────────────────────────────────┼───────────────────────────┼────────────┤\n│ batch_normalization_1           │ (<span style=\"color: #00d7ff; text-decoration-color: #00d7ff\">None</span>, <span style=\"color: #00af00; text-decoration-color: #00af00\">256</span>)               │      <span style=\"color: #00af00; text-decoration-color: #00af00\">1,024</span> │\n│ (<span style=\"color: #0087ff; text-decoration-color: #0087ff\">BatchNormalization</span>)            │                           │            │\n├─────────────────────────────────┼───────────────────────────┼────────────┤\n│ dense_4 (<span style=\"color: #0087ff; text-decoration-color: #0087ff\">Dense</span>)                 │ (<span style=\"color: #00d7ff; text-decoration-color: #00d7ff\">None</span>, <span style=\"color: #00af00; text-decoration-color: #00af00\">128</span>)               │     <span style=\"color: #00af00; text-decoration-color: #00af00\">32,896</span> │\n├─────────────────────────────────┼───────────────────────────┼────────────┤\n│ dropout_1 (<span style=\"color: #0087ff; text-decoration-color: #0087ff\">Dropout</span>)             │ (<span style=\"color: #00d7ff; text-decoration-color: #00d7ff\">None</span>, <span style=\"color: #00af00; text-decoration-color: #00af00\">128</span>)               │          <span style=\"color: #00af00; text-decoration-color: #00af00\">0</span> │\n├─────────────────────────────────┼───────────────────────────┼────────────┤\n│ dense_5 (<span style=\"color: #0087ff; text-decoration-color: #0087ff\">Dense</span>)                 │ (<span style=\"color: #00d7ff; text-decoration-color: #00d7ff\">None</span>, <span style=\"color: #00af00; text-decoration-color: #00af00\">1</span>)                 │        <span style=\"color: #00af00; text-decoration-color: #00af00\">129</span> │\n└─────────────────────────────────┴───────────────────────────┴────────────┘\n</pre>\n"
     },
     "metadata": {},
     "output_type": "display_data"
    },
    {
     "data": {
      "text/plain": "\u001B[1m Total params: \u001B[0m\u001B[38;5;34m37,377\u001B[0m (146.00 KB)\n",
      "text/html": "<pre style=\"white-space:pre;overflow-x:auto;line-height:normal;font-family:Menlo,'DejaVu Sans Mono',consolas,'Courier New',monospace\"><span style=\"font-weight: bold\"> Total params: </span><span style=\"color: #00af00; text-decoration-color: #00af00\">37,377</span> (146.00 KB)\n</pre>\n"
     },
     "metadata": {},
     "output_type": "display_data"
    },
    {
     "data": {
      "text/plain": "\u001B[1m Trainable params: \u001B[0m\u001B[38;5;34m36,865\u001B[0m (144.00 KB)\n",
      "text/html": "<pre style=\"white-space:pre;overflow-x:auto;line-height:normal;font-family:Menlo,'DejaVu Sans Mono',consolas,'Courier New',monospace\"><span style=\"font-weight: bold\"> Trainable params: </span><span style=\"color: #00af00; text-decoration-color: #00af00\">36,865</span> (144.00 KB)\n</pre>\n"
     },
     "metadata": {},
     "output_type": "display_data"
    },
    {
     "data": {
      "text/plain": "\u001B[1m Non-trainable params: \u001B[0m\u001B[38;5;34m512\u001B[0m (2.00 KB)\n",
      "text/html": "<pre style=\"white-space:pre;overflow-x:auto;line-height:normal;font-family:Menlo,'DejaVu Sans Mono',consolas,'Courier New',monospace\"><span style=\"font-weight: bold\"> Non-trainable params: </span><span style=\"color: #00af00; text-decoration-color: #00af00\">512</span> (2.00 KB)\n</pre>\n"
     },
     "metadata": {},
     "output_type": "display_data"
    }
   ],
   "source": [
    "model = keras.Sequential([\n",
    "    keras.layers.Dense(256, activation=\"relu\", input_shape=(X_train.shape[-1], )),\n",
    "    keras.layers.BatchNormalization(),\n",
    "    keras.layers.Dense(128, activation=\"sigmoid\"),\n",
    "    keras.layers.Dropout(0.3),\n",
    "    keras.layers.Dense(1, activation=\"sigmoid\"),\n",
    "    ])\n",
    "model.summary()"
   ],
   "metadata": {
    "collapsed": false,
    "ExecuteTime": {
     "end_time": "2024-01-17T21:21:03.629463295Z",
     "start_time": "2024-01-17T21:21:03.572994945Z"
    }
   },
   "id": "d810a52edcc0e1ad",
   "execution_count": 17
  },
  {
   "cell_type": "code",
   "outputs": [
    {
     "name": "stdout",
     "output_type": "stream",
     "text": [
      "Epoch 1/30\n",
      "392/392 - 3s - 7ms/step - accuracy: 0.8204 - loss: 0.4017 - val_accuracy: 0.8496 - val_loss: 0.3724\n",
      "Epoch 2/30\n",
      "392/392 - 1s - 2ms/step - accuracy: 0.8924 - loss: 0.2447 - val_accuracy: 0.8744 - val_loss: 0.2535\n",
      "Epoch 3/30\n",
      "392/392 - 1s - 4ms/step - accuracy: 0.9081 - loss: 0.2125 - val_accuracy: 0.9197 - val_loss: 0.1942\n",
      "Epoch 4/30\n",
      "392/392 - 1s - 3ms/step - accuracy: 0.9170 - loss: 0.1950 - val_accuracy: 0.9226 - val_loss: 0.1809\n",
      "Epoch 5/30\n",
      "392/392 - 1s - 2ms/step - accuracy: 0.9237 - loss: 0.1828 - val_accuracy: 0.9330 - val_loss: 0.1707\n",
      "Epoch 6/30\n",
      "392/392 - 1s - 3ms/step - accuracy: 0.9298 - loss: 0.1719 - val_accuracy: 0.9166 - val_loss: 0.1903\n",
      "Epoch 7/30\n",
      "392/392 - 1s - 3ms/step - accuracy: 0.9336 - loss: 0.1655 - val_accuracy: 0.9280 - val_loss: 0.1626\n",
      "Epoch 8/30\n",
      "392/392 - 1s - 3ms/step - accuracy: 0.9390 - loss: 0.1554 - val_accuracy: 0.9433 - val_loss: 0.1429\n",
      "Epoch 9/30\n",
      "392/392 - 1s - 3ms/step - accuracy: 0.9431 - loss: 0.1466 - val_accuracy: 0.9303 - val_loss: 0.1741\n",
      "Epoch 10/30\n",
      "392/392 - 1s - 3ms/step - accuracy: 0.9450 - loss: 0.1431 - val_accuracy: 0.9493 - val_loss: 0.1278\n",
      "Epoch 11/30\n",
      "392/392 - 1s - 2ms/step - accuracy: 0.9482 - loss: 0.1350 - val_accuracy: 0.9429 - val_loss: 0.1391\n",
      "Epoch 12/30\n",
      "392/392 - 1s - 3ms/step - accuracy: 0.9514 - loss: 0.1272 - val_accuracy: 0.9483 - val_loss: 0.1182\n",
      "Epoch 13/30\n",
      "392/392 - 1s - 3ms/step - accuracy: 0.9540 - loss: 0.1213 - val_accuracy: 0.9549 - val_loss: 0.1095\n",
      "Epoch 14/30\n",
      "392/392 - 1s - 3ms/step - accuracy: 0.9559 - loss: 0.1172 - val_accuracy: 0.9666 - val_loss: 0.1038\n",
      "Epoch 15/30\n",
      "392/392 - 1s - 3ms/step - accuracy: 0.9595 - loss: 0.1115 - val_accuracy: 0.9634 - val_loss: 0.0968\n",
      "Epoch 16/30\n",
      "392/392 - 1s - 2ms/step - accuracy: 0.9629 - loss: 0.1046 - val_accuracy: 0.9510 - val_loss: 0.1166\n",
      "Epoch 17/30\n",
      "392/392 - 1s - 2ms/step - accuracy: 0.9650 - loss: 0.0987 - val_accuracy: 0.9760 - val_loss: 0.0872\n",
      "Epoch 18/30\n",
      "392/392 - 1s - 2ms/step - accuracy: 0.9678 - loss: 0.0936 - val_accuracy: 0.9725 - val_loss: 0.0832\n",
      "Epoch 19/30\n",
      "392/392 - 1s - 3ms/step - accuracy: 0.9678 - loss: 0.0926 - val_accuracy: 0.9716 - val_loss: 0.0841\n",
      "Epoch 20/30\n",
      "392/392 - 1s - 3ms/step - accuracy: 0.9702 - loss: 0.0875 - val_accuracy: 0.9640 - val_loss: 0.0832\n",
      "Epoch 21/30\n",
      "392/392 - 1s - 3ms/step - accuracy: 0.9725 - loss: 0.0832 - val_accuracy: 0.9684 - val_loss: 0.0777\n",
      "Epoch 22/30\n",
      "392/392 - 1s - 3ms/step - accuracy: 0.9741 - loss: 0.0792 - val_accuracy: 0.9801 - val_loss: 0.0703\n",
      "Epoch 23/30\n",
      "392/392 - 1s - 3ms/step - accuracy: 0.9738 - loss: 0.0785 - val_accuracy: 0.9799 - val_loss: 0.0687\n",
      "Epoch 24/30\n",
      "392/392 - 1s - 3ms/step - accuracy: 0.9745 - loss: 0.0762 - val_accuracy: 0.9796 - val_loss: 0.0710\n",
      "Epoch 25/30\n",
      "392/392 - 1s - 3ms/step - accuracy: 0.9766 - loss: 0.0729 - val_accuracy: 0.9814 - val_loss: 0.0653\n",
      "Epoch 26/30\n",
      "392/392 - 1s - 3ms/step - accuracy: 0.9762 - loss: 0.0717 - val_accuracy: 0.9672 - val_loss: 0.0799\n",
      "Epoch 27/30\n",
      "392/392 - 1s - 3ms/step - accuracy: 0.9770 - loss: 0.0680 - val_accuracy: 0.9825 - val_loss: 0.0634\n",
      "Epoch 28/30\n",
      "392/392 - 1s - 3ms/step - accuracy: 0.9787 - loss: 0.0664 - val_accuracy: 0.9812 - val_loss: 0.0599\n",
      "Epoch 29/30\n",
      "392/392 - 1s - 3ms/step - accuracy: 0.9787 - loss: 0.0654 - val_accuracy: 0.9808 - val_loss: 0.0601\n",
      "Epoch 30/30\n",
      "392/392 - 1s - 3ms/step - accuracy: 0.9792 - loss: 0.0637 - val_accuracy: 0.9817 - val_loss: 0.0567\n"
     ]
    }
   ],
   "source": [
    "model.compile(\n",
    "    optimizer=keras.optimizers.Adam(learning_rate=0.0001), \n",
    "    loss=\"binary_crossentropy\", \n",
    "    metrics=[\"accuracy\"]\n",
    ")\n",
    "model_1_fit = model.fit(\n",
    "    X_train, \n",
    "    y_train,\n",
    "    validation_data=(X_test, y_test),\n",
    "    verbose=2,\n",
    "    epochs=30, \n",
    "    batch_size=128\n",
    ")"
   ],
   "metadata": {
    "collapsed": false,
    "ExecuteTime": {
     "end_time": "2024-01-17T21:28:28.750717940Z",
     "start_time": "2024-01-17T21:27:53.258925836Z"
    }
   },
   "id": "bab3bc6d9a1a25d1",
   "execution_count": 18
  }
 ],
 "metadata": {
  "kernelspec": {
   "display_name": "Python 3",
   "language": "python",
   "name": "python3"
  },
  "language_info": {
   "codemirror_mode": {
    "name": "ipython",
    "version": 2
   },
   "file_extension": ".py",
   "mimetype": "text/x-python",
   "name": "python",
   "nbconvert_exporter": "python",
   "pygments_lexer": "ipython2",
   "version": "2.7.6"
  }
 },
 "nbformat": 4,
 "nbformat_minor": 5
}

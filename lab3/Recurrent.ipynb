{
 "cells": [
  {
   "cell_type": "code",
   "execution_count": 67,
   "id": "initial_id",
   "metadata": {
    "collapsed": true,
    "ExecuteTime": {
     "end_time": "2024-01-17T22:08:49.281342852Z",
     "start_time": "2024-01-17T22:08:49.184986358Z"
    }
   },
   "outputs": [],
   "source": [
    "import pandas as pd\n",
    "import tensorflow as tf\n",
    "import re\n",
    "import string\n",
    "\n",
    "from tensorflow import keras\n",
    "from tensorflow.keras.preprocessing.text import Tokenizer\n",
    "from tensorflow.keras.models import Sequential\n",
    "from tensorflow.keras.layers import Embedding, LSTM, Dense\n",
    "\n",
    "from sklearn.model_selection import train_test_split\n",
    "\n",
    "from nltk.corpus import stopwords\n",
    "from nltk.tokenize import word_tokenize"
   ]
  },
  {
   "cell_type": "markdown",
   "source": [
    "### Отримуємо дані"
   ],
   "metadata": {
    "collapsed": false
   },
   "id": "b07fd54c645bd6f2"
  },
  {
   "cell_type": "code",
   "outputs": [
    {
     "data": {
      "text/plain": "(40000, 3)"
     },
     "execution_count": 68,
     "metadata": {},
     "output_type": "execute_result"
    }
   ],
   "source": [
    "df = pd.read_csv('../lab2/amazon_reviews.csv',  header=None, nrows=40000)\n",
    "df.columns = ['Polarity', 'Title', 'Review']\n",
    "df.shape"
   ],
   "metadata": {
    "collapsed": false,
    "ExecuteTime": {
     "end_time": "2024-01-17T22:08:49.527578047Z",
     "start_time": "2024-01-17T22:08:49.283299554Z"
    }
   },
   "id": "b3e74ababe20da85",
   "execution_count": 68
  },
  {
   "cell_type": "code",
   "outputs": [
    {
     "data": {
      "text/plain": "   Polarity                                              Title  \\\n0         2                                           Great CD   \n1         2  One of the best game music soundtracks - for a...   \n2         1                   Batteries died within a year ...   \n3         2              works fine, but Maha Energy is better   \n4         2                       Great for the non-audiophile   \n\n                                              Review  \n0  My lovely Pat has one of the GREAT voices of h...  \n1  Despite the fact that I have only played a sma...  \n2  I bought this charger in Jul 2003 and it worke...  \n3  Check out Maha Energy's website. Their Powerex...  \n4  Reviewed quite a bit of the combo players and ...  ",
      "text/html": "<div>\n<style scoped>\n    .dataframe tbody tr th:only-of-type {\n        vertical-align: middle;\n    }\n\n    .dataframe tbody tr th {\n        vertical-align: top;\n    }\n\n    .dataframe thead th {\n        text-align: right;\n    }\n</style>\n<table border=\"1\" class=\"dataframe\">\n  <thead>\n    <tr style=\"text-align: right;\">\n      <th></th>\n      <th>Polarity</th>\n      <th>Title</th>\n      <th>Review</th>\n    </tr>\n  </thead>\n  <tbody>\n    <tr>\n      <th>0</th>\n      <td>2</td>\n      <td>Great CD</td>\n      <td>My lovely Pat has one of the GREAT voices of h...</td>\n    </tr>\n    <tr>\n      <th>1</th>\n      <td>2</td>\n      <td>One of the best game music soundtracks - for a...</td>\n      <td>Despite the fact that I have only played a sma...</td>\n    </tr>\n    <tr>\n      <th>2</th>\n      <td>1</td>\n      <td>Batteries died within a year ...</td>\n      <td>I bought this charger in Jul 2003 and it worke...</td>\n    </tr>\n    <tr>\n      <th>3</th>\n      <td>2</td>\n      <td>works fine, but Maha Energy is better</td>\n      <td>Check out Maha Energy's website. Their Powerex...</td>\n    </tr>\n    <tr>\n      <th>4</th>\n      <td>2</td>\n      <td>Great for the non-audiophile</td>\n      <td>Reviewed quite a bit of the combo players and ...</td>\n    </tr>\n  </tbody>\n</table>\n</div>"
     },
     "execution_count": 69,
     "metadata": {},
     "output_type": "execute_result"
    }
   ],
   "source": [
    "df.head()"
   ],
   "metadata": {
    "collapsed": false,
    "ExecuteTime": {
     "end_time": "2024-01-17T22:08:49.528721620Z",
     "start_time": "2024-01-17T22:08:49.522280246Z"
    }
   },
   "id": "e91b4594792b8bab",
   "execution_count": 69
  },
  {
   "cell_type": "markdown",
   "source": [
    "### Препроцесинг"
   ],
   "metadata": {
    "collapsed": false
   },
   "id": "89172de21fbb028e"
  },
  {
   "cell_type": "code",
   "outputs": [
    {
     "data": {
      "text/plain": "   Polarity                                             Review\n0         2  My lovely Pat has one of the GREAT voices of h...\n1         2  Despite the fact that I have only played a sma...\n2         1  I bought this charger in Jul 2003 and it worke...\n3         2  Check out Maha Energy's website. Their Powerex...\n4         2  Reviewed quite a bit of the combo players and ...\n5         1  I also began having the incorrect disc problem...\n6         1  I love the style of this, but after a couple y...\n7         1  I cannot scroll through a DVD menu that is set...\n8         2  Exotic tales of the Orient from the 1930's. \"D...\n9         1  Firstly,I enjoyed the format and tone of the b...",
      "text/html": "<div>\n<style scoped>\n    .dataframe tbody tr th:only-of-type {\n        vertical-align: middle;\n    }\n\n    .dataframe tbody tr th {\n        vertical-align: top;\n    }\n\n    .dataframe thead th {\n        text-align: right;\n    }\n</style>\n<table border=\"1\" class=\"dataframe\">\n  <thead>\n    <tr style=\"text-align: right;\">\n      <th></th>\n      <th>Polarity</th>\n      <th>Review</th>\n    </tr>\n  </thead>\n  <tbody>\n    <tr>\n      <th>0</th>\n      <td>2</td>\n      <td>My lovely Pat has one of the GREAT voices of h...</td>\n    </tr>\n    <tr>\n      <th>1</th>\n      <td>2</td>\n      <td>Despite the fact that I have only played a sma...</td>\n    </tr>\n    <tr>\n      <th>2</th>\n      <td>1</td>\n      <td>I bought this charger in Jul 2003 and it worke...</td>\n    </tr>\n    <tr>\n      <th>3</th>\n      <td>2</td>\n      <td>Check out Maha Energy's website. Their Powerex...</td>\n    </tr>\n    <tr>\n      <th>4</th>\n      <td>2</td>\n      <td>Reviewed quite a bit of the combo players and ...</td>\n    </tr>\n    <tr>\n      <th>5</th>\n      <td>1</td>\n      <td>I also began having the incorrect disc problem...</td>\n    </tr>\n    <tr>\n      <th>6</th>\n      <td>1</td>\n      <td>I love the style of this, but after a couple y...</td>\n    </tr>\n    <tr>\n      <th>7</th>\n      <td>1</td>\n      <td>I cannot scroll through a DVD menu that is set...</td>\n    </tr>\n    <tr>\n      <th>8</th>\n      <td>2</td>\n      <td>Exotic tales of the Orient from the 1930's. \"D...</td>\n    </tr>\n    <tr>\n      <th>9</th>\n      <td>1</td>\n      <td>Firstly,I enjoyed the format and tone of the b...</td>\n    </tr>\n  </tbody>\n</table>\n</div>"
     },
     "execution_count": 70,
     "metadata": {},
     "output_type": "execute_result"
    }
   ],
   "source": [
    "# Відділяємо непотрібну колонку\n",
    "Data = df[['Polarity', 'Review']].reset_index(drop=True)\n",
    "Data.head(10)"
   ],
   "metadata": {
    "collapsed": false,
    "ExecuteTime": {
     "end_time": "2024-01-17T22:08:49.530464657Z",
     "start_time": "2024-01-17T22:08:49.522445523Z"
    }
   },
   "id": "746f713879c472cb",
   "execution_count": 70
  },
  {
   "cell_type": "code",
   "outputs": [
    {
     "name": "stdout",
     "output_type": "stream",
     "text": [
      "<class 'pandas.core.frame.DataFrame'>\n",
      "RangeIndex: 40000 entries, 0 to 39999\n",
      "Data columns (total 2 columns):\n",
      " #   Column    Non-Null Count  Dtype \n",
      "---  ------    --------------  ----- \n",
      " 0   Polarity  40000 non-null  int64 \n",
      " 1   Review    40000 non-null  object\n",
      "dtypes: int64(1), object(1)\n",
      "memory usage: 625.1+ KB\n"
     ]
    }
   ],
   "source": [
    "Data.info()"
   ],
   "metadata": {
    "collapsed": false,
    "ExecuteTime": {
     "end_time": "2024-01-17T22:08:49.531406941Z",
     "start_time": "2024-01-17T22:08:49.522530028Z"
    }
   },
   "id": "2ba1bb27cbb0b272",
   "execution_count": 71
  },
  {
   "cell_type": "code",
   "outputs": [
    {
     "data": {
      "text/plain": "Polarity    0\nTitle       3\nReview      0\ndtype: int64"
     },
     "execution_count": 72,
     "metadata": {},
     "output_type": "execute_result"
    }
   ],
   "source": [
    "# нема жодних нульових параметрів\n",
    "df.isnull().sum()"
   ],
   "metadata": {
    "collapsed": false,
    "ExecuteTime": {
     "end_time": "2024-01-17T22:08:49.587844246Z",
     "start_time": "2024-01-17T22:08:49.522637003Z"
    }
   },
   "id": "97dacb90bb8e1739",
   "execution_count": 72
  },
  {
   "cell_type": "markdown",
   "source": [
    "### Токенізація"
   ],
   "metadata": {
    "collapsed": false
   },
   "id": "d31ea11208af8d3"
  },
  {
   "cell_type": "code",
   "outputs": [
    {
     "name": "stdout",
     "output_type": "stream",
     "text": [
      "My lovely Pat has one of the GREAT voices of her generation. I have listened to this CD for YEARS and I still LOVE IT. When I'm in a good mood it makes me feel better. A bad mood just evaporates like sugar in the rain. This CD just oozes LIFE. Vocals are jusat STUUNNING and lyrics just kill. One of life's hidden gems. This is a desert isle CD in my book. Why she never made it big is just beyond me. Everytime I play this, no matter black, white, young, old, male, female EVERYBODY says one thing \"Who was that singing ?\"\n"
     ]
    },
    {
     "data": {
      "text/plain": "['My',\n 'lovely',\n 'Pat',\n 'has',\n 'one',\n 'of',\n 'the',\n 'GREAT',\n 'voices',\n 'of',\n 'her',\n 'generation',\n '.',\n 'I',\n 'have',\n 'listened',\n 'to',\n 'this',\n 'CD',\n 'for',\n 'YEARS',\n 'and',\n 'I',\n 'still',\n 'LOVE',\n 'IT',\n '.',\n 'When',\n 'I',\n \"'m\",\n 'in',\n 'a',\n 'good',\n 'mood',\n 'it',\n 'makes',\n 'me',\n 'feel',\n 'better',\n '.',\n 'A',\n 'bad',\n 'mood',\n 'just',\n 'evaporates',\n 'like',\n 'sugar',\n 'in',\n 'the',\n 'rain',\n '.',\n 'This',\n 'CD',\n 'just',\n 'oozes',\n 'LIFE',\n '.',\n 'Vocals',\n 'are',\n 'jusat',\n 'STUUNNING',\n 'and',\n 'lyrics',\n 'just',\n 'kill',\n '.',\n 'One',\n 'of',\n 'life',\n \"'s\",\n 'hidden',\n 'gems',\n '.',\n 'This',\n 'is',\n 'a',\n 'desert',\n 'isle',\n 'CD',\n 'in',\n 'my',\n 'book',\n '.',\n 'Why',\n 'she',\n 'never',\n 'made',\n 'it',\n 'big',\n 'is',\n 'just',\n 'beyond',\n 'me',\n '.',\n 'Everytime',\n 'I',\n 'play',\n 'this',\n ',',\n 'no',\n 'matter',\n 'black',\n ',',\n 'white',\n ',',\n 'young',\n ',',\n 'old',\n ',',\n 'male',\n ',',\n 'female',\n 'EVERYBODY',\n 'says',\n 'one',\n 'thing',\n '``',\n 'Who',\n 'was',\n 'that',\n 'singing',\n '?',\n \"''\"]"
     },
     "execution_count": 73,
     "metadata": {},
     "output_type": "execute_result"
    }
   ],
   "source": [
    "# Токенізуймо для прикладу один відгук\n",
    "print(Data['Review'][0])\n",
    "words = word_tokenize(Data['Review'][0])\n",
    "words"
   ],
   "metadata": {
    "collapsed": false,
    "ExecuteTime": {
     "end_time": "2024-01-17T22:08:49.611080462Z",
     "start_time": "2024-01-17T22:08:49.527572990Z"
    }
   },
   "id": "c421f5c05bda7a75",
   "execution_count": 73
  },
  {
   "cell_type": "markdown",
   "source": [
    "### Видаляємо стоп-слова та пунктуацію"
   ],
   "metadata": {
    "collapsed": false
   },
   "id": "503f8412b19dab2d"
  },
  {
   "cell_type": "code",
   "outputs": [
    {
     "data": {
      "text/plain": "       Polarity                                             Review\n0             2  lovely pat one great voices generation listene...\n1             2  despite fact played small portion game music h...\n2             1  bought charger jul worked ok design nice conve...\n3             2  check maha energy website powerex mh c f charg...\n4             2  reviewed quite bit combo players hesitant due ...\n...         ...                                                ...\n39995         2  thought writing good soundtrack excellent cine...\n39996         1  garden state starring zach braff natalie portm...\n39997         2  first zack braff garden state seems beautiful ...\n39998         1            slow avg story line done hundred times \n39999         1  based press garden state received expected som...\n\n[40000 rows x 2 columns]",
      "text/html": "<div>\n<style scoped>\n    .dataframe tbody tr th:only-of-type {\n        vertical-align: middle;\n    }\n\n    .dataframe tbody tr th {\n        vertical-align: top;\n    }\n\n    .dataframe thead th {\n        text-align: right;\n    }\n</style>\n<table border=\"1\" class=\"dataframe\">\n  <thead>\n    <tr style=\"text-align: right;\">\n      <th></th>\n      <th>Polarity</th>\n      <th>Review</th>\n    </tr>\n  </thead>\n  <tbody>\n    <tr>\n      <th>0</th>\n      <td>2</td>\n      <td>lovely pat one great voices generation listene...</td>\n    </tr>\n    <tr>\n      <th>1</th>\n      <td>2</td>\n      <td>despite fact played small portion game music h...</td>\n    </tr>\n    <tr>\n      <th>2</th>\n      <td>1</td>\n      <td>bought charger jul worked ok design nice conve...</td>\n    </tr>\n    <tr>\n      <th>3</th>\n      <td>2</td>\n      <td>check maha energy website powerex mh c f charg...</td>\n    </tr>\n    <tr>\n      <th>4</th>\n      <td>2</td>\n      <td>reviewed quite bit combo players hesitant due ...</td>\n    </tr>\n    <tr>\n      <th>...</th>\n      <td>...</td>\n      <td>...</td>\n    </tr>\n    <tr>\n      <th>39995</th>\n      <td>2</td>\n      <td>thought writing good soundtrack excellent cine...</td>\n    </tr>\n    <tr>\n      <th>39996</th>\n      <td>1</td>\n      <td>garden state starring zach braff natalie portm...</td>\n    </tr>\n    <tr>\n      <th>39997</th>\n      <td>2</td>\n      <td>first zack braff garden state seems beautiful ...</td>\n    </tr>\n    <tr>\n      <th>39998</th>\n      <td>1</td>\n      <td>slow avg story line done hundred times</td>\n    </tr>\n    <tr>\n      <th>39999</th>\n      <td>1</td>\n      <td>based press garden state received expected som...</td>\n    </tr>\n  </tbody>\n</table>\n<p>40000 rows × 2 columns</p>\n</div>"
     },
     "execution_count": 74,
     "metadata": {},
     "output_type": "execute_result"
    }
   ],
   "source": [
    "def clean_text(text): \n",
    "    text = str(text) # Конвертація вхідного тексту у строку\n",
    "    text = text.lower() #Перетворення тексту у нижній регістр\n",
    "    text = re.sub(\"\\d\", \" \", text) #Видалення всіх цифр з тексту та заміна їх на пробіли\n",
    "    text = re.sub(\"@\\S+\", \" \", text) #Видалення слів, які починаються з символу \"@\" та заміна їх на пробіли\n",
    "    text = re.sub(\"https*\\S+\", \" \", text) #Видалення посилань та заміна на пробіли\n",
    "    text = re.sub(\"#\\S+\", \" \", text) #Видалення слів, які починаються з символу \"#\"\n",
    "    text = re.sub('[%s]' % re.escape(string.punctuation), ' ', text) #Видалення всіх знаків пунктуації\n",
    "    text = re.sub('\\n', ' ', text) #Видалення символів нового рядка\n",
    "    text = re.sub('\\s{2,}',' ', text)  #Заміна двох або більше пробілів на один\n",
    "    stop_words = stopwords.words(\"english\") #Створення списку стоп-слів для англ. мови за допомогою бібліотеки nltk\n",
    "    text = ' '.join([word for word in text.split(' ') if word not in stop_words]) #Розбиття тексту на слова, видалення стоп-слів і з'єднання залишених слів назад в текст\n",
    "    return text\n",
    "\n",
    "Data['Review'] = [clean_text(review) for review in Data['Review']]\n",
    "Data"
   ],
   "metadata": {
    "collapsed": false,
    "ExecuteTime": {
     "end_time": "2024-01-17T22:08:59.850547862Z",
     "start_time": "2024-01-17T22:08:49.541569720Z"
    }
   },
   "id": "372e80dba03da0bb",
   "execution_count": 74
  },
  {
   "cell_type": "markdown",
   "source": [
    "### RNN (Recurrent Neural Nertwork) \n",
    "[використовуючи тексти, що були використані у 2 лабораторній роботі]"
   ],
   "metadata": {
    "collapsed": false
   },
   "id": "d71b3bd012e327ae"
  },
  {
   "cell_type": "code",
   "outputs": [],
   "source": [
    "X_train, X_test, y_train, y_test = train_test_split(Data['Review'], Data['Polarity'], test_size=0.30)"
   ],
   "metadata": {
    "collapsed": false,
    "ExecuteTime": {
     "end_time": "2024-01-17T22:08:59.933354143Z",
     "start_time": "2024-01-17T22:08:59.847553345Z"
    }
   },
   "id": "e45d3c679708cc63",
   "execution_count": 75
  },
  {
   "cell_type": "code",
   "outputs": [],
   "source": [
    "vocab_size = 10000\n",
    "oov_token = \"\"\n",
    "tokenizer = Tokenizer(num_words = vocab_size, oov_token=oov_token)\n",
    "tokenizer.fit_on_texts(X_train)"
   ],
   "metadata": {
    "collapsed": false,
    "ExecuteTime": {
     "end_time": "2024-01-17T22:09:00.931783572Z",
     "start_time": "2024-01-17T22:08:59.890161375Z"
    }
   },
   "id": "d1b1ca35315029a1",
   "execution_count": 76
  },
  {
   "cell_type": "code",
   "outputs": [],
   "source": [
    "X_train_text_sequences = tokenizer.texts_to_sequences(X_train)\n",
    "X_test_text_sequences = tokenizer.texts_to_sequences(X_test)"
   ],
   "metadata": {
    "collapsed": false,
    "ExecuteTime": {
     "end_time": "2024-01-17T22:09:01.804375939Z",
     "start_time": "2024-01-17T22:09:00.943409079Z"
    }
   },
   "id": "273fbdc62b27f95",
   "execution_count": 77
  },
  {
   "cell_type": "code",
   "outputs": [
    {
     "data": {
      "text/plain": "(28000, 2000)"
     },
     "execution_count": 78,
     "metadata": {},
     "output_type": "execute_result"
    }
   ],
   "source": [
    "max_length = 2000\n",
    "padding_type = \"post\"\n",
    "trunction_type=\"post\"\n",
    "X_train = keras.utils.pad_sequences(X_train_text_sequences,maxlen=max_length, padding=padding_type, truncating=trunction_type)\n",
    "X_test = keras.utils.pad_sequences(X_test_text_sequences,maxlen=max_length, padding=padding_type, truncating=trunction_type)\n",
    "X_train.shape"
   ],
   "metadata": {
    "collapsed": false,
    "ExecuteTime": {
     "end_time": "2024-01-17T22:09:02.098911432Z",
     "start_time": "2024-01-17T22:09:01.811340251Z"
    }
   },
   "id": "a3b0da25e5d04242",
   "execution_count": 78
  },
  {
   "cell_type": "code",
   "outputs": [
    {
     "ename": "ValueError",
     "evalue": "Unrecognized keyword arguments passed to Embedding: {'input_length': 2000}",
     "output_type": "error",
     "traceback": [
      "\u001B[0;31m---------------------------------------------------------------------------\u001B[0m",
      "\u001B[0;31mValueError\u001B[0m                                Traceback (most recent call last)",
      "Cell \u001B[0;32mIn[79], line 4\u001B[0m\n\u001B[1;32m      1\u001B[0m emb_dim \u001B[38;5;241m=\u001B[39m \u001B[38;5;241m128\u001B[39m\n\u001B[1;32m      3\u001B[0m model \u001B[38;5;241m=\u001B[39m Sequential()\n\u001B[0;32m----> 4\u001B[0m model\u001B[38;5;241m.\u001B[39madd(\u001B[43mEmbedding\u001B[49m\u001B[43m(\u001B[49m\u001B[38;5;28;43mlen\u001B[39;49m\u001B[43m(\u001B[49m\u001B[43mtokenizer\u001B[49m\u001B[38;5;241;43m.\u001B[39;49m\u001B[43mword_index\u001B[49m\u001B[43m)\u001B[49m\u001B[43m \u001B[49m\u001B[38;5;241;43m+\u001B[39;49m\u001B[43m \u001B[49m\u001B[38;5;241;43m1\u001B[39;49m\u001B[43m,\u001B[49m\u001B[43m \u001B[49m\u001B[43memb_dim\u001B[49m\u001B[43m,\u001B[49m\u001B[43m \u001B[49m\u001B[43minput_length\u001B[49m\u001B[38;5;241;43m=\u001B[39;49m\u001B[43mmax_length\u001B[49m\u001B[43m)\u001B[49m)\n\u001B[1;32m      5\u001B[0m model\u001B[38;5;241m.\u001B[39madd(LSTM(\u001B[38;5;241m64\u001B[39m))\n\u001B[1;32m      6\u001B[0m model\u001B[38;5;241m.\u001B[39madd(Dense(\u001B[38;5;241m1\u001B[39m, activation\u001B[38;5;241m=\u001B[39m\u001B[38;5;124m'\u001B[39m\u001B[38;5;124mselu\u001B[39m\u001B[38;5;124m'\u001B[39m))\n",
      "File \u001B[0;32m~/.local/lib/python3.10/site-packages/keras/src/layers/core/embedding.py:69\u001B[0m, in \u001B[0;36mEmbedding.__init__\u001B[0;34m(self, input_dim, output_dim, embeddings_initializer, embeddings_regularizer, embeddings_constraint, mask_zero, **kwargs)\u001B[0m\n\u001B[1;32m     59\u001B[0m \u001B[38;5;28;01mdef\u001B[39;00m \u001B[38;5;21m__init__\u001B[39m(\n\u001B[1;32m     60\u001B[0m     \u001B[38;5;28mself\u001B[39m,\n\u001B[1;32m     61\u001B[0m     input_dim,\n\u001B[0;32m   (...)\u001B[0m\n\u001B[1;32m     67\u001B[0m     \u001B[38;5;241m*\u001B[39m\u001B[38;5;241m*\u001B[39mkwargs,\n\u001B[1;32m     68\u001B[0m ):\n\u001B[0;32m---> 69\u001B[0m     \u001B[38;5;28;43msuper\u001B[39;49m\u001B[43m(\u001B[49m\u001B[43m)\u001B[49m\u001B[38;5;241;43m.\u001B[39;49m\u001B[38;5;21;43m__init__\u001B[39;49m\u001B[43m(\u001B[49m\u001B[38;5;241;43m*\u001B[39;49m\u001B[38;5;241;43m*\u001B[39;49m\u001B[43mkwargs\u001B[49m\u001B[43m)\u001B[49m\n\u001B[1;32m     70\u001B[0m     \u001B[38;5;28mself\u001B[39m\u001B[38;5;241m.\u001B[39minput_dim \u001B[38;5;241m=\u001B[39m input_dim\n\u001B[1;32m     71\u001B[0m     \u001B[38;5;28mself\u001B[39m\u001B[38;5;241m.\u001B[39moutput_dim \u001B[38;5;241m=\u001B[39m output_dim\n",
      "File \u001B[0;32m~/.local/lib/python3.10/site-packages/keras/src/layers/layer.py:264\u001B[0m, in \u001B[0;36mLayer.__init__\u001B[0;34m(self, activity_regularizer, trainable, dtype, autocast, name, **kwargs)\u001B[0m\n\u001B[1;32m    262\u001B[0m     \u001B[38;5;28mself\u001B[39m\u001B[38;5;241m.\u001B[39m_input_shape_arg \u001B[38;5;241m=\u001B[39m input_shape_arg\n\u001B[1;32m    263\u001B[0m \u001B[38;5;28;01mif\u001B[39;00m kwargs:\n\u001B[0;32m--> 264\u001B[0m     \u001B[38;5;28;01mraise\u001B[39;00m \u001B[38;5;167;01mValueError\u001B[39;00m(\n\u001B[1;32m    265\u001B[0m         \u001B[38;5;124m\"\u001B[39m\u001B[38;5;124mUnrecognized keyword arguments \u001B[39m\u001B[38;5;124m\"\u001B[39m\n\u001B[1;32m    266\u001B[0m         \u001B[38;5;124mf\u001B[39m\u001B[38;5;124m\"\u001B[39m\u001B[38;5;124mpassed to \u001B[39m\u001B[38;5;132;01m{\u001B[39;00m\u001B[38;5;28mself\u001B[39m\u001B[38;5;241m.\u001B[39m\u001B[38;5;18m__class__\u001B[39m\u001B[38;5;241m.\u001B[39m\u001B[38;5;18m__name__\u001B[39m\u001B[38;5;132;01m}\u001B[39;00m\u001B[38;5;124m: \u001B[39m\u001B[38;5;132;01m{\u001B[39;00mkwargs\u001B[38;5;132;01m}\u001B[39;00m\u001B[38;5;124m\"\u001B[39m\n\u001B[1;32m    267\u001B[0m     )\n\u001B[1;32m    269\u001B[0m \u001B[38;5;28mself\u001B[39m\u001B[38;5;241m.\u001B[39mbuilt \u001B[38;5;241m=\u001B[39m \u001B[38;5;28;01mFalse\u001B[39;00m\n\u001B[1;32m    270\u001B[0m \u001B[38;5;28mself\u001B[39m\u001B[38;5;241m.\u001B[39mdtype_policy \u001B[38;5;241m=\u001B[39m mixed_precision\u001B[38;5;241m.\u001B[39mresolve_policy(dtype)\n",
      "\u001B[0;31mValueError\u001B[0m: Unrecognized keyword arguments passed to Embedding: {'input_length': 2000}"
     ]
    }
   ],
   "source": [
    "emb_dim = 128\n",
    "\n",
    "model = Sequential()\n",
    "model.add(Embedding(len(tokenizer.word_index) + 1, emb_dim, input_length=max_length))\n",
    "model.add(LSTM(64))\n",
    "model.add(Dense(1, activation='selu'))"
   ],
   "metadata": {
    "collapsed": false,
    "ExecuteTime": {
     "end_time": "2024-01-17T22:09:02.149623325Z",
     "start_time": "2024-01-17T22:09:02.099118764Z"
    }
   },
   "id": "3263f303478c0279",
   "execution_count": 79
  },
  {
   "cell_type": "code",
   "outputs": [],
   "source": [
    "model.compile(optimizer='adam',\n",
    "              loss = tf.keras.losses.binary_crossentropy,\n",
    "              metrics=['accuracy']\n",
    ")"
   ],
   "metadata": {
    "collapsed": false,
    "ExecuteTime": {
     "start_time": "2024-01-17T22:09:02.138922899Z"
    }
   },
   "id": "66d0e4d922e86bab",
   "execution_count": null
  },
  {
   "cell_type": "code",
   "outputs": [],
   "source": [
    "model.fit(X_train, y_train, epochs=2, validation_data=(X_test, y_test))"
   ],
   "metadata": {
    "collapsed": false,
    "ExecuteTime": {
     "start_time": "2024-01-17T22:09:02.141397070Z"
    }
   },
   "id": "78108ae59d744cc4",
   "execution_count": null
  },
  {
   "cell_type": "code",
   "outputs": [],
   "source": [
    "loss, accuracy = model.evaluate(X_test, y_test)\n",
    "print(loss)\n",
    "print(accuracy)"
   ],
   "metadata": {
    "collapsed": false,
    "ExecuteTime": {
     "start_time": "2024-01-17T22:09:02.144321643Z"
    }
   },
   "id": "ee28f770a8ad76d6",
   "execution_count": null
  },
  {
   "cell_type": "code",
   "outputs": [],
   "source": [],
   "metadata": {
    "collapsed": false,
    "ExecuteTime": {
     "start_time": "2024-01-17T22:09:02.167762279Z"
    }
   },
   "id": "deaf1b3ec1ea98ca"
  }
 ],
 "metadata": {
  "kernelspec": {
   "display_name": "Python 3",
   "language": "python",
   "name": "python3"
  },
  "language_info": {
   "codemirror_mode": {
    "name": "ipython",
    "version": 2
   },
   "file_extension": ".py",
   "mimetype": "text/x-python",
   "name": "python",
   "nbconvert_exporter": "python",
   "pygments_lexer": "ipython2",
   "version": "2.7.6"
  }
 },
 "nbformat": 4,
 "nbformat_minor": 5
}

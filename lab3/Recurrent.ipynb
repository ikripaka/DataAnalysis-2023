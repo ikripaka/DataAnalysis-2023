{
 "cells": [
  {
   "cell_type": "code",
   "execution_count": 1,
   "id": "initial_id",
   "metadata": {
    "ExecuteTime": {
     "end_time": "2024-01-17T22:08:49.281342852Z",
     "start_time": "2024-01-17T22:08:49.184986358Z"
    },
    "collapsed": true
   },
   "outputs": [
    {
     "name": "stderr",
     "output_type": "stream",
     "text": [
      "2024-01-19 22:32:55.107156: I tensorflow/core/platform/cpu_feature_guard.cc:182] This TensorFlow binary is optimized to use available CPU instructions in performance-critical operations.\n",
      "To enable the following instructions: AVX2 FMA, in other operations, rebuild TensorFlow with the appropriate compiler flags.\n"
     ]
    }
   ],
   "source": [
    "import pandas as pd\n",
    "import tensorflow as tf\n",
    "import re\n",
    "import string\n",
    "\n",
    "from tensorflow import keras\n",
    "from tensorflow.keras.preprocessing.text import Tokenizer\n",
    "from tensorflow.keras.models import Sequential\n",
    "from tensorflow.keras.layers import Embedding, LSTM, Dense\n",
    "\n",
    "from sklearn.model_selection import train_test_split\n",
    "\n",
    "from nltk.corpus import stopwords\n",
    "from nltk.tokenize import word_tokenize"
   ]
  },
  {
   "cell_type": "markdown",
   "id": "b07fd54c645bd6f2",
   "metadata": {
    "collapsed": false
   },
   "source": [
    "### Отримуємо дані"
   ]
  },
  {
   "cell_type": "code",
   "execution_count": 3,
   "id": "b3e74ababe20da85",
   "metadata": {
    "ExecuteTime": {
     "end_time": "2024-01-17T22:08:49.527578047Z",
     "start_time": "2024-01-17T22:08:49.283299554Z"
    },
    "collapsed": false
   },
   "outputs": [
    {
     "data": {
      "text/plain": [
       "(40000, 3)"
      ]
     },
     "execution_count": 3,
     "metadata": {},
     "output_type": "execute_result"
    }
   ],
   "source": [
    "df = pd.read_csv('../lab2/amazon_reviews.csv',  header=None, nrows=40000)\n",
    "df.columns = ['Polarity', 'Title', 'Review']\n",
    "df.shape"
   ]
  },
  {
   "cell_type": "code",
   "execution_count": 4,
   "id": "e91b4594792b8bab",
   "metadata": {
    "ExecuteTime": {
     "end_time": "2024-01-17T22:08:49.528721620Z",
     "start_time": "2024-01-17T22:08:49.522280246Z"
    },
    "collapsed": false
   },
   "outputs": [
    {
     "data": {
      "text/html": [
       "<div>\n",
       "<style scoped>\n",
       "    .dataframe tbody tr th:only-of-type {\n",
       "        vertical-align: middle;\n",
       "    }\n",
       "\n",
       "    .dataframe tbody tr th {\n",
       "        vertical-align: top;\n",
       "    }\n",
       "\n",
       "    .dataframe thead th {\n",
       "        text-align: right;\n",
       "    }\n",
       "</style>\n",
       "<table border=\"1\" class=\"dataframe\">\n",
       "  <thead>\n",
       "    <tr style=\"text-align: right;\">\n",
       "      <th></th>\n",
       "      <th>Polarity</th>\n",
       "      <th>Title</th>\n",
       "      <th>Review</th>\n",
       "    </tr>\n",
       "  </thead>\n",
       "  <tbody>\n",
       "    <tr>\n",
       "      <th>0</th>\n",
       "      <td>2</td>\n",
       "      <td>Great CD</td>\n",
       "      <td>My lovely Pat has one of the GREAT voices of h...</td>\n",
       "    </tr>\n",
       "    <tr>\n",
       "      <th>1</th>\n",
       "      <td>2</td>\n",
       "      <td>One of the best game music soundtracks - for a...</td>\n",
       "      <td>Despite the fact that I have only played a sma...</td>\n",
       "    </tr>\n",
       "    <tr>\n",
       "      <th>2</th>\n",
       "      <td>1</td>\n",
       "      <td>Batteries died within a year ...</td>\n",
       "      <td>I bought this charger in Jul 2003 and it worke...</td>\n",
       "    </tr>\n",
       "    <tr>\n",
       "      <th>3</th>\n",
       "      <td>2</td>\n",
       "      <td>works fine, but Maha Energy is better</td>\n",
       "      <td>Check out Maha Energy's website. Their Powerex...</td>\n",
       "    </tr>\n",
       "    <tr>\n",
       "      <th>4</th>\n",
       "      <td>2</td>\n",
       "      <td>Great for the non-audiophile</td>\n",
       "      <td>Reviewed quite a bit of the combo players and ...</td>\n",
       "    </tr>\n",
       "  </tbody>\n",
       "</table>\n",
       "</div>"
      ],
      "text/plain": [
       "   Polarity                                              Title  \\\n",
       "0         2                                           Great CD   \n",
       "1         2  One of the best game music soundtracks - for a...   \n",
       "2         1                   Batteries died within a year ...   \n",
       "3         2              works fine, but Maha Energy is better   \n",
       "4         2                       Great for the non-audiophile   \n",
       "\n",
       "                                              Review  \n",
       "0  My lovely Pat has one of the GREAT voices of h...  \n",
       "1  Despite the fact that I have only played a sma...  \n",
       "2  I bought this charger in Jul 2003 and it worke...  \n",
       "3  Check out Maha Energy's website. Their Powerex...  \n",
       "4  Reviewed quite a bit of the combo players and ...  "
      ]
     },
     "execution_count": 4,
     "metadata": {},
     "output_type": "execute_result"
    }
   ],
   "source": [
    "df.head()"
   ]
  },
  {
   "cell_type": "markdown",
   "id": "89172de21fbb028e",
   "metadata": {
    "collapsed": false
   },
   "source": [
    "### Препроцесинг"
   ]
  },
  {
   "cell_type": "code",
   "execution_count": 5,
   "id": "746f713879c472cb",
   "metadata": {
    "ExecuteTime": {
     "end_time": "2024-01-17T22:08:49.530464657Z",
     "start_time": "2024-01-17T22:08:49.522445523Z"
    },
    "collapsed": false
   },
   "outputs": [
    {
     "data": {
      "text/html": [
       "<div>\n",
       "<style scoped>\n",
       "    .dataframe tbody tr th:only-of-type {\n",
       "        vertical-align: middle;\n",
       "    }\n",
       "\n",
       "    .dataframe tbody tr th {\n",
       "        vertical-align: top;\n",
       "    }\n",
       "\n",
       "    .dataframe thead th {\n",
       "        text-align: right;\n",
       "    }\n",
       "</style>\n",
       "<table border=\"1\" class=\"dataframe\">\n",
       "  <thead>\n",
       "    <tr style=\"text-align: right;\">\n",
       "      <th></th>\n",
       "      <th>Polarity</th>\n",
       "      <th>Review</th>\n",
       "    </tr>\n",
       "  </thead>\n",
       "  <tbody>\n",
       "    <tr>\n",
       "      <th>0</th>\n",
       "      <td>2</td>\n",
       "      <td>My lovely Pat has one of the GREAT voices of h...</td>\n",
       "    </tr>\n",
       "    <tr>\n",
       "      <th>1</th>\n",
       "      <td>2</td>\n",
       "      <td>Despite the fact that I have only played a sma...</td>\n",
       "    </tr>\n",
       "    <tr>\n",
       "      <th>2</th>\n",
       "      <td>1</td>\n",
       "      <td>I bought this charger in Jul 2003 and it worke...</td>\n",
       "    </tr>\n",
       "    <tr>\n",
       "      <th>3</th>\n",
       "      <td>2</td>\n",
       "      <td>Check out Maha Energy's website. Their Powerex...</td>\n",
       "    </tr>\n",
       "    <tr>\n",
       "      <th>4</th>\n",
       "      <td>2</td>\n",
       "      <td>Reviewed quite a bit of the combo players and ...</td>\n",
       "    </tr>\n",
       "    <tr>\n",
       "      <th>5</th>\n",
       "      <td>1</td>\n",
       "      <td>I also began having the incorrect disc problem...</td>\n",
       "    </tr>\n",
       "    <tr>\n",
       "      <th>6</th>\n",
       "      <td>1</td>\n",
       "      <td>I love the style of this, but after a couple y...</td>\n",
       "    </tr>\n",
       "    <tr>\n",
       "      <th>7</th>\n",
       "      <td>1</td>\n",
       "      <td>I cannot scroll through a DVD menu that is set...</td>\n",
       "    </tr>\n",
       "    <tr>\n",
       "      <th>8</th>\n",
       "      <td>2</td>\n",
       "      <td>Exotic tales of the Orient from the 1930's. \"D...</td>\n",
       "    </tr>\n",
       "    <tr>\n",
       "      <th>9</th>\n",
       "      <td>1</td>\n",
       "      <td>Firstly,I enjoyed the format and tone of the b...</td>\n",
       "    </tr>\n",
       "  </tbody>\n",
       "</table>\n",
       "</div>"
      ],
      "text/plain": [
       "   Polarity                                             Review\n",
       "0         2  My lovely Pat has one of the GREAT voices of h...\n",
       "1         2  Despite the fact that I have only played a sma...\n",
       "2         1  I bought this charger in Jul 2003 and it worke...\n",
       "3         2  Check out Maha Energy's website. Their Powerex...\n",
       "4         2  Reviewed quite a bit of the combo players and ...\n",
       "5         1  I also began having the incorrect disc problem...\n",
       "6         1  I love the style of this, but after a couple y...\n",
       "7         1  I cannot scroll through a DVD menu that is set...\n",
       "8         2  Exotic tales of the Orient from the 1930's. \"D...\n",
       "9         1  Firstly,I enjoyed the format and tone of the b..."
      ]
     },
     "execution_count": 5,
     "metadata": {},
     "output_type": "execute_result"
    }
   ],
   "source": [
    "# Відділяємо непотрібну колонку\n",
    "Data = df[['Polarity', 'Review']].reset_index(drop=True)\n",
    "Data.head(10)"
   ]
  },
  {
   "cell_type": "code",
   "execution_count": 6,
   "id": "2ba1bb27cbb0b272",
   "metadata": {
    "ExecuteTime": {
     "end_time": "2024-01-17T22:08:49.531406941Z",
     "start_time": "2024-01-17T22:08:49.522530028Z"
    },
    "collapsed": false
   },
   "outputs": [
    {
     "name": "stdout",
     "output_type": "stream",
     "text": [
      "<class 'pandas.core.frame.DataFrame'>\n",
      "RangeIndex: 40000 entries, 0 to 39999\n",
      "Data columns (total 2 columns):\n",
      " #   Column    Non-Null Count  Dtype \n",
      "---  ------    --------------  ----- \n",
      " 0   Polarity  40000 non-null  int64 \n",
      " 1   Review    40000 non-null  object\n",
      "dtypes: int64(1), object(1)\n",
      "memory usage: 625.1+ KB\n"
     ]
    }
   ],
   "source": [
    "Data.info()"
   ]
  },
  {
   "cell_type": "code",
   "execution_count": 7,
   "id": "97dacb90bb8e1739",
   "metadata": {
    "ExecuteTime": {
     "end_time": "2024-01-17T22:08:49.587844246Z",
     "start_time": "2024-01-17T22:08:49.522637003Z"
    },
    "collapsed": false
   },
   "outputs": [
    {
     "data": {
      "text/plain": [
       "Polarity    0\n",
       "Title       3\n",
       "Review      0\n",
       "dtype: int64"
      ]
     },
     "execution_count": 7,
     "metadata": {},
     "output_type": "execute_result"
    }
   ],
   "source": [
    "# нема жодних нульових параметрів\n",
    "df.isnull().sum()"
   ]
  },
  {
   "cell_type": "markdown",
   "id": "d31ea11208af8d3",
   "metadata": {
    "collapsed": false
   },
   "source": [
    "### Токенізація"
   ]
  },
  {
   "cell_type": "code",
   "execution_count": 8,
   "id": "c421f5c05bda7a75",
   "metadata": {
    "ExecuteTime": {
     "end_time": "2024-01-17T22:08:49.611080462Z",
     "start_time": "2024-01-17T22:08:49.527572990Z"
    },
    "collapsed": false
   },
   "outputs": [
    {
     "name": "stdout",
     "output_type": "stream",
     "text": [
      "My lovely Pat has one of the GREAT voices of her generation. I have listened to this CD for YEARS and I still LOVE IT. When I'm in a good mood it makes me feel better. A bad mood just evaporates like sugar in the rain. This CD just oozes LIFE. Vocals are jusat STUUNNING and lyrics just kill. One of life's hidden gems. This is a desert isle CD in my book. Why she never made it big is just beyond me. Everytime I play this, no matter black, white, young, old, male, female EVERYBODY says one thing \"Who was that singing ?\"\n"
     ]
    },
    {
     "data": {
      "text/plain": [
       "['My',\n",
       " 'lovely',\n",
       " 'Pat',\n",
       " 'has',\n",
       " 'one',\n",
       " 'of',\n",
       " 'the',\n",
       " 'GREAT',\n",
       " 'voices',\n",
       " 'of',\n",
       " 'her',\n",
       " 'generation',\n",
       " '.',\n",
       " 'I',\n",
       " 'have',\n",
       " 'listened',\n",
       " 'to',\n",
       " 'this',\n",
       " 'CD',\n",
       " 'for',\n",
       " 'YEARS',\n",
       " 'and',\n",
       " 'I',\n",
       " 'still',\n",
       " 'LOVE',\n",
       " 'IT',\n",
       " '.',\n",
       " 'When',\n",
       " 'I',\n",
       " \"'m\",\n",
       " 'in',\n",
       " 'a',\n",
       " 'good',\n",
       " 'mood',\n",
       " 'it',\n",
       " 'makes',\n",
       " 'me',\n",
       " 'feel',\n",
       " 'better',\n",
       " '.',\n",
       " 'A',\n",
       " 'bad',\n",
       " 'mood',\n",
       " 'just',\n",
       " 'evaporates',\n",
       " 'like',\n",
       " 'sugar',\n",
       " 'in',\n",
       " 'the',\n",
       " 'rain',\n",
       " '.',\n",
       " 'This',\n",
       " 'CD',\n",
       " 'just',\n",
       " 'oozes',\n",
       " 'LIFE',\n",
       " '.',\n",
       " 'Vocals',\n",
       " 'are',\n",
       " 'jusat',\n",
       " 'STUUNNING',\n",
       " 'and',\n",
       " 'lyrics',\n",
       " 'just',\n",
       " 'kill',\n",
       " '.',\n",
       " 'One',\n",
       " 'of',\n",
       " 'life',\n",
       " \"'s\",\n",
       " 'hidden',\n",
       " 'gems',\n",
       " '.',\n",
       " 'This',\n",
       " 'is',\n",
       " 'a',\n",
       " 'desert',\n",
       " 'isle',\n",
       " 'CD',\n",
       " 'in',\n",
       " 'my',\n",
       " 'book',\n",
       " '.',\n",
       " 'Why',\n",
       " 'she',\n",
       " 'never',\n",
       " 'made',\n",
       " 'it',\n",
       " 'big',\n",
       " 'is',\n",
       " 'just',\n",
       " 'beyond',\n",
       " 'me',\n",
       " '.',\n",
       " 'Everytime',\n",
       " 'I',\n",
       " 'play',\n",
       " 'this',\n",
       " ',',\n",
       " 'no',\n",
       " 'matter',\n",
       " 'black',\n",
       " ',',\n",
       " 'white',\n",
       " ',',\n",
       " 'young',\n",
       " ',',\n",
       " 'old',\n",
       " ',',\n",
       " 'male',\n",
       " ',',\n",
       " 'female',\n",
       " 'EVERYBODY',\n",
       " 'says',\n",
       " 'one',\n",
       " 'thing',\n",
       " '``',\n",
       " 'Who',\n",
       " 'was',\n",
       " 'that',\n",
       " 'singing',\n",
       " '?',\n",
       " \"''\"]"
      ]
     },
     "execution_count": 8,
     "metadata": {},
     "output_type": "execute_result"
    }
   ],
   "source": [
    "# Токенізуймо для прикладу один відгук\n",
    "print(Data['Review'][0])\n",
    "words = word_tokenize(Data['Review'][0])\n",
    "words"
   ]
  },
  {
   "cell_type": "markdown",
   "id": "503f8412b19dab2d",
   "metadata": {
    "collapsed": false
   },
   "source": [
    "### Видаляємо стоп-слова та пунктуацію"
   ]
  },
  {
   "cell_type": "code",
   "execution_count": 9,
   "id": "372e80dba03da0bb",
   "metadata": {
    "ExecuteTime": {
     "end_time": "2024-01-17T22:08:59.850547862Z",
     "start_time": "2024-01-17T22:08:49.541569720Z"
    },
    "collapsed": false
   },
   "outputs": [
    {
     "data": {
      "text/html": [
       "<div>\n",
       "<style scoped>\n",
       "    .dataframe tbody tr th:only-of-type {\n",
       "        vertical-align: middle;\n",
       "    }\n",
       "\n",
       "    .dataframe tbody tr th {\n",
       "        vertical-align: top;\n",
       "    }\n",
       "\n",
       "    .dataframe thead th {\n",
       "        text-align: right;\n",
       "    }\n",
       "</style>\n",
       "<table border=\"1\" class=\"dataframe\">\n",
       "  <thead>\n",
       "    <tr style=\"text-align: right;\">\n",
       "      <th></th>\n",
       "      <th>Polarity</th>\n",
       "      <th>Review</th>\n",
       "    </tr>\n",
       "  </thead>\n",
       "  <tbody>\n",
       "    <tr>\n",
       "      <th>0</th>\n",
       "      <td>2</td>\n",
       "      <td>lovely pat one great voices generation listene...</td>\n",
       "    </tr>\n",
       "    <tr>\n",
       "      <th>1</th>\n",
       "      <td>2</td>\n",
       "      <td>despite fact played small portion game music h...</td>\n",
       "    </tr>\n",
       "    <tr>\n",
       "      <th>2</th>\n",
       "      <td>1</td>\n",
       "      <td>bought charger jul worked ok design nice conve...</td>\n",
       "    </tr>\n",
       "    <tr>\n",
       "      <th>3</th>\n",
       "      <td>2</td>\n",
       "      <td>check maha energy website powerex mh c f charg...</td>\n",
       "    </tr>\n",
       "    <tr>\n",
       "      <th>4</th>\n",
       "      <td>2</td>\n",
       "      <td>reviewed quite bit combo players hesitant due ...</td>\n",
       "    </tr>\n",
       "    <tr>\n",
       "      <th>...</th>\n",
       "      <td>...</td>\n",
       "      <td>...</td>\n",
       "    </tr>\n",
       "    <tr>\n",
       "      <th>39995</th>\n",
       "      <td>2</td>\n",
       "      <td>thought writing good soundtrack excellent cine...</td>\n",
       "    </tr>\n",
       "    <tr>\n",
       "      <th>39996</th>\n",
       "      <td>1</td>\n",
       "      <td>garden state starring zach braff natalie portm...</td>\n",
       "    </tr>\n",
       "    <tr>\n",
       "      <th>39997</th>\n",
       "      <td>2</td>\n",
       "      <td>first zack braff garden state seems beautiful ...</td>\n",
       "    </tr>\n",
       "    <tr>\n",
       "      <th>39998</th>\n",
       "      <td>1</td>\n",
       "      <td>slow avg story line done hundred times</td>\n",
       "    </tr>\n",
       "    <tr>\n",
       "      <th>39999</th>\n",
       "      <td>1</td>\n",
       "      <td>based press garden state received expected som...</td>\n",
       "    </tr>\n",
       "  </tbody>\n",
       "</table>\n",
       "<p>40000 rows × 2 columns</p>\n",
       "</div>"
      ],
      "text/plain": [
       "       Polarity                                             Review\n",
       "0             2  lovely pat one great voices generation listene...\n",
       "1             2  despite fact played small portion game music h...\n",
       "2             1  bought charger jul worked ok design nice conve...\n",
       "3             2  check maha energy website powerex mh c f charg...\n",
       "4             2  reviewed quite bit combo players hesitant due ...\n",
       "...         ...                                                ...\n",
       "39995         2  thought writing good soundtrack excellent cine...\n",
       "39996         1  garden state starring zach braff natalie portm...\n",
       "39997         2  first zack braff garden state seems beautiful ...\n",
       "39998         1            slow avg story line done hundred times \n",
       "39999         1  based press garden state received expected som...\n",
       "\n",
       "[40000 rows x 2 columns]"
      ]
     },
     "execution_count": 9,
     "metadata": {},
     "output_type": "execute_result"
    }
   ],
   "source": [
    "def clean_text(text): \n",
    "    text = str(text) # Конвертація вхідного тексту у строку\n",
    "    text = text.lower() #Перетворення тексту у нижній регістр\n",
    "    text = re.sub(\"\\d\", \" \", text) #Видалення всіх цифр з тексту та заміна їх на пробіли\n",
    "    text = re.sub(\"@\\S+\", \" \", text) #Видалення слів, які починаються з символу \"@\" та заміна їх на пробіли\n",
    "    text = re.sub(\"https*\\S+\", \" \", text) #Видалення посилань та заміна на пробіли\n",
    "    text = re.sub(\"#\\S+\", \" \", text) #Видалення слів, які починаються з символу \"#\"\n",
    "    text = re.sub('[%s]' % re.escape(string.punctuation), ' ', text) #Видалення всіх знаків пунктуації\n",
    "    text = re.sub('\\n', ' ', text) #Видалення символів нового рядка\n",
    "    text = re.sub('\\s{2,}',' ', text)  #Заміна двох або більше пробілів на один\n",
    "    stop_words = stopwords.words(\"english\") #Створення списку стоп-слів для англ. мови за допомогою бібліотеки nltk\n",
    "    text = ' '.join([word for word in text.split(' ') if word not in stop_words]) #Розбиття тексту на слова, видалення стоп-слів і з'єднання залишених слів назад в текст\n",
    "    return text\n",
    "\n",
    "Data['Review'] = [clean_text(review) for review in Data['Review']]\n",
    "Data"
   ]
  },
  {
   "cell_type": "markdown",
   "id": "d71b3bd012e327ae",
   "metadata": {
    "collapsed": false
   },
   "source": [
    "### RNN (Recurrent Neural Nertwork) \n",
    "[використовуючи тексти, що були використані у 2 лабораторній роботі]"
   ]
  },
  {
   "cell_type": "code",
   "execution_count": 10,
   "id": "e45d3c679708cc63",
   "metadata": {
    "ExecuteTime": {
     "end_time": "2024-01-17T22:08:59.933354143Z",
     "start_time": "2024-01-17T22:08:59.847553345Z"
    },
    "collapsed": false
   },
   "outputs": [],
   "source": [
    "X_train, X_test, y_train, y_test = train_test_split(Data['Review'], Data['Polarity'], test_size=0.30)"
   ]
  },
  {
   "cell_type": "code",
   "execution_count": 11,
   "id": "d1b1ca35315029a1",
   "metadata": {
    "ExecuteTime": {
     "end_time": "2024-01-17T22:09:00.931783572Z",
     "start_time": "2024-01-17T22:08:59.890161375Z"
    },
    "collapsed": false
   },
   "outputs": [],
   "source": [
    "vocab_size = 10000\n",
    "oov_token = \"\"\n",
    "tokenizer = Tokenizer(num_words = vocab_size, oov_token=oov_token)\n",
    "tokenizer.fit_on_texts(X_train)"
   ]
  },
  {
   "cell_type": "code",
   "execution_count": 12,
   "id": "273fbdc62b27f95",
   "metadata": {
    "ExecuteTime": {
     "end_time": "2024-01-17T22:09:01.804375939Z",
     "start_time": "2024-01-17T22:09:00.943409079Z"
    },
    "collapsed": false
   },
   "outputs": [],
   "source": [
    "X_train_text_sequences = tokenizer.texts_to_sequences(X_train)\n",
    "X_test_text_sequences = tokenizer.texts_to_sequences(X_test)"
   ]
  },
  {
   "cell_type": "code",
   "execution_count": 13,
   "id": "a3b0da25e5d04242",
   "metadata": {
    "ExecuteTime": {
     "end_time": "2024-01-17T22:09:02.098911432Z",
     "start_time": "2024-01-17T22:09:01.811340251Z"
    },
    "collapsed": false
   },
   "outputs": [
    {
     "data": {
      "text/plain": [
       "(28000, 2000)"
      ]
     },
     "execution_count": 13,
     "metadata": {},
     "output_type": "execute_result"
    }
   ],
   "source": [
    "max_length = 2000\n",
    "padding_type = \"post\"\n",
    "trunction_type=\"post\"\n",
    "X_train = keras.utils.pad_sequences(X_train_text_sequences,maxlen=max_length, padding=padding_type, truncating=trunction_type)\n",
    "X_test = keras.utils.pad_sequences(X_test_text_sequences,maxlen=max_length, padding=padding_type, truncating=trunction_type)\n",
    "X_train.shape"
   ]
  },
  {
   "cell_type": "code",
   "execution_count": 14,
   "id": "3263f303478c0279",
   "metadata": {
    "ExecuteTime": {
     "end_time": "2024-01-17T22:09:02.149623325Z",
     "start_time": "2024-01-17T22:09:02.099118764Z"
    },
    "collapsed": false
   },
   "outputs": [],
   "source": [
    "emb_dim = 128\n",
    "\n",
    "model = Sequential()\n",
    "model.add(Embedding(len(tokenizer.word_index) + 1, emb_dim, input_length=max_length))\n",
    "model.add(LSTM(64))\n",
    "model.add(Dense(1, activation='selu'))"
   ]
  },
  {
   "cell_type": "code",
   "execution_count": 15,
   "id": "66d0e4d922e86bab",
   "metadata": {
    "ExecuteTime": {
     "start_time": "2024-01-17T22:09:02.138922899Z"
    },
    "collapsed": false
   },
   "outputs": [],
   "source": [
    "model.compile(optimizer='adam',\n",
    "              loss = tf.keras.losses.binary_crossentropy,\n",
    "              metrics=['accuracy']\n",
    ")"
   ]
  },
  {
   "cell_type": "code",
   "execution_count": 16,
   "id": "78108ae59d744cc4",
   "metadata": {
    "ExecuteTime": {
     "start_time": "2024-01-17T22:09:02.141397070Z"
    },
    "collapsed": false
   },
   "outputs": [
    {
     "name": "stdout",
     "output_type": "stream",
     "text": [
      "Epoch 1/2\n",
      "875/875 [==============================] - 1267s 1s/step - loss: 23.2620 - accuracy: 0.0000e+00 - val_loss: 23.3084 - val_accuracy: 0.0000e+00\n",
      "Epoch 2/2\n",
      "875/875 [==============================] - 1217s 1s/step - loss: 23.2620 - accuracy: 0.0000e+00 - val_loss: 23.3084 - val_accuracy: 0.0000e+00\n"
     ]
    },
    {
     "data": {
      "text/plain": [
       "<keras.src.callbacks.History at 0x7f99b23b8970>"
      ]
     },
     "execution_count": 16,
     "metadata": {},
     "output_type": "execute_result"
    }
   ],
   "source": [
    "model.fit(X_train, y_train, epochs=2, validation_data=(X_test, y_test))"
   ]
  },
  {
   "cell_type": "code",
   "execution_count": 18,
   "id": "ee28f770a8ad76d6",
   "metadata": {
    "ExecuteTime": {
     "start_time": "2024-01-17T22:09:02.144321643Z"
    },
    "collapsed": false
   },
   "outputs": [
    {
     "name": "stdout",
     "output_type": "stream",
     "text": [
      "375/375 [==============================] - 107s 286ms/step - loss: 23.3084 - accuracy: 0.0000e+00\n",
      "23.308366775512695\n",
      "0.0\n"
     ]
    }
   ],
   "source": [
    "loss, accuracy = model.evaluate(X_test, y_test)\n",
    "print(loss)\n",
    "print(accuracy)"
   ]
  }
 ],
 "metadata": {
  "kernelspec": {
   "display_name": "Python 3",
   "language": "python",
   "name": "python3"
  },
  "language_info": {
   "codemirror_mode": {
    "name": "ipython",
    "version": 3
   },
   "file_extension": ".py",
   "mimetype": "text/x-python",
   "name": "python",
   "nbconvert_exporter": "python",
   "pygments_lexer": "ipython3",
   "version": "3.9.18"
  }
 },
 "nbformat": 4,
 "nbformat_minor": 5
}

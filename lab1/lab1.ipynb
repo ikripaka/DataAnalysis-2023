{
 "cells": [
  {
   "cell_type": "code",
   "execution_count": 25,
   "id": "initial_id",
   "metadata": {
    "collapsed": true,
    "ExecuteTime": {
     "end_time": "2023-09-27T18:52:53.644246151Z",
     "start_time": "2023-09-27T18:52:53.545667190Z"
    }
   },
   "outputs": [],
   "source": [
    "import pandas as pd\n",
    "import numpy as np"
   ]
  },
  {
   "cell_type": "markdown",
   "source": [
    "3) Візуалізувати дані: побудувати графік (heatmap), що відображає кореляції\n",
    "ознак між собою і з цільовою змінною (розміткою); побудувати гістограми\n",
    "розподілу ознак і boxplot-и ознак відносно цільової змінної (якщо ознак занадто багато\n",
    "обмежитися декількома)\n",
    "4) Нормалізувати дані\n",
    "5) Провести навчання наступних класифікаторів:\n",
    "kNN\n",
    "дерево ухвалення рішень\n",
    "SVM\n",
    "Random Forest\n",
    "AdaBoost\n",
    "Підібрати оптимальні параметри\n",
    "• для kNN\n",
    "• для SVM за допомогою GridSearch підібрати оптимальні «C» і «gamma»\n",
    "Серед обраних оптимальних моделей кожного класу вибрати найкращу.\n",
    "Відобразити\n",
    "sklearn.metrics.classification_report і sklearn.metrics.confusion_matrix"
   ],
   "metadata": {
    "collapsed": false
   },
   "id": "a18a463053f6f311"
  },
  {
   "cell_type": "markdown",
   "source": [
    "## Reading [Smoke Detection](https://www.kaggle.com/datasets/deepcontractor/smoke-detection-dataset/) dataset\n",
    "\n",
    "1) Load data, display column names and dataset size"
   ],
   "metadata": {
    "collapsed": false
   },
   "id": "999e5e57fcc1f0f4"
  },
  {
   "cell_type": "code",
   "execution_count": 26,
   "outputs": [
    {
     "data": {
      "text/plain": "(62630, 16)"
     },
     "execution_count": 26,
     "metadata": {},
     "output_type": "execute_result"
    }
   ],
   "source": [
    "smoke_train = pd.read_csv(\"./smoke_detection_iot.csv\")\n",
    "smoke_train.shape"
   ],
   "metadata": {
    "collapsed": false,
    "ExecuteTime": {
     "end_time": "2023-09-27T18:52:54.175301720Z",
     "start_time": "2023-09-27T18:52:53.580979183Z"
    }
   },
   "id": "70ec1fce5f1f7420"
  },
  {
   "cell_type": "code",
   "execution_count": 27,
   "outputs": [
    {
     "data": {
      "text/plain": "       Index         UTC  Temperature[C]  Humidity[%]  TVOC[ppb]  eCO2[ppm]  \\\n0          0  1654733331          20.000        57.36          0        400   \n1          1  1654733332          20.015        56.67          0        400   \n2          2  1654733333          20.029        55.96          0        400   \n3          3  1654733334          20.044        55.28          0        400   \n4          4  1654733335          20.059        54.69          0        400   \n...      ...         ...             ...          ...        ...        ...   \n62625  62625  1655130047          18.438        15.79        625        400   \n62626  62626  1655130048          18.653        15.87        612        400   \n62627  62627  1655130049          18.867        15.84        627        400   \n62628  62628  1655130050          19.083        16.04        638        400   \n62629  62629  1655130051          19.299        16.52        643        400   \n\n       Raw H2  Raw Ethanol  Pressure[hPa]  PM1.0  PM2.5  NC0.5  NC1.0  NC2.5  \\\n0       12306        18520        939.735   0.00   0.00   0.00  0.000  0.000   \n1       12345        18651        939.744   0.00   0.00   0.00  0.000  0.000   \n2       12374        18764        939.738   0.00   0.00   0.00  0.000  0.000   \n3       12390        18849        939.736   0.00   0.00   0.00  0.000  0.000   \n4       12403        18921        939.744   0.00   0.00   0.00  0.000  0.000   \n...       ...          ...            ...    ...    ...    ...    ...    ...   \n62625   13723        20569        936.670   0.63   0.65   4.32  0.673  0.015   \n62626   13731        20588        936.678   0.61   0.63   4.18  0.652  0.015   \n62627   13725        20582        936.687   0.57   0.60   3.95  0.617  0.014   \n62628   13712        20566        936.680   0.57   0.59   3.92  0.611  0.014   \n62629   13696        20543        936.676   0.57   0.59   3.90  0.607  0.014   \n\n        CNT  Fire Alarm  \n0         0           0  \n1         1           0  \n2         2           0  \n3         3           0  \n4         4           0  \n...     ...         ...  \n62625  5739           0  \n62626  5740           0  \n62627  5741           0  \n62628  5742           0  \n62629  5743           0  \n\n[17873 rows x 16 columns]",
      "text/html": "<div>\n<style scoped>\n    .dataframe tbody tr th:only-of-type {\n        vertical-align: middle;\n    }\n\n    .dataframe tbody tr th {\n        vertical-align: top;\n    }\n\n    .dataframe thead th {\n        text-align: right;\n    }\n</style>\n<table border=\"1\" class=\"dataframe\">\n  <thead>\n    <tr style=\"text-align: right;\">\n      <th></th>\n      <th>Index</th>\n      <th>UTC</th>\n      <th>Temperature[C]</th>\n      <th>Humidity[%]</th>\n      <th>TVOC[ppb]</th>\n      <th>eCO2[ppm]</th>\n      <th>Raw H2</th>\n      <th>Raw Ethanol</th>\n      <th>Pressure[hPa]</th>\n      <th>PM1.0</th>\n      <th>PM2.5</th>\n      <th>NC0.5</th>\n      <th>NC1.0</th>\n      <th>NC2.5</th>\n      <th>CNT</th>\n      <th>Fire Alarm</th>\n    </tr>\n  </thead>\n  <tbody>\n    <tr>\n      <th>0</th>\n      <td>0</td>\n      <td>1654733331</td>\n      <td>20.000</td>\n      <td>57.36</td>\n      <td>0</td>\n      <td>400</td>\n      <td>12306</td>\n      <td>18520</td>\n      <td>939.735</td>\n      <td>0.00</td>\n      <td>0.00</td>\n      <td>0.00</td>\n      <td>0.000</td>\n      <td>0.000</td>\n      <td>0</td>\n      <td>0</td>\n    </tr>\n    <tr>\n      <th>1</th>\n      <td>1</td>\n      <td>1654733332</td>\n      <td>20.015</td>\n      <td>56.67</td>\n      <td>0</td>\n      <td>400</td>\n      <td>12345</td>\n      <td>18651</td>\n      <td>939.744</td>\n      <td>0.00</td>\n      <td>0.00</td>\n      <td>0.00</td>\n      <td>0.000</td>\n      <td>0.000</td>\n      <td>1</td>\n      <td>0</td>\n    </tr>\n    <tr>\n      <th>2</th>\n      <td>2</td>\n      <td>1654733333</td>\n      <td>20.029</td>\n      <td>55.96</td>\n      <td>0</td>\n      <td>400</td>\n      <td>12374</td>\n      <td>18764</td>\n      <td>939.738</td>\n      <td>0.00</td>\n      <td>0.00</td>\n      <td>0.00</td>\n      <td>0.000</td>\n      <td>0.000</td>\n      <td>2</td>\n      <td>0</td>\n    </tr>\n    <tr>\n      <th>3</th>\n      <td>3</td>\n      <td>1654733334</td>\n      <td>20.044</td>\n      <td>55.28</td>\n      <td>0</td>\n      <td>400</td>\n      <td>12390</td>\n      <td>18849</td>\n      <td>939.736</td>\n      <td>0.00</td>\n      <td>0.00</td>\n      <td>0.00</td>\n      <td>0.000</td>\n      <td>0.000</td>\n      <td>3</td>\n      <td>0</td>\n    </tr>\n    <tr>\n      <th>4</th>\n      <td>4</td>\n      <td>1654733335</td>\n      <td>20.059</td>\n      <td>54.69</td>\n      <td>0</td>\n      <td>400</td>\n      <td>12403</td>\n      <td>18921</td>\n      <td>939.744</td>\n      <td>0.00</td>\n      <td>0.00</td>\n      <td>0.00</td>\n      <td>0.000</td>\n      <td>0.000</td>\n      <td>4</td>\n      <td>0</td>\n    </tr>\n    <tr>\n      <th>...</th>\n      <td>...</td>\n      <td>...</td>\n      <td>...</td>\n      <td>...</td>\n      <td>...</td>\n      <td>...</td>\n      <td>...</td>\n      <td>...</td>\n      <td>...</td>\n      <td>...</td>\n      <td>...</td>\n      <td>...</td>\n      <td>...</td>\n      <td>...</td>\n      <td>...</td>\n      <td>...</td>\n    </tr>\n    <tr>\n      <th>62625</th>\n      <td>62625</td>\n      <td>1655130047</td>\n      <td>18.438</td>\n      <td>15.79</td>\n      <td>625</td>\n      <td>400</td>\n      <td>13723</td>\n      <td>20569</td>\n      <td>936.670</td>\n      <td>0.63</td>\n      <td>0.65</td>\n      <td>4.32</td>\n      <td>0.673</td>\n      <td>0.015</td>\n      <td>5739</td>\n      <td>0</td>\n    </tr>\n    <tr>\n      <th>62626</th>\n      <td>62626</td>\n      <td>1655130048</td>\n      <td>18.653</td>\n      <td>15.87</td>\n      <td>612</td>\n      <td>400</td>\n      <td>13731</td>\n      <td>20588</td>\n      <td>936.678</td>\n      <td>0.61</td>\n      <td>0.63</td>\n      <td>4.18</td>\n      <td>0.652</td>\n      <td>0.015</td>\n      <td>5740</td>\n      <td>0</td>\n    </tr>\n    <tr>\n      <th>62627</th>\n      <td>62627</td>\n      <td>1655130049</td>\n      <td>18.867</td>\n      <td>15.84</td>\n      <td>627</td>\n      <td>400</td>\n      <td>13725</td>\n      <td>20582</td>\n      <td>936.687</td>\n      <td>0.57</td>\n      <td>0.60</td>\n      <td>3.95</td>\n      <td>0.617</td>\n      <td>0.014</td>\n      <td>5741</td>\n      <td>0</td>\n    </tr>\n    <tr>\n      <th>62628</th>\n      <td>62628</td>\n      <td>1655130050</td>\n      <td>19.083</td>\n      <td>16.04</td>\n      <td>638</td>\n      <td>400</td>\n      <td>13712</td>\n      <td>20566</td>\n      <td>936.680</td>\n      <td>0.57</td>\n      <td>0.59</td>\n      <td>3.92</td>\n      <td>0.611</td>\n      <td>0.014</td>\n      <td>5742</td>\n      <td>0</td>\n    </tr>\n    <tr>\n      <th>62629</th>\n      <td>62629</td>\n      <td>1655130051</td>\n      <td>19.299</td>\n      <td>16.52</td>\n      <td>643</td>\n      <td>400</td>\n      <td>13696</td>\n      <td>20543</td>\n      <td>936.676</td>\n      <td>0.57</td>\n      <td>0.59</td>\n      <td>3.90</td>\n      <td>0.607</td>\n      <td>0.014</td>\n      <td>5743</td>\n      <td>0</td>\n    </tr>\n  </tbody>\n</table>\n<p>17873 rows × 16 columns</p>\n</div>"
     },
     "execution_count": 27,
     "metadata": {},
     "output_type": "execute_result"
    }
   ],
   "source": [
    "# Print date where [\"Fire Alarm\"]==0\n",
    "smoke_train[smoke_train[\"Fire Alarm\"]==0]"
   ],
   "metadata": {
    "collapsed": false,
    "ExecuteTime": {
     "end_time": "2023-09-27T18:52:54.176957167Z",
     "start_time": "2023-09-27T18:52:53.710163587Z"
    }
   },
   "id": "885e3dce1204a1cd"
  },
  {
   "cell_type": "code",
   "execution_count": 28,
   "outputs": [
    {
     "data": {
      "text/plain": "       Index         UTC  Temperature[C]  Humidity[%]  TVOC[ppb]  eCO2[ppm]  \\\n3178    3178  1654736509           9.381        56.86         11        400   \n3179    3179  1654736510           9.368        58.60          0        400   \n3180    3180  1654736511           9.356        60.38          0        400   \n3181    3181  1654736512           9.343        62.22          0        400   \n3182    3182  1654736513           9.331        63.11          0        400   \n...      ...         ...             ...          ...        ...        ...   \n51141  51141  1654904158          31.120        18.67          0        873   \n51145  51145  1654712190          27.320        43.84         29        454   \n51146  51146  1654712191          27.270        43.98         28        456   \n56889  56889  1655124311          20.191        43.84         29        454   \n56890  56890  1655124312          20.254        43.98         28        456   \n\n       Raw H2  Raw Ethanol  Pressure[hPa]  PM1.0  PM2.5  NC0.5  NC1.0  NC2.5  \\\n3178    13347        20160        939.575   1.78   1.85  12.25  1.911  0.043   \n3179    13385        20202        939.574   1.80   1.87  12.41  1.935  0.044   \n3180    13388        20248        938.858   1.94   2.01  13.32  2.077  0.047   \n3181    13443        20315        939.044   2.00   2.08  13.75  2.145  0.048   \n3182    13457        20348        939.193   2.07   2.15  14.24  2.220  0.050   \n...       ...          ...            ...    ...    ...    ...    ...    ...   \n51141   13077        20927        930.929   1.00   1.04   6.89  1.075  0.024   \n51145   12858        20752        937.610   2.24   2.32  15.39  2.400  0.054   \n51146   12860        20751        937.601   2.26   2.35  15.58  2.429  0.055   \n56889   12858        20752        937.610   2.24   2.32  15.39  2.400  0.054   \n56890   12860        20751        937.601   2.26   2.35  15.58  2.429  0.055   \n\n        CNT  Fire Alarm  \n3178   3178           1  \n3179   3179           1  \n3180   3180           1  \n3181   3181           1  \n3182   3182           1  \n...     ...         ...  \n51141  1153           1  \n51145     3           1  \n51146     4           1  \n56889     3           1  \n56890     4           1  \n\n[44757 rows x 16 columns]",
      "text/html": "<div>\n<style scoped>\n    .dataframe tbody tr th:only-of-type {\n        vertical-align: middle;\n    }\n\n    .dataframe tbody tr th {\n        vertical-align: top;\n    }\n\n    .dataframe thead th {\n        text-align: right;\n    }\n</style>\n<table border=\"1\" class=\"dataframe\">\n  <thead>\n    <tr style=\"text-align: right;\">\n      <th></th>\n      <th>Index</th>\n      <th>UTC</th>\n      <th>Temperature[C]</th>\n      <th>Humidity[%]</th>\n      <th>TVOC[ppb]</th>\n      <th>eCO2[ppm]</th>\n      <th>Raw H2</th>\n      <th>Raw Ethanol</th>\n      <th>Pressure[hPa]</th>\n      <th>PM1.0</th>\n      <th>PM2.5</th>\n      <th>NC0.5</th>\n      <th>NC1.0</th>\n      <th>NC2.5</th>\n      <th>CNT</th>\n      <th>Fire Alarm</th>\n    </tr>\n  </thead>\n  <tbody>\n    <tr>\n      <th>3178</th>\n      <td>3178</td>\n      <td>1654736509</td>\n      <td>9.381</td>\n      <td>56.86</td>\n      <td>11</td>\n      <td>400</td>\n      <td>13347</td>\n      <td>20160</td>\n      <td>939.575</td>\n      <td>1.78</td>\n      <td>1.85</td>\n      <td>12.25</td>\n      <td>1.911</td>\n      <td>0.043</td>\n      <td>3178</td>\n      <td>1</td>\n    </tr>\n    <tr>\n      <th>3179</th>\n      <td>3179</td>\n      <td>1654736510</td>\n      <td>9.368</td>\n      <td>58.60</td>\n      <td>0</td>\n      <td>400</td>\n      <td>13385</td>\n      <td>20202</td>\n      <td>939.574</td>\n      <td>1.80</td>\n      <td>1.87</td>\n      <td>12.41</td>\n      <td>1.935</td>\n      <td>0.044</td>\n      <td>3179</td>\n      <td>1</td>\n    </tr>\n    <tr>\n      <th>3180</th>\n      <td>3180</td>\n      <td>1654736511</td>\n      <td>9.356</td>\n      <td>60.38</td>\n      <td>0</td>\n      <td>400</td>\n      <td>13388</td>\n      <td>20248</td>\n      <td>938.858</td>\n      <td>1.94</td>\n      <td>2.01</td>\n      <td>13.32</td>\n      <td>2.077</td>\n      <td>0.047</td>\n      <td>3180</td>\n      <td>1</td>\n    </tr>\n    <tr>\n      <th>3181</th>\n      <td>3181</td>\n      <td>1654736512</td>\n      <td>9.343</td>\n      <td>62.22</td>\n      <td>0</td>\n      <td>400</td>\n      <td>13443</td>\n      <td>20315</td>\n      <td>939.044</td>\n      <td>2.00</td>\n      <td>2.08</td>\n      <td>13.75</td>\n      <td>2.145</td>\n      <td>0.048</td>\n      <td>3181</td>\n      <td>1</td>\n    </tr>\n    <tr>\n      <th>3182</th>\n      <td>3182</td>\n      <td>1654736513</td>\n      <td>9.331</td>\n      <td>63.11</td>\n      <td>0</td>\n      <td>400</td>\n      <td>13457</td>\n      <td>20348</td>\n      <td>939.193</td>\n      <td>2.07</td>\n      <td>2.15</td>\n      <td>14.24</td>\n      <td>2.220</td>\n      <td>0.050</td>\n      <td>3182</td>\n      <td>1</td>\n    </tr>\n    <tr>\n      <th>...</th>\n      <td>...</td>\n      <td>...</td>\n      <td>...</td>\n      <td>...</td>\n      <td>...</td>\n      <td>...</td>\n      <td>...</td>\n      <td>...</td>\n      <td>...</td>\n      <td>...</td>\n      <td>...</td>\n      <td>...</td>\n      <td>...</td>\n      <td>...</td>\n      <td>...</td>\n      <td>...</td>\n    </tr>\n    <tr>\n      <th>51141</th>\n      <td>51141</td>\n      <td>1654904158</td>\n      <td>31.120</td>\n      <td>18.67</td>\n      <td>0</td>\n      <td>873</td>\n      <td>13077</td>\n      <td>20927</td>\n      <td>930.929</td>\n      <td>1.00</td>\n      <td>1.04</td>\n      <td>6.89</td>\n      <td>1.075</td>\n      <td>0.024</td>\n      <td>1153</td>\n      <td>1</td>\n    </tr>\n    <tr>\n      <th>51145</th>\n      <td>51145</td>\n      <td>1654712190</td>\n      <td>27.320</td>\n      <td>43.84</td>\n      <td>29</td>\n      <td>454</td>\n      <td>12858</td>\n      <td>20752</td>\n      <td>937.610</td>\n      <td>2.24</td>\n      <td>2.32</td>\n      <td>15.39</td>\n      <td>2.400</td>\n      <td>0.054</td>\n      <td>3</td>\n      <td>1</td>\n    </tr>\n    <tr>\n      <th>51146</th>\n      <td>51146</td>\n      <td>1654712191</td>\n      <td>27.270</td>\n      <td>43.98</td>\n      <td>28</td>\n      <td>456</td>\n      <td>12860</td>\n      <td>20751</td>\n      <td>937.601</td>\n      <td>2.26</td>\n      <td>2.35</td>\n      <td>15.58</td>\n      <td>2.429</td>\n      <td>0.055</td>\n      <td>4</td>\n      <td>1</td>\n    </tr>\n    <tr>\n      <th>56889</th>\n      <td>56889</td>\n      <td>1655124311</td>\n      <td>20.191</td>\n      <td>43.84</td>\n      <td>29</td>\n      <td>454</td>\n      <td>12858</td>\n      <td>20752</td>\n      <td>937.610</td>\n      <td>2.24</td>\n      <td>2.32</td>\n      <td>15.39</td>\n      <td>2.400</td>\n      <td>0.054</td>\n      <td>3</td>\n      <td>1</td>\n    </tr>\n    <tr>\n      <th>56890</th>\n      <td>56890</td>\n      <td>1655124312</td>\n      <td>20.254</td>\n      <td>43.98</td>\n      <td>28</td>\n      <td>456</td>\n      <td>12860</td>\n      <td>20751</td>\n      <td>937.601</td>\n      <td>2.26</td>\n      <td>2.35</td>\n      <td>15.58</td>\n      <td>2.429</td>\n      <td>0.055</td>\n      <td>4</td>\n      <td>1</td>\n    </tr>\n  </tbody>\n</table>\n<p>44757 rows × 16 columns</p>\n</div>"
     },
     "execution_count": 28,
     "metadata": {},
     "output_type": "execute_result"
    }
   ],
   "source": [
    "# Print date where [\"Fire Alarm\"]==1\n",
    "smoke_train[smoke_train[\"Fire Alarm\"]==1]"
   ],
   "metadata": {
    "collapsed": false,
    "ExecuteTime": {
     "end_time": "2023-09-27T18:52:54.178179599Z",
     "start_time": "2023-09-27T18:52:53.710537696Z"
    }
   },
   "id": "847530098b2ca6ac"
  },
  {
   "cell_type": "code",
   "execution_count": 29,
   "outputs": [
    {
     "data": {
      "text/plain": "              Index           UTC  Temperature[C]   Humidity[%]     TVOC[ppb]  \\\ncount  62630.000000  6.263000e+04    62630.000000  62630.000000  62630.000000   \nmean   31314.500000  1.654792e+09       15.970424     48.539499   1942.057528   \nstd    18079.868017  1.100025e+05       14.359576      8.865367   7811.589055   \nmin        0.000000  1.654712e+09      -22.010000     10.740000      0.000000   \n25%    15657.250000  1.654743e+09       10.994250     47.530000    130.000000   \n50%    31314.500000  1.654762e+09       20.130000     50.150000    981.000000   \n75%    46971.750000  1.654778e+09       25.409500     53.240000   1189.000000   \nmax    62629.000000  1.655130e+09       59.930000     75.200000  60000.000000   \n\n          eCO2[ppm]        Raw H2   Raw Ethanol  Pressure[hPa]         PM1.0  \\\ncount  62630.000000  62630.000000  62630.000000   62630.000000  62630.000000   \nmean     670.021044  12942.453936  19754.257912     938.627649    100.594309   \nstd     1905.885439    272.464305    609.513156       1.331344    922.524245   \nmin      400.000000  10668.000000  15317.000000     930.852000      0.000000   \n25%      400.000000  12830.000000  19435.000000     938.700000      1.280000   \n50%      400.000000  12924.000000  19501.000000     938.816000      1.810000   \n75%      438.000000  13109.000000  20078.000000     939.418000      2.090000   \nmax    60000.000000  13803.000000  21410.000000     939.861000  14333.690000   \n\n              PM2.5         NC0.5         NC1.0         NC2.5           CNT  \\\ncount  62630.000000  62630.000000  62630.000000  62630.000000  62630.000000   \nmean     184.467770    491.463608    203.586487     80.049042  10511.386157   \nstd     1976.305615   4265.661251   2214.738556   1083.383189   7597.870997   \nmin        0.000000      0.000000      0.000000      0.000000      0.000000   \n25%        1.340000      8.820000      1.384000      0.033000   3625.250000   \n50%        1.880000     12.450000      1.943000      0.044000   9336.000000   \n75%        2.180000     14.420000      2.249000      0.051000  17164.750000   \nmax    45432.260000  61482.030000  51914.680000  30026.438000  24993.000000   \n\n         Fire Alarm  \ncount  62630.000000  \nmean       0.714626  \nstd        0.451596  \nmin        0.000000  \n25%        0.000000  \n50%        1.000000  \n75%        1.000000  \nmax        1.000000  ",
      "text/html": "<div>\n<style scoped>\n    .dataframe tbody tr th:only-of-type {\n        vertical-align: middle;\n    }\n\n    .dataframe tbody tr th {\n        vertical-align: top;\n    }\n\n    .dataframe thead th {\n        text-align: right;\n    }\n</style>\n<table border=\"1\" class=\"dataframe\">\n  <thead>\n    <tr style=\"text-align: right;\">\n      <th></th>\n      <th>Index</th>\n      <th>UTC</th>\n      <th>Temperature[C]</th>\n      <th>Humidity[%]</th>\n      <th>TVOC[ppb]</th>\n      <th>eCO2[ppm]</th>\n      <th>Raw H2</th>\n      <th>Raw Ethanol</th>\n      <th>Pressure[hPa]</th>\n      <th>PM1.0</th>\n      <th>PM2.5</th>\n      <th>NC0.5</th>\n      <th>NC1.0</th>\n      <th>NC2.5</th>\n      <th>CNT</th>\n      <th>Fire Alarm</th>\n    </tr>\n  </thead>\n  <tbody>\n    <tr>\n      <th>count</th>\n      <td>62630.000000</td>\n      <td>6.263000e+04</td>\n      <td>62630.000000</td>\n      <td>62630.000000</td>\n      <td>62630.000000</td>\n      <td>62630.000000</td>\n      <td>62630.000000</td>\n      <td>62630.000000</td>\n      <td>62630.000000</td>\n      <td>62630.000000</td>\n      <td>62630.000000</td>\n      <td>62630.000000</td>\n      <td>62630.000000</td>\n      <td>62630.000000</td>\n      <td>62630.000000</td>\n      <td>62630.000000</td>\n    </tr>\n    <tr>\n      <th>mean</th>\n      <td>31314.500000</td>\n      <td>1.654792e+09</td>\n      <td>15.970424</td>\n      <td>48.539499</td>\n      <td>1942.057528</td>\n      <td>670.021044</td>\n      <td>12942.453936</td>\n      <td>19754.257912</td>\n      <td>938.627649</td>\n      <td>100.594309</td>\n      <td>184.467770</td>\n      <td>491.463608</td>\n      <td>203.586487</td>\n      <td>80.049042</td>\n      <td>10511.386157</td>\n      <td>0.714626</td>\n    </tr>\n    <tr>\n      <th>std</th>\n      <td>18079.868017</td>\n      <td>1.100025e+05</td>\n      <td>14.359576</td>\n      <td>8.865367</td>\n      <td>7811.589055</td>\n      <td>1905.885439</td>\n      <td>272.464305</td>\n      <td>609.513156</td>\n      <td>1.331344</td>\n      <td>922.524245</td>\n      <td>1976.305615</td>\n      <td>4265.661251</td>\n      <td>2214.738556</td>\n      <td>1083.383189</td>\n      <td>7597.870997</td>\n      <td>0.451596</td>\n    </tr>\n    <tr>\n      <th>min</th>\n      <td>0.000000</td>\n      <td>1.654712e+09</td>\n      <td>-22.010000</td>\n      <td>10.740000</td>\n      <td>0.000000</td>\n      <td>400.000000</td>\n      <td>10668.000000</td>\n      <td>15317.000000</td>\n      <td>930.852000</td>\n      <td>0.000000</td>\n      <td>0.000000</td>\n      <td>0.000000</td>\n      <td>0.000000</td>\n      <td>0.000000</td>\n      <td>0.000000</td>\n      <td>0.000000</td>\n    </tr>\n    <tr>\n      <th>25%</th>\n      <td>15657.250000</td>\n      <td>1.654743e+09</td>\n      <td>10.994250</td>\n      <td>47.530000</td>\n      <td>130.000000</td>\n      <td>400.000000</td>\n      <td>12830.000000</td>\n      <td>19435.000000</td>\n      <td>938.700000</td>\n      <td>1.280000</td>\n      <td>1.340000</td>\n      <td>8.820000</td>\n      <td>1.384000</td>\n      <td>0.033000</td>\n      <td>3625.250000</td>\n      <td>0.000000</td>\n    </tr>\n    <tr>\n      <th>50%</th>\n      <td>31314.500000</td>\n      <td>1.654762e+09</td>\n      <td>20.130000</td>\n      <td>50.150000</td>\n      <td>981.000000</td>\n      <td>400.000000</td>\n      <td>12924.000000</td>\n      <td>19501.000000</td>\n      <td>938.816000</td>\n      <td>1.810000</td>\n      <td>1.880000</td>\n      <td>12.450000</td>\n      <td>1.943000</td>\n      <td>0.044000</td>\n      <td>9336.000000</td>\n      <td>1.000000</td>\n    </tr>\n    <tr>\n      <th>75%</th>\n      <td>46971.750000</td>\n      <td>1.654778e+09</td>\n      <td>25.409500</td>\n      <td>53.240000</td>\n      <td>1189.000000</td>\n      <td>438.000000</td>\n      <td>13109.000000</td>\n      <td>20078.000000</td>\n      <td>939.418000</td>\n      <td>2.090000</td>\n      <td>2.180000</td>\n      <td>14.420000</td>\n      <td>2.249000</td>\n      <td>0.051000</td>\n      <td>17164.750000</td>\n      <td>1.000000</td>\n    </tr>\n    <tr>\n      <th>max</th>\n      <td>62629.000000</td>\n      <td>1.655130e+09</td>\n      <td>59.930000</td>\n      <td>75.200000</td>\n      <td>60000.000000</td>\n      <td>60000.000000</td>\n      <td>13803.000000</td>\n      <td>21410.000000</td>\n      <td>939.861000</td>\n      <td>14333.690000</td>\n      <td>45432.260000</td>\n      <td>61482.030000</td>\n      <td>51914.680000</td>\n      <td>30026.438000</td>\n      <td>24993.000000</td>\n      <td>1.000000</td>\n    </tr>\n  </tbody>\n</table>\n</div>"
     },
     "execution_count": 29,
     "metadata": {},
     "output_type": "execute_result"
    }
   ],
   "source": [
    "# Print description of dataset\n",
    "smoke_train.describe()"
   ],
   "metadata": {
    "collapsed": false,
    "ExecuteTime": {
     "end_time": "2023-09-27T18:52:54.179045721Z",
     "start_time": "2023-09-27T18:52:53.715572779Z"
    }
   },
   "id": "ad1b4373dd390685"
  },
  {
   "cell_type": "markdown",
   "source": [
    "##  Dataset features in detail\n",
    "1. **UTC**: Timestamp UTC seconds\n",
    "2. **Air Temperature**\n",
    "3. **Air Humidity**\n",
    "4. **TVOC**: Total Volatile Organic Compounds; measured in parts per billion (Source)\n",
    "5. **eCO2**: co2 equivalent concentration; calculated from different values like TVCO\n",
    "6. **Raw H2**: raw molecular hydrogen; not compensated (Bias, temperature, etc.)\n",
    "7. **Raw Ethanol**: raw ethanol gas (Source)\n",
    "8. **Air Pressure**\n",
    "9. **PM 1.0** and **PM 2.5**: particulate matter size < 1.0 µm (PM1.0). 1.0 µm < 2.5 µm (PM2.5)\n",
    "10. **NC0.5/NC1.0** and **NC2.5**: Number concentration of particulate matter. This differs from PM because NC gives the actual number of particles in the air. The raw NC is also classified by the particle size: < 0.5 µm (NC0.5); 0.5 µm < 1.0 µm (NC1.0); 1.0 µm < 2.5 µm (NC2.5);\n",
    "11. **CNT**: Sample counter\n",
    "12. **Fire Alarm**: ground truth is \"1\" if a fire is there\n"
   ],
   "metadata": {
    "collapsed": false
   },
   "id": "1c1c1bf9da9002da"
  },
  {
   "cell_type": "code",
   "execution_count": 30,
   "outputs": [
    {
     "data": {
      "text/plain": "Fire Alarm\n1    44757\n0    17873\nName: count, dtype: int64"
     },
     "execution_count": 30,
     "metadata": {},
     "output_type": "execute_result"
    }
   ],
   "source": [
    "smoke_train['Fire Alarm'].value_counts()"
   ],
   "metadata": {
    "collapsed": false,
    "ExecuteTime": {
     "end_time": "2023-09-27T18:52:54.179425288Z",
     "start_time": "2023-09-27T18:52:53.774992520Z"
    }
   },
   "id": "64f89c2bd7c5732c"
  },
  {
   "cell_type": "markdown",
   "source": [
    "2) Process data gaps (delete or proof that there aren't any)"
   ],
   "metadata": {
    "collapsed": false
   },
   "id": "aec8c33457735d0f"
  },
  {
   "cell_type": "code",
   "execution_count": 31,
   "outputs": [
    {
     "data": {
      "text/plain": "(62630, 16)"
     },
     "execution_count": 31,
     "metadata": {},
     "output_type": "execute_result"
    }
   ],
   "source": [
    "smoke_train.dropna(how=\"any\")\n",
    "smoke_train.shape\n",
    "# none of the rows are being dropped"
   ],
   "metadata": {
    "collapsed": false,
    "ExecuteTime": {
     "end_time": "2023-09-27T18:52:54.179620239Z",
     "start_time": "2023-09-27T18:52:53.794078092Z"
    }
   },
   "id": "aa618a9129f273f9"
  },
  {
   "cell_type": "markdown",
   "source": [
    "3) Visualize data\n",
    "    - heatmap\n",
    "    - histogram of feature distribution\n",
    "    - features boxplot"
   ],
   "metadata": {
    "collapsed": false
   },
   "id": "6a4a91c59bb8b70f"
  },
  {
   "cell_type": "code",
   "execution_count": null,
   "outputs": [],
   "source": [],
   "metadata": {
    "collapsed": false
   },
   "id": "750ecd5f17169967"
  }
 ],
 "metadata": {
  "kernelspec": {
   "display_name": "Python 3",
   "language": "python",
   "name": "python3"
  },
  "language_info": {
   "codemirror_mode": {
    "name": "ipython",
    "version": 2
   },
   "file_extension": ".py",
   "mimetype": "text/x-python",
   "name": "python",
   "nbconvert_exporter": "python",
   "pygments_lexer": "ipython2",
   "version": "2.7.6"
  }
 },
 "nbformat": 4,
 "nbformat_minor": 5
}

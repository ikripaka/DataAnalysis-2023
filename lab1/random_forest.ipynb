{
 "cells": [
  {
   "cell_type": "markdown",
   "source": [
    "## Ada boost"
   ],
   "metadata": {
    "collapsed": false
   },
   "id": "3e168ad463cacc01"
  },
  {
   "cell_type": "code",
   "execution_count": 2,
   "id": "initial_id",
   "metadata": {
    "collapsed": true,
    "ExecuteTime": {
     "end_time": "2023-10-04T20:04:45.520581557Z",
     "start_time": "2023-10-04T20:04:45.195678035Z"
    }
   },
   "outputs": [],
   "source": [
    "import pandas as pd\n",
    "import seaborn as sns\n",
    "import matplotlib.pyplot as plt\n",
    "import numpy as np\n",
    "from IPython.display import Image\n",
    "import graphviz\n",
    "\n",
    "from sklearn.tree import export_graphviz\n",
    "from sklearn.ensemble import RandomForestClassifier\n",
    "from sklearn.preprocessing import LabelEncoder, StandardScaler\n",
    "from sklearn.metrics import classification_report,confusion_matrix, accuracy_score\n",
    "from sklearn.model_selection import train_test_split"
   ]
  },
  {
   "cell_type": "markdown",
   "source": [
    "## Reading [Smoke Detection](https://www.kaggle.com/datasets/deepcontractor/smoke-detection-dataset/) dataset\n",
    "\n",
    "[Real-time Smoke Detection with AI-based Sensor Fusion](https://www.hackster.io/stefanblattmann/real-time-smoke-detection-with-ai-based-sensor-fusion-1086e6)"
   ],
   "metadata": {
    "collapsed": false
   },
   "id": "c45fb3161766d1b4"
  },
  {
   "cell_type": "code",
   "execution_count": 3,
   "outputs": [
    {
     "data": {
      "text/plain": "   Temperature[C]  Humidity[%]  TVOC[ppb]  Raw H2  Raw Ethanol  Pressure[hPa]  \\\n0          20.000        57.36          0   12306        18520        939.735   \n1          20.015        56.67          0   12345        18651        939.744   \n2          20.029        55.96          0   12374        18764        939.738   \n3          20.044        55.28          0   12390        18849        939.736   \n4          20.059        54.69          0   12403        18921        939.744   \n\n   PM2.5  NC0.5  NC1.0  NC2.5  Fire Alarm  \n0    0.0    0.0    0.0    0.0           0  \n1    0.0    0.0    0.0    0.0           0  \n2    0.0    0.0    0.0    0.0           0  \n3    0.0    0.0    0.0    0.0           0  \n4    0.0    0.0    0.0    0.0           0  ",
      "text/html": "<div>\n<style scoped>\n    .dataframe tbody tr th:only-of-type {\n        vertical-align: middle;\n    }\n\n    .dataframe tbody tr th {\n        vertical-align: top;\n    }\n\n    .dataframe thead th {\n        text-align: right;\n    }\n</style>\n<table border=\"1\" class=\"dataframe\">\n  <thead>\n    <tr style=\"text-align: right;\">\n      <th></th>\n      <th>Temperature[C]</th>\n      <th>Humidity[%]</th>\n      <th>TVOC[ppb]</th>\n      <th>Raw H2</th>\n      <th>Raw Ethanol</th>\n      <th>Pressure[hPa]</th>\n      <th>PM2.5</th>\n      <th>NC0.5</th>\n      <th>NC1.0</th>\n      <th>NC2.5</th>\n      <th>Fire Alarm</th>\n    </tr>\n  </thead>\n  <tbody>\n    <tr>\n      <th>0</th>\n      <td>20.000</td>\n      <td>57.36</td>\n      <td>0</td>\n      <td>12306</td>\n      <td>18520</td>\n      <td>939.735</td>\n      <td>0.0</td>\n      <td>0.0</td>\n      <td>0.0</td>\n      <td>0.0</td>\n      <td>0</td>\n    </tr>\n    <tr>\n      <th>1</th>\n      <td>20.015</td>\n      <td>56.67</td>\n      <td>0</td>\n      <td>12345</td>\n      <td>18651</td>\n      <td>939.744</td>\n      <td>0.0</td>\n      <td>0.0</td>\n      <td>0.0</td>\n      <td>0.0</td>\n      <td>0</td>\n    </tr>\n    <tr>\n      <th>2</th>\n      <td>20.029</td>\n      <td>55.96</td>\n      <td>0</td>\n      <td>12374</td>\n      <td>18764</td>\n      <td>939.738</td>\n      <td>0.0</td>\n      <td>0.0</td>\n      <td>0.0</td>\n      <td>0.0</td>\n      <td>0</td>\n    </tr>\n    <tr>\n      <th>3</th>\n      <td>20.044</td>\n      <td>55.28</td>\n      <td>0</td>\n      <td>12390</td>\n      <td>18849</td>\n      <td>939.736</td>\n      <td>0.0</td>\n      <td>0.0</td>\n      <td>0.0</td>\n      <td>0.0</td>\n      <td>0</td>\n    </tr>\n    <tr>\n      <th>4</th>\n      <td>20.059</td>\n      <td>54.69</td>\n      <td>0</td>\n      <td>12403</td>\n      <td>18921</td>\n      <td>939.744</td>\n      <td>0.0</td>\n      <td>0.0</td>\n      <td>0.0</td>\n      <td>0.0</td>\n      <td>0</td>\n    </tr>\n  </tbody>\n</table>\n</div>"
     },
     "execution_count": 3,
     "metadata": {},
     "output_type": "execute_result"
    }
   ],
   "source": [
    "smoke_train = pd.read_csv(\"./smoke_detection_iot.csv\")\n",
    "# smoke_edited = smoke_train.drop(columns=['Index', 'UTC', 'CNT', 'PM1.0', 'eCO2[ppm]'])\n",
    "# smoke_edited = smoke_train.drop(columns=['Index', 'UTC', 'CNT'])\n",
    "smoke_edited = smoke_train.drop(columns=['Index', 'UTC', 'CNT', 'PM1.0', 'eCO2[ppm]'])\n",
    "smoke_edited.head()"
   ],
   "metadata": {
    "collapsed": false,
    "ExecuteTime": {
     "end_time": "2023-10-04T20:04:45.673514928Z",
     "start_time": "2023-10-04T20:04:45.563642631Z"
    }
   },
   "id": "6a18224563cb1ef6"
  },
  {
   "cell_type": "code",
   "execution_count": 4,
   "outputs": [
    {
     "name": "stdout",
     "output_type": "stream",
     "text": [
      "<class 'pandas.core.frame.DataFrame'>\n",
      "RangeIndex: 62630 entries, 0 to 62629\n",
      "Data columns (total 11 columns):\n",
      " #   Column          Non-Null Count  Dtype  \n",
      "---  ------          --------------  -----  \n",
      " 0   Temperature[C]  62630 non-null  float64\n",
      " 1   Humidity[%]     62630 non-null  float64\n",
      " 2   TVOC[ppb]       62630 non-null  int64  \n",
      " 3   Raw H2          62630 non-null  int64  \n",
      " 4   Raw Ethanol     62630 non-null  int64  \n",
      " 5   Pressure[hPa]   62630 non-null  float64\n",
      " 6   PM2.5           62630 non-null  float64\n",
      " 7   NC0.5           62630 non-null  float64\n",
      " 8   NC1.0           62630 non-null  float64\n",
      " 9   NC2.5           62630 non-null  float64\n",
      " 10  Fire Alarm      62630 non-null  int64  \n",
      "dtypes: float64(7), int64(4)\n",
      "memory usage: 5.3 MB\n"
     ]
    }
   ],
   "source": [
    "smoke_edited.info()"
   ],
   "metadata": {
    "collapsed": false,
    "ExecuteTime": {
     "end_time": "2023-10-04T20:04:45.765318769Z",
     "start_time": "2023-10-04T20:04:45.670370386Z"
    }
   },
   "id": "1adefc00d76886c1"
  },
  {
   "cell_type": "markdown",
   "source": [
    "## Processing Smoke detection"
   ],
   "metadata": {
    "collapsed": false
   },
   "id": "94df091d758433db"
  },
  {
   "cell_type": "code",
   "execution_count": 5,
   "outputs": [
    {
     "data": {
      "text/plain": "Temperature[C]    0\nHumidity[%]       0\nTVOC[ppb]         0\nRaw H2            0\nRaw Ethanol       0\nPressure[hPa]     0\nPM2.5             0\nNC0.5             0\nNC1.0             0\nNC2.5             0\nFire Alarm        0\ndtype: int64"
     },
     "execution_count": 5,
     "metadata": {},
     "output_type": "execute_result"
    }
   ],
   "source": [
    "smoke_edited.isnull().sum()"
   ],
   "metadata": {
    "collapsed": false,
    "ExecuteTime": {
     "end_time": "2023-10-04T20:04:45.765757584Z",
     "start_time": "2023-10-04T20:04:45.711821029Z"
    }
   },
   "id": "4eae3bc420f5916"
  },
  {
   "cell_type": "markdown",
   "source": [
    "## Split data"
   ],
   "metadata": {
    "collapsed": false
   },
   "id": "cd56b120594c69cb"
  },
  {
   "cell_type": "code",
   "execution_count": 6,
   "outputs": [],
   "source": [
    "X = smoke_edited.drop(['Fire Alarm'], axis = 1)\n",
    "y = smoke_edited['Fire Alarm']\n",
    "\n",
    "X_train, X_test, y_train, y_test = train_test_split(X, y, test_size=0.20)"
   ],
   "metadata": {
    "collapsed": false,
    "ExecuteTime": {
     "end_time": "2023-10-04T20:04:45.765930422Z",
     "start_time": "2023-10-04T20:04:45.712094488Z"
    }
   },
   "id": "8aea936b718aecf9"
  },
  {
   "cell_type": "markdown",
   "source": [
    "## Standartization"
   ],
   "metadata": {
    "collapsed": false
   },
   "id": "c41d3f7f9dbafe8e"
  },
  {
   "cell_type": "code",
   "execution_count": 7,
   "outputs": [
    {
     "data": {
      "text/plain": "StandardScaler()",
      "text/html": "<style>#sk-container-id-1 {color: black;}#sk-container-id-1 pre{padding: 0;}#sk-container-id-1 div.sk-toggleable {background-color: white;}#sk-container-id-1 label.sk-toggleable__label {cursor: pointer;display: block;width: 100%;margin-bottom: 0;padding: 0.3em;box-sizing: border-box;text-align: center;}#sk-container-id-1 label.sk-toggleable__label-arrow:before {content: \"▸\";float: left;margin-right: 0.25em;color: #696969;}#sk-container-id-1 label.sk-toggleable__label-arrow:hover:before {color: black;}#sk-container-id-1 div.sk-estimator:hover label.sk-toggleable__label-arrow:before {color: black;}#sk-container-id-1 div.sk-toggleable__content {max-height: 0;max-width: 0;overflow: hidden;text-align: left;background-color: #f0f8ff;}#sk-container-id-1 div.sk-toggleable__content pre {margin: 0.2em;color: black;border-radius: 0.25em;background-color: #f0f8ff;}#sk-container-id-1 input.sk-toggleable__control:checked~div.sk-toggleable__content {max-height: 200px;max-width: 100%;overflow: auto;}#sk-container-id-1 input.sk-toggleable__control:checked~label.sk-toggleable__label-arrow:before {content: \"▾\";}#sk-container-id-1 div.sk-estimator input.sk-toggleable__control:checked~label.sk-toggleable__label {background-color: #d4ebff;}#sk-container-id-1 div.sk-label input.sk-toggleable__control:checked~label.sk-toggleable__label {background-color: #d4ebff;}#sk-container-id-1 input.sk-hidden--visually {border: 0;clip: rect(1px 1px 1px 1px);clip: rect(1px, 1px, 1px, 1px);height: 1px;margin: -1px;overflow: hidden;padding: 0;position: absolute;width: 1px;}#sk-container-id-1 div.sk-estimator {font-family: monospace;background-color: #f0f8ff;border: 1px dotted black;border-radius: 0.25em;box-sizing: border-box;margin-bottom: 0.5em;}#sk-container-id-1 div.sk-estimator:hover {background-color: #d4ebff;}#sk-container-id-1 div.sk-parallel-item::after {content: \"\";width: 100%;border-bottom: 1px solid gray;flex-grow: 1;}#sk-container-id-1 div.sk-label:hover label.sk-toggleable__label {background-color: #d4ebff;}#sk-container-id-1 div.sk-serial::before {content: \"\";position: absolute;border-left: 1px solid gray;box-sizing: border-box;top: 0;bottom: 0;left: 50%;z-index: 0;}#sk-container-id-1 div.sk-serial {display: flex;flex-direction: column;align-items: center;background-color: white;padding-right: 0.2em;padding-left: 0.2em;position: relative;}#sk-container-id-1 div.sk-item {position: relative;z-index: 1;}#sk-container-id-1 div.sk-parallel {display: flex;align-items: stretch;justify-content: center;background-color: white;position: relative;}#sk-container-id-1 div.sk-item::before, #sk-container-id-1 div.sk-parallel-item::before {content: \"\";position: absolute;border-left: 1px solid gray;box-sizing: border-box;top: 0;bottom: 0;left: 50%;z-index: -1;}#sk-container-id-1 div.sk-parallel-item {display: flex;flex-direction: column;z-index: 1;position: relative;background-color: white;}#sk-container-id-1 div.sk-parallel-item:first-child::after {align-self: flex-end;width: 50%;}#sk-container-id-1 div.sk-parallel-item:last-child::after {align-self: flex-start;width: 50%;}#sk-container-id-1 div.sk-parallel-item:only-child::after {width: 0;}#sk-container-id-1 div.sk-dashed-wrapped {border: 1px dashed gray;margin: 0 0.4em 0.5em 0.4em;box-sizing: border-box;padding-bottom: 0.4em;background-color: white;}#sk-container-id-1 div.sk-label label {font-family: monospace;font-weight: bold;display: inline-block;line-height: 1.2em;}#sk-container-id-1 div.sk-label-container {text-align: center;}#sk-container-id-1 div.sk-container {/* jupyter's `normalize.less` sets `[hidden] { display: none; }` but bootstrap.min.css set `[hidden] { display: none !important; }` so we also need the `!important` here to be able to override the default hidden behavior on the sphinx rendered scikit-learn.org. See: https://github.com/scikit-learn/scikit-learn/issues/21755 */display: inline-block !important;position: relative;}#sk-container-id-1 div.sk-text-repr-fallback {display: none;}</style><div id=\"sk-container-id-1\" class=\"sk-top-container\"><div class=\"sk-text-repr-fallback\"><pre>StandardScaler()</pre><b>In a Jupyter environment, please rerun this cell to show the HTML representation or trust the notebook. <br />On GitHub, the HTML representation is unable to render, please try loading this page with nbviewer.org.</b></div><div class=\"sk-container\" hidden><div class=\"sk-item\"><div class=\"sk-estimator sk-toggleable\"><input class=\"sk-toggleable__control sk-hidden--visually\" id=\"sk-estimator-id-1\" type=\"checkbox\" checked><label for=\"sk-estimator-id-1\" class=\"sk-toggleable__label sk-toggleable__label-arrow\">StandardScaler</label><div class=\"sk-toggleable__content\"><pre>StandardScaler()</pre></div></div></div></div></div>"
     },
     "execution_count": 7,
     "metadata": {},
     "output_type": "execute_result"
    }
   ],
   "source": [
    "scaler = StandardScaler()\n",
    "scaler.fit(X_train)"
   ],
   "metadata": {
    "collapsed": false,
    "ExecuteTime": {
     "end_time": "2023-10-04T20:04:45.819253175Z",
     "start_time": "2023-10-04T20:04:45.712257964Z"
    }
   },
   "id": "ce4e4b79678ef7c"
  },
  {
   "cell_type": "code",
   "execution_count": 8,
   "outputs": [],
   "source": [
    "scaled_X_train = scaler.transform(X_train) \n",
    "scaled_X_test = scaler.transform(X_test) "
   ],
   "metadata": {
    "collapsed": false,
    "ExecuteTime": {
     "end_time": "2023-10-04T20:04:45.821123181Z",
     "start_time": "2023-10-04T20:04:45.759841225Z"
    }
   },
   "id": "95690a08cbb7f94d"
  },
  {
   "cell_type": "markdown",
   "source": [
    "## Random forest model"
   ],
   "metadata": {
    "collapsed": false
   },
   "id": "257330321a2e3ca3"
  },
  {
   "cell_type": "code",
   "execution_count": 9,
   "outputs": [
    {
     "data": {
      "text/plain": "RandomForestClassifier(max_depth=2, random_state=0)",
      "text/html": "<style>#sk-container-id-2 {color: black;}#sk-container-id-2 pre{padding: 0;}#sk-container-id-2 div.sk-toggleable {background-color: white;}#sk-container-id-2 label.sk-toggleable__label {cursor: pointer;display: block;width: 100%;margin-bottom: 0;padding: 0.3em;box-sizing: border-box;text-align: center;}#sk-container-id-2 label.sk-toggleable__label-arrow:before {content: \"▸\";float: left;margin-right: 0.25em;color: #696969;}#sk-container-id-2 label.sk-toggleable__label-arrow:hover:before {color: black;}#sk-container-id-2 div.sk-estimator:hover label.sk-toggleable__label-arrow:before {color: black;}#sk-container-id-2 div.sk-toggleable__content {max-height: 0;max-width: 0;overflow: hidden;text-align: left;background-color: #f0f8ff;}#sk-container-id-2 div.sk-toggleable__content pre {margin: 0.2em;color: black;border-radius: 0.25em;background-color: #f0f8ff;}#sk-container-id-2 input.sk-toggleable__control:checked~div.sk-toggleable__content {max-height: 200px;max-width: 100%;overflow: auto;}#sk-container-id-2 input.sk-toggleable__control:checked~label.sk-toggleable__label-arrow:before {content: \"▾\";}#sk-container-id-2 div.sk-estimator input.sk-toggleable__control:checked~label.sk-toggleable__label {background-color: #d4ebff;}#sk-container-id-2 div.sk-label input.sk-toggleable__control:checked~label.sk-toggleable__label {background-color: #d4ebff;}#sk-container-id-2 input.sk-hidden--visually {border: 0;clip: rect(1px 1px 1px 1px);clip: rect(1px, 1px, 1px, 1px);height: 1px;margin: -1px;overflow: hidden;padding: 0;position: absolute;width: 1px;}#sk-container-id-2 div.sk-estimator {font-family: monospace;background-color: #f0f8ff;border: 1px dotted black;border-radius: 0.25em;box-sizing: border-box;margin-bottom: 0.5em;}#sk-container-id-2 div.sk-estimator:hover {background-color: #d4ebff;}#sk-container-id-2 div.sk-parallel-item::after {content: \"\";width: 100%;border-bottom: 1px solid gray;flex-grow: 1;}#sk-container-id-2 div.sk-label:hover label.sk-toggleable__label {background-color: #d4ebff;}#sk-container-id-2 div.sk-serial::before {content: \"\";position: absolute;border-left: 1px solid gray;box-sizing: border-box;top: 0;bottom: 0;left: 50%;z-index: 0;}#sk-container-id-2 div.sk-serial {display: flex;flex-direction: column;align-items: center;background-color: white;padding-right: 0.2em;padding-left: 0.2em;position: relative;}#sk-container-id-2 div.sk-item {position: relative;z-index: 1;}#sk-container-id-2 div.sk-parallel {display: flex;align-items: stretch;justify-content: center;background-color: white;position: relative;}#sk-container-id-2 div.sk-item::before, #sk-container-id-2 div.sk-parallel-item::before {content: \"\";position: absolute;border-left: 1px solid gray;box-sizing: border-box;top: 0;bottom: 0;left: 50%;z-index: -1;}#sk-container-id-2 div.sk-parallel-item {display: flex;flex-direction: column;z-index: 1;position: relative;background-color: white;}#sk-container-id-2 div.sk-parallel-item:first-child::after {align-self: flex-end;width: 50%;}#sk-container-id-2 div.sk-parallel-item:last-child::after {align-self: flex-start;width: 50%;}#sk-container-id-2 div.sk-parallel-item:only-child::after {width: 0;}#sk-container-id-2 div.sk-dashed-wrapped {border: 1px dashed gray;margin: 0 0.4em 0.5em 0.4em;box-sizing: border-box;padding-bottom: 0.4em;background-color: white;}#sk-container-id-2 div.sk-label label {font-family: monospace;font-weight: bold;display: inline-block;line-height: 1.2em;}#sk-container-id-2 div.sk-label-container {text-align: center;}#sk-container-id-2 div.sk-container {/* jupyter's `normalize.less` sets `[hidden] { display: none; }` but bootstrap.min.css set `[hidden] { display: none !important; }` so we also need the `!important` here to be able to override the default hidden behavior on the sphinx rendered scikit-learn.org. See: https://github.com/scikit-learn/scikit-learn/issues/21755 */display: inline-block !important;position: relative;}#sk-container-id-2 div.sk-text-repr-fallback {display: none;}</style><div id=\"sk-container-id-2\" class=\"sk-top-container\"><div class=\"sk-text-repr-fallback\"><pre>RandomForestClassifier(max_depth=2, random_state=0)</pre><b>In a Jupyter environment, please rerun this cell to show the HTML representation or trust the notebook. <br />On GitHub, the HTML representation is unable to render, please try loading this page with nbviewer.org.</b></div><div class=\"sk-container\" hidden><div class=\"sk-item\"><div class=\"sk-estimator sk-toggleable\"><input class=\"sk-toggleable__control sk-hidden--visually\" id=\"sk-estimator-id-2\" type=\"checkbox\" checked><label for=\"sk-estimator-id-2\" class=\"sk-toggleable__label sk-toggleable__label-arrow\">RandomForestClassifier</label><div class=\"sk-toggleable__content\"><pre>RandomForestClassifier(max_depth=2, random_state=0)</pre></div></div></div></div></div>"
     },
     "execution_count": 9,
     "metadata": {},
     "output_type": "execute_result"
    }
   ],
   "source": [
    "random_forest = RandomForestClassifier(max_depth=2, random_state=0)\n",
    "random_forest.fit(scaled_X_train, y_train)"
   ],
   "metadata": {
    "collapsed": false,
    "ExecuteTime": {
     "end_time": "2023-10-04T20:04:47.951202446Z",
     "start_time": "2023-10-04T20:04:45.760200935Z"
    }
   },
   "id": "ff88a1fe2982899f"
  },
  {
   "cell_type": "code",
   "execution_count": 10,
   "outputs": [],
   "source": [
    "pred = random_forest.predict(scaled_X_test)"
   ],
   "metadata": {
    "collapsed": false,
    "ExecuteTime": {
     "end_time": "2023-10-04T20:04:48.058099067Z",
     "start_time": "2023-10-04T20:04:47.945540996Z"
    }
   },
   "id": "cc207983489d42f9"
  },
  {
   "cell_type": "markdown",
   "source": [
    "## Evaluation"
   ],
   "metadata": {
    "collapsed": false
   },
   "id": "9c0d313257779d37"
  },
  {
   "cell_type": "code",
   "execution_count": 11,
   "outputs": [
    {
     "name": "stdout",
     "output_type": "stream",
     "text": [
      "[[3410   89]\n",
      " [ 183 8844]]\n"
     ]
    }
   ],
   "source": [
    "print(confusion_matrix(y_test,pred))"
   ],
   "metadata": {
    "collapsed": false,
    "ExecuteTime": {
     "end_time": "2023-10-04T20:04:48.059489466Z",
     "start_time": "2023-10-04T20:04:48.055808172Z"
    }
   },
   "id": "508adad7f9dd6fce"
  },
  {
   "cell_type": "code",
   "execution_count": 12,
   "outputs": [
    {
     "name": "stdout",
     "output_type": "stream",
     "text": [
      "              precision    recall  f1-score   support\n",
      "\n",
      "           0       0.95      0.97      0.96      3499\n",
      "           1       0.99      0.98      0.98      9027\n",
      "\n",
      "    accuracy                           0.98     12526\n",
      "   macro avg       0.97      0.98      0.97     12526\n",
      "weighted avg       0.98      0.98      0.98     12526\n"
     ]
    }
   ],
   "source": [
    "print(classification_report(y_test,pred))"
   ],
   "metadata": {
    "collapsed": false,
    "ExecuteTime": {
     "end_time": "2023-10-04T20:04:48.081134634Z",
     "start_time": "2023-10-04T20:04:48.056074110Z"
    }
   },
   "id": "4949c7a5fde62260"
  },
  {
   "cell_type": "code",
   "execution_count": 13,
   "outputs": [
    {
     "name": "stdout",
     "output_type": "stream",
     "text": [
      "0.9782851668529459\n"
     ]
    }
   ],
   "source": [
    "print(accuracy_score(y_test,pred))"
   ],
   "metadata": {
    "collapsed": false,
    "ExecuteTime": {
     "end_time": "2023-10-04T20:04:48.140048933Z",
     "start_time": "2023-10-04T20:04:48.070196704Z"
    }
   },
   "id": "123e4d47c4b65aa0"
  },
  {
   "cell_type": "markdown",
   "source": [
    "## Choosing parameter K"
   ],
   "metadata": {
    "collapsed": false
   },
   "id": "5ba64b22d496eca0"
  },
  {
   "cell_type": "code",
   "execution_count": 14,
   "outputs": [],
   "source": [
    "error_rate = []\n",
    "\n",
    "for i in range(1,30):\n",
    "    random_forest = RandomForestClassifier(max_depth=2, random_state=0)\n",
    "    random_forest.fit(scaled_X_train, y_train)\n",
    "    pred_i = random_forest.predict(scaled_X_test)\n",
    "    error_rate.append(np.mean(pred_i != y_test))"
   ],
   "metadata": {
    "collapsed": false,
    "ExecuteTime": {
     "end_time": "2023-10-04T20:05:48.688700446Z",
     "start_time": "2023-10-04T20:04:48.111627566Z"
    }
   },
   "id": "cb2fc635b20a4748"
  },
  {
   "cell_type": "code",
   "execution_count": 15,
   "outputs": [
    {
     "data": {
      "text/plain": "<Figure size 1000x600 with 1 Axes>",
      "image/png": "[encoded data removed]"
     },
     "metadata": {},
     "output_type": "display_data"
    }
   ],
   "source": [
    "plt.figure(figsize=(10,6))\n",
    "plt.plot(range(1,30), error_rate, marker='o', markersize=10)\n",
    "plt.title('Error Rate vs. K Value')\n",
    "plt.xlabel('K')\n",
    "plt.ylabel('Error Rate')\n",
    "plt.grid()"
   ],
   "metadata": {
    "collapsed": false,
    "ExecuteTime": {
     "end_time": "2023-10-04T20:05:48.981185640Z",
     "start_time": "2023-10-04T20:05:48.731584185Z"
    }
   },
   "id": "312823ca0baa8ec1"
  },
  {
   "cell_type": "code",
   "execution_count": 21,
   "outputs": [
    {
     "data": {
      "image/svg+xml": "<?xml version=\"1.0\" encoding=\"UTF-8\" standalone=\"no\"?>\n<!DOCTYPE svg PUBLIC \"-//W3C//DTD SVG 1.1//EN\"\n \"http://www.w3.org/Graphics/SVG/1.1/DTD/svg11.dtd\">\n<!-- Generated by graphviz version 2.43.0 (0)\n -->\n<!-- Title: Tree Pages: 1 -->\n<svg width=\"794pt\" height=\"311pt\"\n viewBox=\"0.00 0.00 793.50 311.00\" xmlns=\"http://www.w3.org/2000/svg\" xmlns:xlink=\"http://www.w3.org/1999/xlink\">\n<g id=\"graph0\" class=\"graph\" transform=\"scale(1 1) rotate(0) translate(4 307)\">\n<title>Tree</title>\n<polygon fill=\"white\" stroke=\"transparent\" points=\"-4,4 -4,-307 789.5,-307 789.5,4 -4,4\"/>\n<!-- 0 -->\n<g id=\"node1\" class=\"node\">\n<title>0</title>\n<polygon fill=\"#8ac5f0\" stroke=\"black\" points=\"492.5,-303 316.5,-303 316.5,-250 492.5,-250 492.5,-303\"/>\n<text text-anchor=\"middle\" x=\"404.5\" y=\"-287.8\" font-family=\"Helvetica,sans-Serif\" font-size=\"14.00\">Raw H2 &lt;= &#45;0.551</text>\n<text text-anchor=\"middle\" x=\"404.5\" y=\"-272.8\" font-family=\"Helvetica,sans-Serif\" font-size=\"14.00\">samples = 100.0%</text>\n<text text-anchor=\"middle\" x=\"404.5\" y=\"-257.8\" font-family=\"Helvetica,sans-Serif\" font-size=\"14.00\">value = [0.289, 0.711]</text>\n</g>\n<!-- 1 -->\n<g id=\"node2\" class=\"node\">\n<title>1</title>\n<polygon fill=\"#efb489\" stroke=\"black\" points=\"394.5,-214 218.5,-214 218.5,-161 394.5,-161 394.5,-214\"/>\n<text text-anchor=\"middle\" x=\"306.5\" y=\"-198.8\" font-family=\"Helvetica,sans-Serif\" font-size=\"14.00\">TVOC[ppb] &lt;= &#45;0.218</text>\n<text text-anchor=\"middle\" x=\"306.5\" y=\"-183.8\" font-family=\"Helvetica,sans-Serif\" font-size=\"14.00\">samples = 17.0%</text>\n<text text-anchor=\"middle\" x=\"306.5\" y=\"-168.8\" font-family=\"Helvetica,sans-Serif\" font-size=\"14.00\">value = [0.712, 0.288]</text>\n</g>\n<!-- 0&#45;&gt;1 -->\n<g id=\"edge1\" class=\"edge\">\n<title>0&#45;&gt;1</title>\n<path fill=\"none\" stroke=\"black\" d=\"M375.63,-249.87C365.45,-240.83 353.87,-230.55 343.14,-221.03\"/>\n<polygon fill=\"black\" stroke=\"black\" points=\"345.31,-218.27 335.51,-214.25 340.66,-223.51 345.31,-218.27\"/>\n<text text-anchor=\"middle\" x=\"336.99\" y=\"-235.51\" font-family=\"Helvetica,sans-Serif\" font-size=\"14.00\">True</text>\n</g>\n<!-- 8 -->\n<g id=\"node9\" class=\"node\">\n<title>8</title>\n<polygon fill=\"#6bb6ec\" stroke=\"black\" points=\"594.5,-214 412.5,-214 412.5,-161 594.5,-161 594.5,-214\"/>\n<text text-anchor=\"middle\" x=\"503.5\" y=\"-198.8\" font-family=\"Helvetica,sans-Serif\" font-size=\"14.00\">Humidity[%] &lt;= &#45;0.217</text>\n<text text-anchor=\"middle\" x=\"503.5\" y=\"-183.8\" font-family=\"Helvetica,sans-Serif\" font-size=\"14.00\">samples = 83.0%</text>\n<text text-anchor=\"middle\" x=\"503.5\" y=\"-168.8\" font-family=\"Helvetica,sans-Serif\" font-size=\"14.00\">value = [0.202, 0.798]</text>\n</g>\n<!-- 0&#45;&gt;8 -->\n<g id=\"edge8\" class=\"edge\">\n<title>0&#45;&gt;8</title>\n<path fill=\"none\" stroke=\"black\" d=\"M433.67,-249.87C443.95,-240.83 455.65,-230.55 466.49,-221.03\"/>\n<polygon fill=\"black\" stroke=\"black\" points=\"469,-223.48 474.2,-214.25 464.38,-218.22 469,-223.48\"/>\n<text text-anchor=\"middle\" x=\"472.59\" y=\"-235.5\" font-family=\"Helvetica,sans-Serif\" font-size=\"14.00\">False</text>\n</g>\n<!-- 2 -->\n<g id=\"node3\" class=\"node\">\n<title>2</title>\n<polygon fill=\"#e6853f\" stroke=\"black\" points=\"197,-125 0,-125 0,-72 197,-72 197,-125\"/>\n<text text-anchor=\"middle\" x=\"98.5\" y=\"-109.8\" font-family=\"Helvetica,sans-Serif\" font-size=\"14.00\">Temperature[C] &lt;= 1.029</text>\n<text text-anchor=\"middle\" x=\"98.5\" y=\"-94.8\" font-family=\"Helvetica,sans-Serif\" font-size=\"14.00\">samples = 10.0%</text>\n<text text-anchor=\"middle\" x=\"98.5\" y=\"-79.8\" font-family=\"Helvetica,sans-Serif\" font-size=\"14.00\">value = [0.97, 0.03]</text>\n</g>\n<!-- 1&#45;&gt;2 -->\n<g id=\"edge2\" class=\"edge\">\n<title>1&#45;&gt;2</title>\n<path fill=\"none\" stroke=\"black\" d=\"M245.5,-160.98C221.48,-150.94 193.74,-139.34 168.88,-128.94\"/>\n<polygon fill=\"black\" stroke=\"black\" points=\"170.08,-125.64 159.5,-125.01 167.38,-132.1 170.08,-125.64\"/>\n</g>\n<!-- 5 -->\n<g id=\"node6\" class=\"node\">\n<title>5</title>\n<polygon fill=\"#a4d2f3\" stroke=\"black\" points=\"397.5,-125 215.5,-125 215.5,-72 397.5,-72 397.5,-125\"/>\n<text text-anchor=\"middle\" x=\"306.5\" y=\"-109.8\" font-family=\"Helvetica,sans-Serif\" font-size=\"14.00\">Raw Ethanol &lt;= &#45;0.881</text>\n<text text-anchor=\"middle\" x=\"306.5\" y=\"-94.8\" font-family=\"Helvetica,sans-Serif\" font-size=\"14.00\">samples = 7.1%</text>\n<text text-anchor=\"middle\" x=\"306.5\" y=\"-79.8\" font-family=\"Helvetica,sans-Serif\" font-size=\"14.00\">value = [0.35, 0.65]</text>\n</g>\n<!-- 1&#45;&gt;5 -->\n<g id=\"edge5\" class=\"edge\">\n<title>1&#45;&gt;5</title>\n<path fill=\"none\" stroke=\"black\" d=\"M306.5,-160.87C306.5,-152.89 306.5,-143.93 306.5,-135.38\"/>\n<polygon fill=\"black\" stroke=\"black\" points=\"310,-135.25 306.5,-125.25 303,-135.25 310,-135.25\"/>\n</g>\n<!-- 3 -->\n<g id=\"node4\" class=\"node\">\n<title>3</title>\n<polygon fill=\"#c0c0c0\" stroke=\"black\" points=\"89.5,-36 35.5,-36 35.5,0 89.5,0 89.5,-36\"/>\n<text text-anchor=\"middle\" x=\"62.5\" y=\"-14.3\" font-family=\"Helvetica,sans-Serif\" font-size=\"14.00\">(...)</text>\n</g>\n<!-- 2&#45;&gt;3 -->\n<g id=\"edge3\" class=\"edge\">\n<title>2&#45;&gt;3</title>\n<path fill=\"none\" stroke=\"black\" d=\"M86.71,-71.8C82.84,-63.35 78.53,-53.95 74.63,-45.45\"/>\n<polygon fill=\"black\" stroke=\"black\" points=\"77.8,-43.96 70.45,-36.33 71.43,-46.88 77.8,-43.96\"/>\n</g>\n<!-- 4 -->\n<g id=\"node5\" class=\"node\">\n<title>4</title>\n<polygon fill=\"#c0c0c0\" stroke=\"black\" points=\"161.5,-36 107.5,-36 107.5,0 161.5,0 161.5,-36\"/>\n<text text-anchor=\"middle\" x=\"134.5\" y=\"-14.3\" font-family=\"Helvetica,sans-Serif\" font-size=\"14.00\">(...)</text>\n</g>\n<!-- 2&#45;&gt;4 -->\n<g id=\"edge4\" class=\"edge\">\n<title>2&#45;&gt;4</title>\n<path fill=\"none\" stroke=\"black\" d=\"M110.29,-71.8C114.16,-63.35 118.47,-53.95 122.37,-45.45\"/>\n<polygon fill=\"black\" stroke=\"black\" points=\"125.57,-46.88 126.55,-36.33 119.2,-43.96 125.57,-46.88\"/>\n</g>\n<!-- 6 -->\n<g id=\"node7\" class=\"node\">\n<title>6</title>\n<polygon fill=\"#c0c0c0\" stroke=\"black\" points=\"310.5,-36 256.5,-36 256.5,0 310.5,0 310.5,-36\"/>\n<text text-anchor=\"middle\" x=\"283.5\" y=\"-14.3\" font-family=\"Helvetica,sans-Serif\" font-size=\"14.00\">(...)</text>\n</g>\n<!-- 5&#45;&gt;6 -->\n<g id=\"edge6\" class=\"edge\">\n<title>5&#45;&gt;6</title>\n<path fill=\"none\" stroke=\"black\" d=\"M298.97,-71.8C296.55,-63.53 293.86,-54.35 291.41,-46\"/>\n<polygon fill=\"black\" stroke=\"black\" points=\"294.75,-44.94 288.58,-36.33 288.03,-46.91 294.75,-44.94\"/>\n</g>\n<!-- 7 -->\n<g id=\"node8\" class=\"node\">\n<title>7</title>\n<polygon fill=\"#c0c0c0\" stroke=\"black\" points=\"382.5,-36 328.5,-36 328.5,0 382.5,0 382.5,-36\"/>\n<text text-anchor=\"middle\" x=\"355.5\" y=\"-14.3\" font-family=\"Helvetica,sans-Serif\" font-size=\"14.00\">(...)</text>\n</g>\n<!-- 5&#45;&gt;7 -->\n<g id=\"edge7\" class=\"edge\">\n<title>5&#45;&gt;7</title>\n<path fill=\"none\" stroke=\"black\" d=\"M322.54,-71.8C327.93,-63.17 333.94,-53.54 339.33,-44.9\"/>\n<polygon fill=\"black\" stroke=\"black\" points=\"342.36,-46.67 344.68,-36.33 336.42,-42.96 342.36,-46.67\"/>\n</g>\n<!-- 9 -->\n<g id=\"node10\" class=\"node\">\n<title>9</title>\n<polygon fill=\"#e88f4f\" stroke=\"black\" points=\"591.5,-125 415.5,-125 415.5,-72 591.5,-72 591.5,-125\"/>\n<text text-anchor=\"middle\" x=\"503.5\" y=\"-109.8\" font-family=\"Helvetica,sans-Serif\" font-size=\"14.00\">NC0.5 &lt;= 0.119</text>\n<text text-anchor=\"middle\" x=\"503.5\" y=\"-94.8\" font-family=\"Helvetica,sans-Serif\" font-size=\"14.00\">samples = 8.6%</text>\n<text text-anchor=\"middle\" x=\"503.5\" y=\"-79.8\" font-family=\"Helvetica,sans-Serif\" font-size=\"14.00\">value = [0.898, 0.102]</text>\n</g>\n<!-- 8&#45;&gt;9 -->\n<g id=\"edge9\" class=\"edge\">\n<title>8&#45;&gt;9</title>\n<path fill=\"none\" stroke=\"black\" d=\"M503.5,-160.87C503.5,-152.89 503.5,-143.93 503.5,-135.38\"/>\n<polygon fill=\"black\" stroke=\"black\" points=\"507,-135.25 503.5,-125.25 500,-135.25 507,-135.25\"/>\n</g>\n<!-- 12 -->\n<g id=\"node13\" class=\"node\">\n<title>12</title>\n<polygon fill=\"#54aae9\" stroke=\"black\" points=\"785.5,-125 609.5,-125 609.5,-72 785.5,-72 785.5,-125\"/>\n<text text-anchor=\"middle\" x=\"697.5\" y=\"-109.8\" font-family=\"Helvetica,sans-Serif\" font-size=\"14.00\">TVOC[ppb] &lt;= &#45;0.236</text>\n<text text-anchor=\"middle\" x=\"697.5\" y=\"-94.8\" font-family=\"Helvetica,sans-Serif\" font-size=\"14.00\">samples = 74.3%</text>\n<text text-anchor=\"middle\" x=\"697.5\" y=\"-79.8\" font-family=\"Helvetica,sans-Serif\" font-size=\"14.00\">value = [0.121, 0.879]</text>\n</g>\n<!-- 8&#45;&gt;12 -->\n<g id=\"edge12\" class=\"edge\">\n<title>8&#45;&gt;12</title>\n<path fill=\"none\" stroke=\"black\" d=\"M560.4,-160.98C582.6,-151.03 608.22,-139.54 631.25,-129.21\"/>\n<polygon fill=\"black\" stroke=\"black\" points=\"632.91,-132.3 640.61,-125.01 630.05,-125.91 632.91,-132.3\"/>\n</g>\n<!-- 10 -->\n<g id=\"node11\" class=\"node\">\n<title>10</title>\n<polygon fill=\"#c0c0c0\" stroke=\"black\" points=\"480.5,-36 426.5,-36 426.5,0 480.5,0 480.5,-36\"/>\n<text text-anchor=\"middle\" x=\"453.5\" y=\"-14.3\" font-family=\"Helvetica,sans-Serif\" font-size=\"14.00\">(...)</text>\n</g>\n<!-- 9&#45;&gt;10 -->\n<g id=\"edge10\" class=\"edge\">\n<title>9&#45;&gt;10</title>\n<path fill=\"none\" stroke=\"black\" d=\"M487.13,-71.8C481.63,-63.17 475.5,-53.54 470,-44.9\"/>\n<polygon fill=\"black\" stroke=\"black\" points=\"472.86,-42.88 464.54,-36.33 466.96,-46.65 472.86,-42.88\"/>\n</g>\n<!-- 11 -->\n<g id=\"node12\" class=\"node\">\n<title>11</title>\n<polygon fill=\"#c0c0c0\" stroke=\"black\" points=\"552.5,-36 498.5,-36 498.5,0 552.5,0 552.5,-36\"/>\n<text text-anchor=\"middle\" x=\"525.5\" y=\"-14.3\" font-family=\"Helvetica,sans-Serif\" font-size=\"14.00\">(...)</text>\n</g>\n<!-- 9&#45;&gt;11 -->\n<g id=\"edge11\" class=\"edge\">\n<title>9&#45;&gt;11</title>\n<path fill=\"none\" stroke=\"black\" d=\"M510.7,-71.8C513.02,-63.53 515.59,-54.35 517.93,-46\"/>\n<polygon fill=\"black\" stroke=\"black\" points=\"521.31,-46.9 520.64,-36.33 514.57,-45.01 521.31,-46.9\"/>\n</g>\n<!-- 13 -->\n<g id=\"node14\" class=\"node\">\n<title>13</title>\n<polygon fill=\"#c0c0c0\" stroke=\"black\" points=\"688.5,-36 634.5,-36 634.5,0 688.5,0 688.5,-36\"/>\n<text text-anchor=\"middle\" x=\"661.5\" y=\"-14.3\" font-family=\"Helvetica,sans-Serif\" font-size=\"14.00\">(...)</text>\n</g>\n<!-- 12&#45;&gt;13 -->\n<g id=\"edge13\" class=\"edge\">\n<title>12&#45;&gt;13</title>\n<path fill=\"none\" stroke=\"black\" d=\"M685.71,-71.8C681.84,-63.35 677.53,-53.95 673.63,-45.45\"/>\n<polygon fill=\"black\" stroke=\"black\" points=\"676.8,-43.96 669.45,-36.33 670.43,-46.88 676.8,-43.96\"/>\n</g>\n<!-- 14 -->\n<g id=\"node15\" class=\"node\">\n<title>14</title>\n<polygon fill=\"#c0c0c0\" stroke=\"black\" points=\"760.5,-36 706.5,-36 706.5,0 760.5,0 760.5,-36\"/>\n<text text-anchor=\"middle\" x=\"733.5\" y=\"-14.3\" font-family=\"Helvetica,sans-Serif\" font-size=\"14.00\">(...)</text>\n</g>\n<!-- 12&#45;&gt;14 -->\n<g id=\"edge14\" class=\"edge\">\n<title>12&#45;&gt;14</title>\n<path fill=\"none\" stroke=\"black\" d=\"M709.29,-71.8C713.16,-63.35 717.47,-53.95 721.37,-45.45\"/>\n<polygon fill=\"black\" stroke=\"black\" points=\"724.57,-46.88 725.55,-36.33 718.2,-43.96 724.57,-46.88\"/>\n</g>\n</g>\n</svg>\n",
      "text/plain": "<graphviz.sources.Source at 0x7f2af8b62ad0>"
     },
     "metadata": {},
     "output_type": "display_data"
    },
    {
     "data": {
      "image/svg+xml": "<?xml version=\"1.0\" encoding=\"UTF-8\" standalone=\"no\"?>\n<!DOCTYPE svg PUBLIC \"-//W3C//DTD SVG 1.1//EN\"\n \"http://www.w3.org/Graphics/SVG/1.1/DTD/svg11.dtd\">\n<!-- Generated by graphviz version 2.43.0 (0)\n -->\n<!-- Title: Tree Pages: 1 -->\n<svg width=\"794pt\" height=\"311pt\"\n viewBox=\"0.00 0.00 794.00 311.00\" xmlns=\"http://www.w3.org/2000/svg\" xmlns:xlink=\"http://www.w3.org/1999/xlink\">\n<g id=\"graph0\" class=\"graph\" transform=\"scale(1 1) rotate(0) translate(4 307)\">\n<title>Tree</title>\n<polygon fill=\"white\" stroke=\"transparent\" points=\"-4,4 -4,-307 790,-307 790,4 -4,4\"/>\n<!-- 0 -->\n<g id=\"node1\" class=\"node\">\n<title>0</title>\n<polygon fill=\"#89c5f0\" stroke=\"black\" points=\"477,-303 301,-303 301,-250 477,-250 477,-303\"/>\n<text text-anchor=\"middle\" x=\"389\" y=\"-287.8\" font-family=\"Helvetica,sans-Serif\" font-size=\"14.00\">Raw Ethanol &lt;= 0.866</text>\n<text text-anchor=\"middle\" x=\"389\" y=\"-272.8\" font-family=\"Helvetica,sans-Serif\" font-size=\"14.00\">samples = 100.0%</text>\n<text text-anchor=\"middle\" x=\"389\" y=\"-257.8\" font-family=\"Helvetica,sans-Serif\" font-size=\"14.00\">value = [0.288, 0.712]</text>\n</g>\n<!-- 1 -->\n<g id=\"node2\" class=\"node\">\n<title>1</title>\n<polygon fill=\"#62b2ea\" stroke=\"black\" points=\"373,-214 197,-214 197,-161 373,-161 373,-214\"/>\n<text text-anchor=\"middle\" x=\"285\" y=\"-198.8\" font-family=\"Helvetica,sans-Serif\" font-size=\"14.00\">PM2.5 &lt;= &#45;0.092</text>\n<text text-anchor=\"middle\" x=\"285\" y=\"-183.8\" font-family=\"Helvetica,sans-Serif\" font-size=\"14.00\">samples = 85.2%</text>\n<text text-anchor=\"middle\" x=\"285\" y=\"-168.8\" font-family=\"Helvetica,sans-Serif\" font-size=\"14.00\">value = [0.173, 0.827]</text>\n</g>\n<!-- 0&#45;&gt;1 -->\n<g id=\"edge1\" class=\"edge\">\n<title>0&#45;&gt;1</title>\n<path fill=\"none\" stroke=\"black\" d=\"M358.36,-249.87C347.45,-240.75 335.03,-230.35 323.55,-220.75\"/>\n<polygon fill=\"black\" stroke=\"black\" points=\"325.7,-217.98 315.78,-214.25 321.21,-223.35 325.7,-217.98\"/>\n<text text-anchor=\"middle\" x=\"318\" y=\"-235.45\" font-family=\"Helvetica,sans-Serif\" font-size=\"14.00\">True</text>\n</g>\n<!-- 8 -->\n<g id=\"node9\" class=\"node\">\n<title>8</title>\n<polygon fill=\"#e78946\" stroke=\"black\" points=\"578.5,-214 407.5,-214 407.5,-161 578.5,-161 578.5,-214\"/>\n<text text-anchor=\"middle\" x=\"493\" y=\"-198.8\" font-family=\"Helvetica,sans-Serif\" font-size=\"14.00\">TVOC[ppb] &lt;= &#45;0.247</text>\n<text text-anchor=\"middle\" x=\"493\" y=\"-183.8\" font-family=\"Helvetica,sans-Serif\" font-size=\"14.00\">samples = 14.8%</text>\n<text text-anchor=\"middle\" x=\"493\" y=\"-168.8\" font-family=\"Helvetica,sans-Serif\" font-size=\"14.00\">value = [0.94, 0.06]</text>\n</g>\n<!-- 0&#45;&gt;8 -->\n<g id=\"edge8\" class=\"edge\">\n<title>0&#45;&gt;8</title>\n<path fill=\"none\" stroke=\"black\" d=\"M419.64,-249.87C430.55,-240.75 442.97,-230.35 454.45,-220.75\"/>\n<polygon fill=\"black\" stroke=\"black\" points=\"456.79,-223.35 462.22,-214.25 452.3,-217.98 456.79,-223.35\"/>\n<text text-anchor=\"middle\" x=\"460\" y=\"-235.45\" font-family=\"Helvetica,sans-Serif\" font-size=\"14.00\">False</text>\n</g>\n<!-- 2 -->\n<g id=\"node3\" class=\"node\">\n<title>2</title>\n<polygon fill=\"#f9e4d5\" stroke=\"black\" points=\"176,-125 0,-125 0,-72 176,-72 176,-125\"/>\n<text text-anchor=\"middle\" x=\"88\" y=\"-109.8\" font-family=\"Helvetica,sans-Serif\" font-size=\"14.00\">Raw Ethanol &lt;= 0.195</text>\n<text text-anchor=\"middle\" x=\"88\" y=\"-94.8\" font-family=\"Helvetica,sans-Serif\" font-size=\"14.00\">samples = 22.6%</text>\n<text text-anchor=\"middle\" x=\"88\" y=\"-79.8\" font-family=\"Helvetica,sans-Serif\" font-size=\"14.00\">value = [0.56, 0.44]</text>\n</g>\n<!-- 1&#45;&gt;2 -->\n<g id=\"edge2\" class=\"edge\">\n<title>1&#45;&gt;2</title>\n<path fill=\"none\" stroke=\"black\" d=\"M227.22,-160.98C204.57,-150.98 178.43,-139.44 154.96,-129.07\"/>\n<polygon fill=\"black\" stroke=\"black\" points=\"156.34,-125.85 145.77,-125.01 153.51,-132.26 156.34,-125.85\"/>\n</g>\n<!-- 5 -->\n<g id=\"node6\" class=\"node\">\n<title>5</title>\n<polygon fill=\"#40a0e6\" stroke=\"black\" points=\"376,-125 194,-125 194,-72 376,-72 376,-125\"/>\n<text text-anchor=\"middle\" x=\"285\" y=\"-109.8\" font-family=\"Helvetica,sans-Serif\" font-size=\"14.00\">Humidity[%] &lt;= &#45;1.761</text>\n<text text-anchor=\"middle\" x=\"285\" y=\"-94.8\" font-family=\"Helvetica,sans-Serif\" font-size=\"14.00\">samples = 62.5%</text>\n<text text-anchor=\"middle\" x=\"285\" y=\"-79.8\" font-family=\"Helvetica,sans-Serif\" font-size=\"14.00\">value = [0.034, 0.966]</text>\n</g>\n<!-- 1&#45;&gt;5 -->\n<g id=\"edge5\" class=\"edge\">\n<title>1&#45;&gt;5</title>\n<path fill=\"none\" stroke=\"black\" d=\"M285,-160.87C285,-152.89 285,-143.93 285,-135.38\"/>\n<polygon fill=\"black\" stroke=\"black\" points=\"288.5,-135.25 285,-125.25 281.5,-135.25 288.5,-135.25\"/>\n</g>\n<!-- 3 -->\n<g id=\"node4\" class=\"node\">\n<title>3</title>\n<polygon fill=\"#c0c0c0\" stroke=\"black\" points=\"79,-36 25,-36 25,0 79,0 79,-36\"/>\n<text text-anchor=\"middle\" x=\"52\" y=\"-14.3\" font-family=\"Helvetica,sans-Serif\" font-size=\"14.00\">(...)</text>\n</g>\n<!-- 2&#45;&gt;3 -->\n<g id=\"edge3\" class=\"edge\">\n<title>2&#45;&gt;3</title>\n<path fill=\"none\" stroke=\"black\" d=\"M76.21,-71.8C72.34,-63.35 68.03,-53.95 64.13,-45.45\"/>\n<polygon fill=\"black\" stroke=\"black\" points=\"67.3,-43.96 59.95,-36.33 60.93,-46.88 67.3,-43.96\"/>\n</g>\n<!-- 4 -->\n<g id=\"node5\" class=\"node\">\n<title>4</title>\n<polygon fill=\"#c0c0c0\" stroke=\"black\" points=\"151,-36 97,-36 97,0 151,0 151,-36\"/>\n<text text-anchor=\"middle\" x=\"124\" y=\"-14.3\" font-family=\"Helvetica,sans-Serif\" font-size=\"14.00\">(...)</text>\n</g>\n<!-- 2&#45;&gt;4 -->\n<g id=\"edge4\" class=\"edge\">\n<title>2&#45;&gt;4</title>\n<path fill=\"none\" stroke=\"black\" d=\"M99.79,-71.8C103.66,-63.35 107.97,-53.95 111.87,-45.45\"/>\n<polygon fill=\"black\" stroke=\"black\" points=\"115.07,-46.88 116.05,-36.33 108.7,-43.96 115.07,-46.88\"/>\n</g>\n<!-- 6 -->\n<g id=\"node7\" class=\"node\">\n<title>6</title>\n<polygon fill=\"#c0c0c0\" stroke=\"black\" points=\"292,-36 238,-36 238,0 292,0 292,-36\"/>\n<text text-anchor=\"middle\" x=\"265\" y=\"-14.3\" font-family=\"Helvetica,sans-Serif\" font-size=\"14.00\">(...)</text>\n</g>\n<!-- 5&#45;&gt;6 -->\n<g id=\"edge6\" class=\"edge\">\n<title>5&#45;&gt;6</title>\n<path fill=\"none\" stroke=\"black\" d=\"M278.45,-71.8C276.37,-63.62 274.06,-54.55 271.95,-46.27\"/>\n<polygon fill=\"black\" stroke=\"black\" points=\"275.28,-45.16 269.42,-36.33 268.49,-46.88 275.28,-45.16\"/>\n</g>\n<!-- 7 -->\n<g id=\"node8\" class=\"node\">\n<title>7</title>\n<polygon fill=\"#c0c0c0\" stroke=\"black\" points=\"364,-36 310,-36 310,0 364,0 364,-36\"/>\n<text text-anchor=\"middle\" x=\"337\" y=\"-14.3\" font-family=\"Helvetica,sans-Serif\" font-size=\"14.00\">(...)</text>\n</g>\n<!-- 5&#45;&gt;7 -->\n<g id=\"edge7\" class=\"edge\">\n<title>5&#45;&gt;7</title>\n<path fill=\"none\" stroke=\"black\" d=\"M302.03,-71.8C307.74,-63.17 314.12,-53.54 319.84,-44.9\"/>\n<polygon fill=\"black\" stroke=\"black\" points=\"322.92,-46.6 325.52,-36.33 317.08,-42.73 322.92,-46.6\"/>\n</g>\n<!-- 9 -->\n<g id=\"node10\" class=\"node\">\n<title>9</title>\n<polygon fill=\"#f0b88f\" stroke=\"black\" points=\"591.5,-125 394.5,-125 394.5,-72 591.5,-72 591.5,-125\"/>\n<text text-anchor=\"middle\" x=\"493\" y=\"-109.8\" font-family=\"Helvetica,sans-Serif\" font-size=\"14.00\">Temperature[C] &lt;= 0.987</text>\n<text text-anchor=\"middle\" x=\"493\" y=\"-94.8\" font-family=\"Helvetica,sans-Serif\" font-size=\"14.00\">samples = 2.4%</text>\n<text text-anchor=\"middle\" x=\"493\" y=\"-79.8\" font-family=\"Helvetica,sans-Serif\" font-size=\"14.00\">value = [0.696, 0.304]</text>\n</g>\n<!-- 8&#45;&gt;9 -->\n<g id=\"edge9\" class=\"edge\">\n<title>8&#45;&gt;9</title>\n<path fill=\"none\" stroke=\"black\" d=\"M493,-160.87C493,-152.89 493,-143.93 493,-135.38\"/>\n<polygon fill=\"black\" stroke=\"black\" points=\"496.5,-135.25 493,-125.25 489.5,-135.25 496.5,-135.25\"/>\n</g>\n<!-- 12 -->\n<g id=\"node13\" class=\"node\">\n<title>12</title>\n<polygon fill=\"#e5833c\" stroke=\"black\" points=\"786,-125 610,-125 610,-72 786,-72 786,-125\"/>\n<text text-anchor=\"middle\" x=\"698\" y=\"-109.8\" font-family=\"Helvetica,sans-Serif\" font-size=\"14.00\">Raw H2 &lt;= &#45;0.743</text>\n<text text-anchor=\"middle\" x=\"698\" y=\"-94.8\" font-family=\"Helvetica,sans-Serif\" font-size=\"14.00\">samples = 12.5%</text>\n<text text-anchor=\"middle\" x=\"698\" y=\"-79.8\" font-family=\"Helvetica,sans-Serif\" font-size=\"14.00\">value = [0.985, 0.015]</text>\n</g>\n<!-- 8&#45;&gt;12 -->\n<g id=\"edge12\" class=\"edge\">\n<title>8&#45;&gt;12</title>\n<path fill=\"none\" stroke=\"black\" d=\"M553.12,-160.98C576.8,-150.94 604.13,-139.34 628.64,-128.94\"/>\n<polygon fill=\"black\" stroke=\"black\" points=\"630.04,-132.14 637.88,-125.01 627.31,-125.7 630.04,-132.14\"/>\n</g>\n<!-- 10 -->\n<g id=\"node11\" class=\"node\">\n<title>10</title>\n<polygon fill=\"#c0c0c0\" stroke=\"black\" points=\"468,-36 414,-36 414,0 468,0 468,-36\"/>\n<text text-anchor=\"middle\" x=\"441\" y=\"-14.3\" font-family=\"Helvetica,sans-Serif\" font-size=\"14.00\">(...)</text>\n</g>\n<!-- 9&#45;&gt;10 -->\n<g id=\"edge10\" class=\"edge\">\n<title>9&#45;&gt;10</title>\n<path fill=\"none\" stroke=\"black\" d=\"M475.97,-71.8C470.26,-63.17 463.88,-53.54 458.16,-44.9\"/>\n<polygon fill=\"black\" stroke=\"black\" points=\"460.92,-42.73 452.48,-36.33 455.08,-46.6 460.92,-42.73\"/>\n</g>\n<!-- 11 -->\n<g id=\"node12\" class=\"node\">\n<title>11</title>\n<polygon fill=\"#c0c0c0\" stroke=\"black\" points=\"540,-36 486,-36 486,0 540,0 540,-36\"/>\n<text text-anchor=\"middle\" x=\"513\" y=\"-14.3\" font-family=\"Helvetica,sans-Serif\" font-size=\"14.00\">(...)</text>\n</g>\n<!-- 9&#45;&gt;11 -->\n<g id=\"edge11\" class=\"edge\">\n<title>9&#45;&gt;11</title>\n<path fill=\"none\" stroke=\"black\" d=\"M499.55,-71.8C501.63,-63.62 503.94,-54.55 506.05,-46.27\"/>\n<polygon fill=\"black\" stroke=\"black\" points=\"509.51,-46.88 508.58,-36.33 502.72,-45.16 509.51,-46.88\"/>\n</g>\n<!-- 13 -->\n<g id=\"node14\" class=\"node\">\n<title>13</title>\n<polygon fill=\"#c0c0c0\" stroke=\"black\" points=\"689,-36 635,-36 635,0 689,0 689,-36\"/>\n<text text-anchor=\"middle\" x=\"662\" y=\"-14.3\" font-family=\"Helvetica,sans-Serif\" font-size=\"14.00\">(...)</text>\n</g>\n<!-- 12&#45;&gt;13 -->\n<g id=\"edge13\" class=\"edge\">\n<title>12&#45;&gt;13</title>\n<path fill=\"none\" stroke=\"black\" d=\"M686.21,-71.8C682.34,-63.35 678.03,-53.95 674.13,-45.45\"/>\n<polygon fill=\"black\" stroke=\"black\" points=\"677.3,-43.96 669.95,-36.33 670.93,-46.88 677.3,-43.96\"/>\n</g>\n<!-- 14 -->\n<g id=\"node15\" class=\"node\">\n<title>14</title>\n<polygon fill=\"#c0c0c0\" stroke=\"black\" points=\"761,-36 707,-36 707,0 761,0 761,-36\"/>\n<text text-anchor=\"middle\" x=\"734\" y=\"-14.3\" font-family=\"Helvetica,sans-Serif\" font-size=\"14.00\">(...)</text>\n</g>\n<!-- 12&#45;&gt;14 -->\n<g id=\"edge14\" class=\"edge\">\n<title>12&#45;&gt;14</title>\n<path fill=\"none\" stroke=\"black\" d=\"M709.79,-71.8C713.66,-63.35 717.97,-53.95 721.87,-45.45\"/>\n<polygon fill=\"black\" stroke=\"black\" points=\"725.07,-46.88 726.05,-36.33 718.7,-43.96 725.07,-46.88\"/>\n</g>\n</g>\n</svg>\n",
      "text/plain": "<graphviz.sources.Source at 0x7f2b3e754f70>"
     },
     "metadata": {},
     "output_type": "display_data"
    },
    {
     "data": {
      "image/svg+xml": "<?xml version=\"1.0\" encoding=\"UTF-8\" standalone=\"no\"?>\n<!DOCTYPE svg PUBLIC \"-//W3C//DTD SVG 1.1//EN\"\n \"http://www.w3.org/Graphics/SVG/1.1/DTD/svg11.dtd\">\n<!-- Generated by graphviz version 2.43.0 (0)\n -->\n<!-- Title: Tree Pages: 1 -->\n<svg width=\"795pt\" height=\"311pt\"\n viewBox=\"0.00 0.00 794.50 311.00\" xmlns=\"http://www.w3.org/2000/svg\" xmlns:xlink=\"http://www.w3.org/1999/xlink\">\n<g id=\"graph0\" class=\"graph\" transform=\"scale(1 1) rotate(0) translate(4 307)\">\n<title>Tree</title>\n<polygon fill=\"white\" stroke=\"transparent\" points=\"-4,4 -4,-307 790.5,-307 790.5,4 -4,4\"/>\n<!-- 0 -->\n<g id=\"node1\" class=\"node\">\n<title>0</title>\n<polygon fill=\"#8ac5f0\" stroke=\"black\" points=\"495.5,-303 313.5,-303 313.5,-250 495.5,-250 495.5,-303\"/>\n<text text-anchor=\"middle\" x=\"404.5\" y=\"-287.8\" font-family=\"Helvetica,sans-Serif\" font-size=\"14.00\">Humidity[%] &lt;= &#45;0.196</text>\n<text text-anchor=\"middle\" x=\"404.5\" y=\"-272.8\" font-family=\"Helvetica,sans-Serif\" font-size=\"14.00\">samples = 100.0%</text>\n<text text-anchor=\"middle\" x=\"404.5\" y=\"-257.8\" font-family=\"Helvetica,sans-Serif\" font-size=\"14.00\">value = [0.289, 0.711]</text>\n</g>\n<!-- 1 -->\n<g id=\"node2\" class=\"node\">\n<title>1</title>\n<polygon fill=\"#e89253\" stroke=\"black\" points=\"399.5,-214 209.5,-214 209.5,-161 399.5,-161 399.5,-214\"/>\n<text text-anchor=\"middle\" x=\"304.5\" y=\"-198.8\" font-family=\"Helvetica,sans-Serif\" font-size=\"14.00\">Pressure[hPa] &lt;= &#45;3.544</text>\n<text text-anchor=\"middle\" x=\"304.5\" y=\"-183.8\" font-family=\"Helvetica,sans-Serif\" font-size=\"14.00\">samples = 17.5%</text>\n<text text-anchor=\"middle\" x=\"304.5\" y=\"-168.8\" font-family=\"Helvetica,sans-Serif\" font-size=\"14.00\">value = [0.883, 0.117]</text>\n</g>\n<!-- 0&#45;&gt;1 -->\n<g id=\"edge1\" class=\"edge\">\n<title>0&#45;&gt;1</title>\n<path fill=\"none\" stroke=\"black\" d=\"M375.04,-249.87C364.65,-240.83 352.84,-230.55 341.89,-221.03\"/>\n<polygon fill=\"black\" stroke=\"black\" points=\"343.94,-218.17 334.1,-214.25 339.34,-223.45 343.94,-218.17\"/>\n<text text-anchor=\"middle\" x=\"335.83\" y=\"-235.49\" font-family=\"Helvetica,sans-Serif\" font-size=\"14.00\">True</text>\n</g>\n<!-- 8 -->\n<g id=\"node9\" class=\"node\">\n<title>8</title>\n<polygon fill=\"#5fb0ea\" stroke=\"black\" points=\"593.5,-214 417.5,-214 417.5,-161 593.5,-161 593.5,-214\"/>\n<text text-anchor=\"middle\" x=\"505.5\" y=\"-198.8\" font-family=\"Helvetica,sans-Serif\" font-size=\"14.00\">NC1.0 &lt;= &#45;0.091</text>\n<text text-anchor=\"middle\" x=\"505.5\" y=\"-183.8\" font-family=\"Helvetica,sans-Serif\" font-size=\"14.00\">samples = 82.5%</text>\n<text text-anchor=\"middle\" x=\"505.5\" y=\"-168.8\" font-family=\"Helvetica,sans-Serif\" font-size=\"14.00\">value = [0.162, 0.838]</text>\n</g>\n<!-- 0&#45;&gt;8 -->\n<g id=\"edge8\" class=\"edge\">\n<title>0&#45;&gt;8</title>\n<path fill=\"none\" stroke=\"black\" d=\"M434.26,-249.87C444.75,-240.83 456.68,-230.55 467.74,-221.03\"/>\n<polygon fill=\"black\" stroke=\"black\" points=\"470.31,-223.43 475.61,-214.25 465.75,-218.12 470.31,-223.43\"/>\n<text text-anchor=\"middle\" x=\"473.75\" y=\"-235.48\" font-family=\"Helvetica,sans-Serif\" font-size=\"14.00\">False</text>\n</g>\n<!-- 2 -->\n<g id=\"node3\" class=\"node\">\n<title>2</title>\n<polygon fill=\"#3d9fe6\" stroke=\"black\" points=\"197,-125 0,-125 0,-72 197,-72 197,-125\"/>\n<text text-anchor=\"middle\" x=\"98.5\" y=\"-109.8\" font-family=\"Helvetica,sans-Serif\" font-size=\"14.00\">Temperature[C] &lt;= 0.515</text>\n<text text-anchor=\"middle\" x=\"98.5\" y=\"-94.8\" font-family=\"Helvetica,sans-Serif\" font-size=\"14.00\">samples = 1.7%</text>\n<text text-anchor=\"middle\" x=\"98.5\" y=\"-79.8\" font-family=\"Helvetica,sans-Serif\" font-size=\"14.00\">value = [0.022, 0.978]</text>\n</g>\n<!-- 1&#45;&gt;2 -->\n<g id=\"edge2\" class=\"edge\">\n<title>1&#45;&gt;2</title>\n<path fill=\"none\" stroke=\"black\" d=\"M244.09,-160.98C220.29,-150.94 192.82,-139.34 168.2,-128.94\"/>\n<polygon fill=\"black\" stroke=\"black\" points=\"169.49,-125.68 158.91,-125.01 166.76,-132.13 169.49,-125.68\"/>\n</g>\n<!-- 5 -->\n<g id=\"node6\" class=\"node\">\n<title>5</title>\n<polygon fill=\"#e6843e\" stroke=\"black\" points=\"396,-125 215,-125 215,-72 396,-72 396,-125\"/>\n<text text-anchor=\"middle\" x=\"305.5\" y=\"-109.8\" font-family=\"Helvetica,sans-Serif\" font-size=\"14.00\">Pressure[hPa] &lt;= &#45;0.35</text>\n<text text-anchor=\"middle\" x=\"305.5\" y=\"-94.8\" font-family=\"Helvetica,sans-Serif\" font-size=\"14.00\">samples = 15.9%</text>\n<text text-anchor=\"middle\" x=\"305.5\" y=\"-79.8\" font-family=\"Helvetica,sans-Serif\" font-size=\"14.00\">value = [0.975, 0.025]</text>\n</g>\n<!-- 1&#45;&gt;5 -->\n<g id=\"edge5\" class=\"edge\">\n<title>1&#45;&gt;5</title>\n<path fill=\"none\" stroke=\"black\" d=\"M304.79,-160.87C304.89,-152.89 304.99,-143.93 305.09,-135.38\"/>\n<polygon fill=\"black\" stroke=\"black\" points=\"308.59,-135.29 305.2,-125.25 301.59,-135.21 308.59,-135.29\"/>\n</g>\n<!-- 3 -->\n<g id=\"node4\" class=\"node\">\n<title>3</title>\n<polygon fill=\"#c0c0c0\" stroke=\"black\" points=\"89.5,-36 35.5,-36 35.5,0 89.5,0 89.5,-36\"/>\n<text text-anchor=\"middle\" x=\"62.5\" y=\"-14.3\" font-family=\"Helvetica,sans-Serif\" font-size=\"14.00\">(...)</text>\n</g>\n<!-- 2&#45;&gt;3 -->\n<g id=\"edge3\" class=\"edge\">\n<title>2&#45;&gt;3</title>\n<path fill=\"none\" stroke=\"black\" d=\"M86.71,-71.8C82.84,-63.35 78.53,-53.95 74.63,-45.45\"/>\n<polygon fill=\"black\" stroke=\"black\" points=\"77.8,-43.96 70.45,-36.33 71.43,-46.88 77.8,-43.96\"/>\n</g>\n<!-- 4 -->\n<g id=\"node5\" class=\"node\">\n<title>4</title>\n<polygon fill=\"#c0c0c0\" stroke=\"black\" points=\"161.5,-36 107.5,-36 107.5,0 161.5,0 161.5,-36\"/>\n<text text-anchor=\"middle\" x=\"134.5\" y=\"-14.3\" font-family=\"Helvetica,sans-Serif\" font-size=\"14.00\">(...)</text>\n</g>\n<!-- 2&#45;&gt;4 -->\n<g id=\"edge4\" class=\"edge\">\n<title>2&#45;&gt;4</title>\n<path fill=\"none\" stroke=\"black\" d=\"M110.29,-71.8C114.16,-63.35 118.47,-53.95 122.37,-45.45\"/>\n<polygon fill=\"black\" stroke=\"black\" points=\"125.57,-46.88 126.55,-36.33 119.2,-43.96 125.57,-46.88\"/>\n</g>\n<!-- 6 -->\n<g id=\"node7\" class=\"node\">\n<title>6</title>\n<polygon fill=\"#c0c0c0\" stroke=\"black\" points=\"310.5,-36 256.5,-36 256.5,0 310.5,0 310.5,-36\"/>\n<text text-anchor=\"middle\" x=\"283.5\" y=\"-14.3\" font-family=\"Helvetica,sans-Serif\" font-size=\"14.00\">(...)</text>\n</g>\n<!-- 5&#45;&gt;6 -->\n<g id=\"edge6\" class=\"edge\">\n<title>5&#45;&gt;6</title>\n<path fill=\"none\" stroke=\"black\" d=\"M298.3,-71.8C295.98,-63.53 293.41,-54.35 291.07,-46\"/>\n<polygon fill=\"black\" stroke=\"black\" points=\"294.43,-45.01 288.36,-36.33 287.69,-46.9 294.43,-45.01\"/>\n</g>\n<!-- 7 -->\n<g id=\"node8\" class=\"node\">\n<title>7</title>\n<polygon fill=\"#c0c0c0\" stroke=\"black\" points=\"382.5,-36 328.5,-36 328.5,0 382.5,0 382.5,-36\"/>\n<text text-anchor=\"middle\" x=\"355.5\" y=\"-14.3\" font-family=\"Helvetica,sans-Serif\" font-size=\"14.00\">(...)</text>\n</g>\n<!-- 5&#45;&gt;7 -->\n<g id=\"edge7\" class=\"edge\">\n<title>5&#45;&gt;7</title>\n<path fill=\"none\" stroke=\"black\" d=\"M321.87,-71.8C327.37,-63.17 333.5,-53.54 339,-44.9\"/>\n<polygon fill=\"black\" stroke=\"black\" points=\"342.04,-46.65 344.46,-36.33 336.14,-42.88 342.04,-46.65\"/>\n</g>\n<!-- 9 -->\n<g id=\"node10\" class=\"node\">\n<title>9</title>\n<polygon fill=\"#fefaf7\" stroke=\"black\" points=\"592.5,-125 416.5,-125 416.5,-72 592.5,-72 592.5,-125\"/>\n<text text-anchor=\"middle\" x=\"504.5\" y=\"-109.8\" font-family=\"Helvetica,sans-Serif\" font-size=\"14.00\">NC0.5 &lt;= &#45;0.114</text>\n<text text-anchor=\"middle\" x=\"504.5\" y=\"-94.8\" font-family=\"Helvetica,sans-Serif\" font-size=\"14.00\">samples = 20.5%</text>\n<text text-anchor=\"middle\" x=\"504.5\" y=\"-79.8\" font-family=\"Helvetica,sans-Serif\" font-size=\"14.00\">value = [0.511, 0.489]</text>\n</g>\n<!-- 8&#45;&gt;9 -->\n<g id=\"edge9\" class=\"edge\">\n<title>8&#45;&gt;9</title>\n<path fill=\"none\" stroke=\"black\" d=\"M505.21,-160.87C505.11,-152.89 505.01,-143.93 504.91,-135.38\"/>\n<polygon fill=\"black\" stroke=\"black\" points=\"508.41,-135.21 504.8,-125.25 501.41,-135.29 508.41,-135.21\"/>\n</g>\n<!-- 12 -->\n<g id=\"node13\" class=\"node\">\n<title>12</title>\n<polygon fill=\"#43a2e6\" stroke=\"black\" points=\"786.5,-125 610.5,-125 610.5,-72 786.5,-72 786.5,-125\"/>\n<text text-anchor=\"middle\" x=\"698.5\" y=\"-109.8\" font-family=\"Helvetica,sans-Serif\" font-size=\"14.00\">Raw Ethanol &lt;= 1.134</text>\n<text text-anchor=\"middle\" x=\"698.5\" y=\"-94.8\" font-family=\"Helvetica,sans-Serif\" font-size=\"14.00\">samples = 61.9%</text>\n<text text-anchor=\"middle\" x=\"698.5\" y=\"-79.8\" font-family=\"Helvetica,sans-Serif\" font-size=\"14.00\">value = [0.046, 0.954]</text>\n</g>\n<!-- 8&#45;&gt;12 -->\n<g id=\"edge12\" class=\"edge\">\n<title>8&#45;&gt;12</title>\n<path fill=\"none\" stroke=\"black\" d=\"M562.1,-160.98C584.2,-151.03 609.68,-139.54 632.59,-129.21\"/>\n<polygon fill=\"black\" stroke=\"black\" points=\"634.22,-132.31 641.9,-125.01 631.34,-125.93 634.22,-132.31\"/>\n</g>\n<!-- 10 -->\n<g id=\"node11\" class=\"node\">\n<title>10</title>\n<polygon fill=\"#c0c0c0\" stroke=\"black\" points=\"480.5,-36 426.5,-36 426.5,0 480.5,0 480.5,-36\"/>\n<text text-anchor=\"middle\" x=\"453.5\" y=\"-14.3\" font-family=\"Helvetica,sans-Serif\" font-size=\"14.00\">(...)</text>\n</g>\n<!-- 9&#45;&gt;10 -->\n<g id=\"edge10\" class=\"edge\">\n<title>9&#45;&gt;10</title>\n<path fill=\"none\" stroke=\"black\" d=\"M487.8,-71.8C482.19,-63.17 475.94,-53.54 470.33,-44.9\"/>\n<polygon fill=\"black\" stroke=\"black\" points=\"473.14,-42.81 464.76,-36.33 467.27,-46.62 473.14,-42.81\"/>\n</g>\n<!-- 11 -->\n<g id=\"node12\" class=\"node\">\n<title>11</title>\n<polygon fill=\"#c0c0c0\" stroke=\"black\" points=\"552.5,-36 498.5,-36 498.5,0 552.5,0 552.5,-36\"/>\n<text text-anchor=\"middle\" x=\"525.5\" y=\"-14.3\" font-family=\"Helvetica,sans-Serif\" font-size=\"14.00\">(...)</text>\n</g>\n<!-- 9&#45;&gt;11 -->\n<g id=\"edge11\" class=\"edge\">\n<title>9&#45;&gt;11</title>\n<path fill=\"none\" stroke=\"black\" d=\"M511.38,-71.8C513.59,-63.53 516.04,-54.35 518.28,-46\"/>\n<polygon fill=\"black\" stroke=\"black\" points=\"521.66,-46.9 520.86,-36.33 514.9,-45.09 521.66,-46.9\"/>\n</g>\n<!-- 13 -->\n<g id=\"node14\" class=\"node\">\n<title>13</title>\n<polygon fill=\"#c0c0c0\" stroke=\"black\" points=\"689.5,-36 635.5,-36 635.5,0 689.5,0 689.5,-36\"/>\n<text text-anchor=\"middle\" x=\"662.5\" y=\"-14.3\" font-family=\"Helvetica,sans-Serif\" font-size=\"14.00\">(...)</text>\n</g>\n<!-- 12&#45;&gt;13 -->\n<g id=\"edge13\" class=\"edge\">\n<title>12&#45;&gt;13</title>\n<path fill=\"none\" stroke=\"black\" d=\"M686.71,-71.8C682.84,-63.35 678.53,-53.95 674.63,-45.45\"/>\n<polygon fill=\"black\" stroke=\"black\" points=\"677.8,-43.96 670.45,-36.33 671.43,-46.88 677.8,-43.96\"/>\n</g>\n<!-- 14 -->\n<g id=\"node15\" class=\"node\">\n<title>14</title>\n<polygon fill=\"#c0c0c0\" stroke=\"black\" points=\"761.5,-36 707.5,-36 707.5,0 761.5,0 761.5,-36\"/>\n<text text-anchor=\"middle\" x=\"734.5\" y=\"-14.3\" font-family=\"Helvetica,sans-Serif\" font-size=\"14.00\">(...)</text>\n</g>\n<!-- 12&#45;&gt;14 -->\n<g id=\"edge14\" class=\"edge\">\n<title>12&#45;&gt;14</title>\n<path fill=\"none\" stroke=\"black\" d=\"M710.29,-71.8C714.16,-63.35 718.47,-53.95 722.37,-45.45\"/>\n<polygon fill=\"black\" stroke=\"black\" points=\"725.57,-46.88 726.55,-36.33 719.2,-43.96 725.57,-46.88\"/>\n</g>\n</g>\n</svg>\n",
      "text/plain": "<graphviz.sources.Source at 0x7f2af8b1fee0>"
     },
     "metadata": {},
     "output_type": "display_data"
    }
   ],
   "source": [
    "for i in range(3):\n",
    "    tree = random_forest.estimators_[i]\n",
    "    dot_data = export_graphviz(tree,\n",
    "                               feature_names=X_train.columns,  \n",
    "                               filled=True,  \n",
    "                               max_depth=2, \n",
    "                               impurity=False, \n",
    "                               proportion=True)\n",
    "    graph = graphviz.Source(dot_data)\n",
    "    display(graph)"
   ],
   "metadata": {
    "collapsed": false,
    "ExecuteTime": {
     "end_time": "2023-10-04T20:16:16.984683719Z",
     "start_time": "2023-10-04T20:16:16.886167318Z"
    }
   },
   "id": "a2283ca14b7f93ab"
  },
  {
   "cell_type": "code",
   "execution_count": 17,
   "outputs": [
    {
     "name": "stdout",
     "output_type": "stream",
     "text": [
      "[[3476   23]\n",
      " [  71 8956]]\n",
      "\n",
      "              precision    recall  f1-score   support\n",
      "\n",
      "           0       0.98      0.99      0.99      3499\n",
      "           1       1.00      0.99      0.99      9027\n",
      "\n",
      "    accuracy                           0.99     12526\n",
      "   macro avg       0.99      0.99      0.99     12526\n",
      "weighted avg       0.99      0.99      0.99     12526\n"
     ]
    }
   ],
   "source": [
    "random_forest = RandomForestClassifier(max_depth=3, random_state=1)\n",
    "\n",
    "random_forest.fit(scaled_X_train, y_train)\n",
    "pred = random_forest.predict(scaled_X_test)\n",
    "\n",
    "print(confusion_matrix(y_test,pred))\n",
    "print()\n",
    "print(classification_report(y_test,pred))"
   ],
   "metadata": {
    "collapsed": false,
    "ExecuteTime": {
     "end_time": "2023-10-04T20:05:52.494414282Z",
     "start_time": "2023-10-04T20:05:49.799751721Z"
    }
   },
   "id": "9633f94194cb5b56"
  },
  {
   "cell_type": "markdown",
   "source": [],
   "metadata": {
    "collapsed": false
   },
   "id": "66e7fb688318d579"
  }
 ],
 "metadata": {
  "kernelspec": {
   "display_name": "Python 3",
   "language": "python",
   "name": "python3"
  },
  "language_info": {
   "codemirror_mode": {
    "name": "ipython",
    "version": 2
   },
   "file_extension": ".py",
   "mimetype": "text/x-python",
   "name": "python",
   "nbconvert_exporter": "python",
   "pygments_lexer": "ipython2",
   "version": "2.7.6"
  }
 },
 "nbformat": 4,
 "nbformat_minor": 5
}
